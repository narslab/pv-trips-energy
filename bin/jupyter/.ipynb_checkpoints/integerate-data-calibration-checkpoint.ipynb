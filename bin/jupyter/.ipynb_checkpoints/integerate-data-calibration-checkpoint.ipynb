{
 "cells": [
  {
   "cell_type": "code",
   "execution_count": 3312,
   "id": "119e630a-bee6-4e6c-8493-ce1866a3381f",
   "metadata": {},
   "outputs": [],
   "source": [
    "import pandas as pd\n",
    "import matplotlib.pyplot as plt\n",
    "import datetime as dt\n",
    "from matplotlib.pyplot import figure\n",
    "import matplotlib.dates as mdates\n",
    "import datetime\n",
    "import seaborn as sns\n",
    "import numpy as np\n",
    "import math\n",
    "from sklearn.model_selection import train_test_split\n",
    "import statsmodels.api as sm"
   ]
  },
  {
   "cell_type": "code",
   "execution_count": 3266,
   "id": "0ca32361-873d-4827-833b-ae979af54792",
   "metadata": {},
   "outputs": [],
   "source": [
    "df_validation = pd.read_csv(r'../../data/tidy/energy_validation_april2022.csv', delimiter=',', skiprows=0, low_memory=False)"
   ]
  },
  {
   "cell_type": "code",
   "execution_count": 3267,
   "id": "e73bdf49-6b9e-4798-95e8-0831aa53349d",
   "metadata": {},
   "outputs": [],
   "source": [
    "df_model = pd.read_csv(r'../../results/computed-fuel-rates.csv', delimiter=',', skiprows=0, low_memory=False)"
   ]
  },
  {
   "cell_type": "code",
   "execution_count": 3268,
   "id": "bd394d11",
   "metadata": {},
   "outputs": [
    {
     "data": {
      "text/plain": [
       "174"
      ]
     },
     "execution_count": 3268,
     "metadata": {},
     "output_type": "execute_result"
    }
   ],
   "source": [
    "len(df_validation['equipment_id'].unique())"
   ]
  },
  {
   "cell_type": "code",
   "execution_count": 3269,
   "id": "5f15c32d",
   "metadata": {},
   "outputs": [
    {
     "data": {
      "text/plain": [
       "Index(['Unnamed: 0.4', 'Unnamed: 0.3', 'Unnamed: 0.2', 'ServiceDateTime',\n",
       "       'Unnamed: 0', 'Unnamed: 0.1', 'DateKey', 'CalendarDate', 'Year',\n",
       "       'Month', 'OpKey', 'Operator', 'RtKey', 'RtKey2', 'Route', 'RouteName',\n",
       "       'TripKey', 'Trip', 'StopKey', 'Stop', 'StopName', 'Lat', 'Lon',\n",
       "       'Vehicle', 'VehicleType', 'SeatedCap', 'TotalCap', 'Boards', 'Alights',\n",
       "       'Onboard', 'Bike', 'Wheelchair', 'Weekday', 'Hour', 'Minute', 'Second',\n",
       "       'Date', 'Daytype', 'time', 'geometry', 'dist', 'Speed', 'Acceleration',\n",
       "       'time_delta', 'time_delta_in_seconds', 'Powertrain', 'VehicleModel',\n",
       "       'Vehicle_mass', 'Energy'],\n",
       "      dtype='object')"
      ]
     },
     "execution_count": 3269,
     "metadata": {},
     "output_type": "execute_result"
    }
   ],
   "source": [
    "df_model.columns"
   ]
  },
  {
   "cell_type": "code",
   "execution_count": 3270,
   "id": "8f650b99",
   "metadata": {},
   "outputs": [
    {
     "data": {
      "text/plain": [
       "178"
      ]
     },
     "execution_count": 3270,
     "metadata": {},
     "output_type": "execute_result"
    }
   ],
   "source": [
    "len(df_model['Vehicle'].unique())"
   ]
  },
  {
   "cell_type": "code",
   "execution_count": 3271,
   "id": "70e28b40",
   "metadata": {},
   "outputs": [
    {
     "data": {
      "text/plain": [
       "30"
      ]
     },
     "execution_count": 3271,
     "metadata": {},
     "output_type": "execute_result"
    }
   ],
   "source": [
    "len(df_validation['date'].unique())"
   ]
  },
  {
   "cell_type": "code",
   "execution_count": 3272,
   "id": "a2fc5603",
   "metadata": {},
   "outputs": [
    {
     "data": {
      "text/plain": [
       "30"
      ]
     },
     "execution_count": 3272,
     "metadata": {},
     "output_type": "execute_result"
    }
   ],
   "source": [
    "len(df_model['Date'].unique())"
   ]
  },
  {
   "cell_type": "code",
   "execution_count": 3273,
   "id": "dba3f766",
   "metadata": {},
   "outputs": [],
   "source": [
    "validation_vehicles=df_validation['equipment_id'].unique()"
   ]
  },
  {
   "cell_type": "code",
   "execution_count": 3274,
   "id": "f74024ce",
   "metadata": {},
   "outputs": [],
   "source": [
    "df_model_filtered=df_model.loc[df_model.Vehicle.isin(validation_vehicles)]"
   ]
  },
  {
   "cell_type": "code",
   "execution_count": 3275,
   "id": "45a2b59f",
   "metadata": {},
   "outputs": [],
   "source": [
    "df_model['Date']=pd.to_datetime(df_model['Date'])"
   ]
  },
  {
   "cell_type": "code",
   "execution_count": 3276,
   "id": "19012289",
   "metadata": {},
   "outputs": [
    {
     "data": {
      "text/html": [
       "<div>\n",
       "<style scoped>\n",
       "    .dataframe tbody tr th:only-of-type {\n",
       "        vertical-align: middle;\n",
       "    }\n",
       "\n",
       "    .dataframe tbody tr th {\n",
       "        vertical-align: top;\n",
       "    }\n",
       "\n",
       "    .dataframe thead th {\n",
       "        text-align: right;\n",
       "    }\n",
       "</style>\n",
       "<table border=\"1\" class=\"dataframe\">\n",
       "  <thead>\n",
       "    <tr style=\"text-align: right;\">\n",
       "      <th></th>\n",
       "      <th>Unnamed: 0.4</th>\n",
       "      <th>Unnamed: 0.3</th>\n",
       "      <th>Unnamed: 0.2</th>\n",
       "      <th>ServiceDateTime</th>\n",
       "      <th>Unnamed: 0</th>\n",
       "      <th>Unnamed: 0.1</th>\n",
       "      <th>DateKey</th>\n",
       "      <th>CalendarDate</th>\n",
       "      <th>Year</th>\n",
       "      <th>Month</th>\n",
       "      <th>...</th>\n",
       "      <th>geometry</th>\n",
       "      <th>dist</th>\n",
       "      <th>Speed</th>\n",
       "      <th>Acceleration</th>\n",
       "      <th>time_delta</th>\n",
       "      <th>time_delta_in_seconds</th>\n",
       "      <th>Powertrain</th>\n",
       "      <th>VehicleModel</th>\n",
       "      <th>Vehicle_mass</th>\n",
       "      <th>Energy</th>\n",
       "    </tr>\n",
       "  </thead>\n",
       "  <tbody>\n",
       "    <tr>\n",
       "      <th>2391</th>\n",
       "      <td>1297419</td>\n",
       "      <td>1297419</td>\n",
       "      <td>2391</td>\n",
       "      <td>2022-04-29 14:01:44</td>\n",
       "      <td>2391</td>\n",
       "      <td>1273034</td>\n",
       "      <td>8788</td>\n",
       "      <td>2022-04-29 00:00:00.000</td>\n",
       "      <td>2022</td>\n",
       "      <td>4</td>\n",
       "      <td>...</td>\n",
       "      <td>POINT (-72.52602 42.14098)</td>\n",
       "      <td>0.000000</td>\n",
       "      <td>0.000000</td>\n",
       "      <td>0.000000</td>\n",
       "      <td>0</td>\n",
       "      <td>0.0</td>\n",
       "      <td>electric</td>\n",
       "      <td>2021 NEW FLYER XE35 (ELECTRIC)</td>\n",
       "      <td>26900.0</td>\n",
       "      <td>0.000000</td>\n",
       "    </tr>\n",
       "    <tr>\n",
       "      <th>2392</th>\n",
       "      <td>1299038</td>\n",
       "      <td>1299038</td>\n",
       "      <td>2392</td>\n",
       "      <td>2022-04-29 14:28:20</td>\n",
       "      <td>2392</td>\n",
       "      <td>1273037</td>\n",
       "      <td>8788</td>\n",
       "      <td>2022-04-29 00:00:00.000</td>\n",
       "      <td>2022</td>\n",
       "      <td>4</td>\n",
       "      <td>...</td>\n",
       "      <td>POINT (-72.65278 42.19514)</td>\n",
       "      <td>8.829565</td>\n",
       "      <td>32.052117</td>\n",
       "      <td>0.005579</td>\n",
       "      <td>0 days 00:26:36</td>\n",
       "      <td>1596.0</td>\n",
       "      <td>electric</td>\n",
       "      <td>2021 NEW FLYER XE35 (ELECTRIC)</td>\n",
       "      <td>26900.0</td>\n",
       "      <td>7.899773</td>\n",
       "    </tr>\n",
       "    <tr>\n",
       "      <th>2393</th>\n",
       "      <td>1299039</td>\n",
       "      <td>1299039</td>\n",
       "      <td>2393</td>\n",
       "      <td>2022-04-29 14:28:20</td>\n",
       "      <td>2393</td>\n",
       "      <td>1273500</td>\n",
       "      <td>8788</td>\n",
       "      <td>2022-04-29 00:00:00.000</td>\n",
       "      <td>2022</td>\n",
       "      <td>4</td>\n",
       "      <td>...</td>\n",
       "      <td>POINT (-72.65278 42.19514)</td>\n",
       "      <td>0.000000</td>\n",
       "      <td>0.000000</td>\n",
       "      <td>0.000000</td>\n",
       "      <td>0 days 00:00:00</td>\n",
       "      <td>0.0</td>\n",
       "      <td>electric</td>\n",
       "      <td>2021 NEW FLYER XE35 (ELECTRIC)</td>\n",
       "      <td>26900.0</td>\n",
       "      <td>0.000000</td>\n",
       "    </tr>\n",
       "    <tr>\n",
       "      <th>2394</th>\n",
       "      <td>1299250</td>\n",
       "      <td>1299250</td>\n",
       "      <td>2394</td>\n",
       "      <td>2022-04-29 14:30:55</td>\n",
       "      <td>2394</td>\n",
       "      <td>1273501</td>\n",
       "      <td>8788</td>\n",
       "      <td>2022-04-29 00:00:00.000</td>\n",
       "      <td>2022</td>\n",
       "      <td>4</td>\n",
       "      <td>...</td>\n",
       "      <td>POINT (-72.64553 42.20302)</td>\n",
       "      <td>0.526585</td>\n",
       "      <td>19.682810</td>\n",
       "      <td>0.035274</td>\n",
       "      <td>0 days 00:02:35</td>\n",
       "      <td>155.0</td>\n",
       "      <td>electric</td>\n",
       "      <td>2021 NEW FLYER XE35 (ELECTRIC)</td>\n",
       "      <td>26900.0</td>\n",
       "      <td>0.644165</td>\n",
       "    </tr>\n",
       "    <tr>\n",
       "      <th>2395</th>\n",
       "      <td>1299272</td>\n",
       "      <td>1299272</td>\n",
       "      <td>2395</td>\n",
       "      <td>2022-04-29 14:31:09</td>\n",
       "      <td>2395</td>\n",
       "      <td>1273502</td>\n",
       "      <td>8788</td>\n",
       "      <td>2022-04-29 00:00:00.000</td>\n",
       "      <td>2022</td>\n",
       "      <td>4</td>\n",
       "      <td>...</td>\n",
       "      <td>POINT (-72.64369 42.20166)</td>\n",
       "      <td>0.130185</td>\n",
       "      <td>53.874613</td>\n",
       "      <td>0.678410</td>\n",
       "      <td>0 days 00:00:14</td>\n",
       "      <td>14.0</td>\n",
       "      <td>electric</td>\n",
       "      <td>2021 NEW FLYER XE35 (ELECTRIC)</td>\n",
       "      <td>26900.0</td>\n",
       "      <td>1.276279</td>\n",
       "    </tr>\n",
       "    <tr>\n",
       "      <th>...</th>\n",
       "      <td>...</td>\n",
       "      <td>...</td>\n",
       "      <td>...</td>\n",
       "      <td>...</td>\n",
       "      <td>...</td>\n",
       "      <td>...</td>\n",
       "      <td>...</td>\n",
       "      <td>...</td>\n",
       "      <td>...</td>\n",
       "      <td>...</td>\n",
       "      <td>...</td>\n",
       "      <td>...</td>\n",
       "      <td>...</td>\n",
       "      <td>...</td>\n",
       "      <td>...</td>\n",
       "      <td>...</td>\n",
       "      <td>...</td>\n",
       "      <td>...</td>\n",
       "      <td>...</td>\n",
       "      <td>...</td>\n",
       "      <td>...</td>\n",
       "    </tr>\n",
       "    <tr>\n",
       "      <th>1361544</th>\n",
       "      <td>1361526</td>\n",
       "      <td>1361526</td>\n",
       "      <td>1361544</td>\n",
       "      <td>2022-04-30 23:54:20</td>\n",
       "      <td>1361544</td>\n",
       "      <td>1325566</td>\n",
       "      <td>8789</td>\n",
       "      <td>2022-04-30 00:00:00.000</td>\n",
       "      <td>2022</td>\n",
       "      <td>4</td>\n",
       "      <td>...</td>\n",
       "      <td>POINT (-72.53185 42.38201)</td>\n",
       "      <td>0.254140</td>\n",
       "      <td>10.517075</td>\n",
       "      <td>0.003673</td>\n",
       "      <td>0 days 00:02:20</td>\n",
       "      <td>140.0</td>\n",
       "      <td>conventional</td>\n",
       "      <td>0</td>\n",
       "      <td>26900.0</td>\n",
       "      <td>0.070429</td>\n",
       "    </tr>\n",
       "    <tr>\n",
       "      <th>1361545</th>\n",
       "      <td>1361530</td>\n",
       "      <td>1361530</td>\n",
       "      <td>1361545</td>\n",
       "      <td>2022-04-30 23:55:24</td>\n",
       "      <td>1361545</td>\n",
       "      <td>1325567</td>\n",
       "      <td>8789</td>\n",
       "      <td>2022-04-30 00:00:00.000</td>\n",
       "      <td>2022</td>\n",
       "      <td>4</td>\n",
       "      <td>...</td>\n",
       "      <td>POINT (-72.5327 42.375)</td>\n",
       "      <td>0.156799</td>\n",
       "      <td>14.194300</td>\n",
       "      <td>0.015960</td>\n",
       "      <td>0 days 00:01:04</td>\n",
       "      <td>64.0</td>\n",
       "      <td>conventional</td>\n",
       "      <td>0</td>\n",
       "      <td>26900.0</td>\n",
       "      <td>0.034941</td>\n",
       "    </tr>\n",
       "    <tr>\n",
       "      <th>1361546</th>\n",
       "      <td>1361539</td>\n",
       "      <td>1361539</td>\n",
       "      <td>1361546</td>\n",
       "      <td>2022-04-30 23:56:47</td>\n",
       "      <td>1361546</td>\n",
       "      <td>1325568</td>\n",
       "      <td>8789</td>\n",
       "      <td>2022-04-30 00:00:00.000</td>\n",
       "      <td>2022</td>\n",
       "      <td>4</td>\n",
       "      <td>...</td>\n",
       "      <td>POINT (-72.53357 42.36864)</td>\n",
       "      <td>0.144950</td>\n",
       "      <td>10.117888</td>\n",
       "      <td>-0.013643</td>\n",
       "      <td>0 days 00:01:23</td>\n",
       "      <td>83.0</td>\n",
       "      <td>conventional</td>\n",
       "      <td>0</td>\n",
       "      <td>26900.0</td>\n",
       "      <td>0.039990</td>\n",
       "    </tr>\n",
       "    <tr>\n",
       "      <th>1361547</th>\n",
       "      <td>1361541</td>\n",
       "      <td>1361541</td>\n",
       "      <td>1361547</td>\n",
       "      <td>2022-04-30 23:57:32</td>\n",
       "      <td>1361547</td>\n",
       "      <td>1325569</td>\n",
       "      <td>8789</td>\n",
       "      <td>2022-04-30 00:00:00.000</td>\n",
       "      <td>2022</td>\n",
       "      <td>4</td>\n",
       "      <td>...</td>\n",
       "      <td>POINT (-72.53556 42.3656)</td>\n",
       "      <td>0.151259</td>\n",
       "      <td>19.474153</td>\n",
       "      <td>0.057755</td>\n",
       "      <td>0 days 00:00:45</td>\n",
       "      <td>45.0</td>\n",
       "      <td>conventional</td>\n",
       "      <td>0</td>\n",
       "      <td>26900.0</td>\n",
       "      <td>0.030324</td>\n",
       "    </tr>\n",
       "    <tr>\n",
       "      <th>1361548</th>\n",
       "      <td>1361546</td>\n",
       "      <td>1361546</td>\n",
       "      <td>1361548</td>\n",
       "      <td>2022-04-30 23:59:29</td>\n",
       "      <td>1361548</td>\n",
       "      <td>1325570</td>\n",
       "      <td>8789</td>\n",
       "      <td>2022-04-30 00:00:00.000</td>\n",
       "      <td>2022</td>\n",
       "      <td>4</td>\n",
       "      <td>...</td>\n",
       "      <td>POINT (-72.54673 42.35999)</td>\n",
       "      <td>0.780486</td>\n",
       "      <td>38.648220</td>\n",
       "      <td>0.045523</td>\n",
       "      <td>0 days 00:01:57</td>\n",
       "      <td>117.0</td>\n",
       "      <td>conventional</td>\n",
       "      <td>0</td>\n",
       "      <td>26900.0</td>\n",
       "      <td>0.103303</td>\n",
       "    </tr>\n",
       "  </tbody>\n",
       "</table>\n",
       "<p>1329793 rows × 49 columns</p>\n",
       "</div>"
      ],
      "text/plain": [
       "         Unnamed: 0.4  Unnamed: 0.3  Unnamed: 0.2      ServiceDateTime  \\\n",
       "2391          1297419       1297419          2391  2022-04-29 14:01:44   \n",
       "2392          1299038       1299038          2392  2022-04-29 14:28:20   \n",
       "2393          1299039       1299039          2393  2022-04-29 14:28:20   \n",
       "2394          1299250       1299250          2394  2022-04-29 14:30:55   \n",
       "2395          1299272       1299272          2395  2022-04-29 14:31:09   \n",
       "...               ...           ...           ...                  ...   \n",
       "1361544       1361526       1361526       1361544  2022-04-30 23:54:20   \n",
       "1361545       1361530       1361530       1361545  2022-04-30 23:55:24   \n",
       "1361546       1361539       1361539       1361546  2022-04-30 23:56:47   \n",
       "1361547       1361541       1361541       1361547  2022-04-30 23:57:32   \n",
       "1361548       1361546       1361546       1361548  2022-04-30 23:59:29   \n",
       "\n",
       "         Unnamed: 0  Unnamed: 0.1  DateKey             CalendarDate  Year  \\\n",
       "2391           2391       1273034     8788  2022-04-29 00:00:00.000  2022   \n",
       "2392           2392       1273037     8788  2022-04-29 00:00:00.000  2022   \n",
       "2393           2393       1273500     8788  2022-04-29 00:00:00.000  2022   \n",
       "2394           2394       1273501     8788  2022-04-29 00:00:00.000  2022   \n",
       "2395           2395       1273502     8788  2022-04-29 00:00:00.000  2022   \n",
       "...             ...           ...      ...                      ...   ...   \n",
       "1361544     1361544       1325566     8789  2022-04-30 00:00:00.000  2022   \n",
       "1361545     1361545       1325567     8789  2022-04-30 00:00:00.000  2022   \n",
       "1361546     1361546       1325568     8789  2022-04-30 00:00:00.000  2022   \n",
       "1361547     1361547       1325569     8789  2022-04-30 00:00:00.000  2022   \n",
       "1361548     1361548       1325570     8789  2022-04-30 00:00:00.000  2022   \n",
       "\n",
       "         Month  ...                    geometry      dist      Speed  \\\n",
       "2391         4  ...  POINT (-72.52602 42.14098)  0.000000   0.000000   \n",
       "2392         4  ...  POINT (-72.65278 42.19514)  8.829565  32.052117   \n",
       "2393         4  ...  POINT (-72.65278 42.19514)  0.000000   0.000000   \n",
       "2394         4  ...  POINT (-72.64553 42.20302)  0.526585  19.682810   \n",
       "2395         4  ...  POINT (-72.64369 42.20166)  0.130185  53.874613   \n",
       "...        ...  ...                         ...       ...        ...   \n",
       "1361544      4  ...  POINT (-72.53185 42.38201)  0.254140  10.517075   \n",
       "1361545      4  ...     POINT (-72.5327 42.375)  0.156799  14.194300   \n",
       "1361546      4  ...  POINT (-72.53357 42.36864)  0.144950  10.117888   \n",
       "1361547      4  ...   POINT (-72.53556 42.3656)  0.151259  19.474153   \n",
       "1361548      4  ...  POINT (-72.54673 42.35999)  0.780486  38.648220   \n",
       "\n",
       "         Acceleration       time_delta time_delta_in_seconds    Powertrain  \\\n",
       "2391         0.000000                0                   0.0      electric   \n",
       "2392         0.005579  0 days 00:26:36                1596.0      electric   \n",
       "2393         0.000000  0 days 00:00:00                   0.0      electric   \n",
       "2394         0.035274  0 days 00:02:35                 155.0      electric   \n",
       "2395         0.678410  0 days 00:00:14                  14.0      electric   \n",
       "...               ...              ...                   ...           ...   \n",
       "1361544      0.003673  0 days 00:02:20                 140.0  conventional   \n",
       "1361545      0.015960  0 days 00:01:04                  64.0  conventional   \n",
       "1361546     -0.013643  0 days 00:01:23                  83.0  conventional   \n",
       "1361547      0.057755  0 days 00:00:45                  45.0  conventional   \n",
       "1361548      0.045523  0 days 00:01:57                 117.0  conventional   \n",
       "\n",
       "                           VehicleModel  Vehicle_mass    Energy  \n",
       "2391     2021 NEW FLYER XE35 (ELECTRIC)       26900.0  0.000000  \n",
       "2392     2021 NEW FLYER XE35 (ELECTRIC)       26900.0  7.899773  \n",
       "2393     2021 NEW FLYER XE35 (ELECTRIC)       26900.0  0.000000  \n",
       "2394     2021 NEW FLYER XE35 (ELECTRIC)       26900.0  0.644165  \n",
       "2395     2021 NEW FLYER XE35 (ELECTRIC)       26900.0  1.276279  \n",
       "...                                 ...           ...       ...  \n",
       "1361544                               0       26900.0  0.070429  \n",
       "1361545                               0       26900.0  0.034941  \n",
       "1361546                               0       26900.0  0.039990  \n",
       "1361547                               0       26900.0  0.030324  \n",
       "1361548                               0       26900.0  0.103303  \n",
       "\n",
       "[1329793 rows x 49 columns]"
      ]
     },
     "execution_count": 3276,
     "metadata": {},
     "output_type": "execute_result"
    }
   ],
   "source": [
    "df_model_filtered"
   ]
  },
  {
   "cell_type": "code",
   "execution_count": 3277,
   "id": "4f514e90",
   "metadata": {},
   "outputs": [],
   "source": [
    "df_model_filtered = df_model_filtered.groupby(['Vehicle', 'Date']).agg({'Energy': ['sum'] ,'Powertrain': ['max'], 'dist': ['sum']}).reset_index()"
   ]
  },
  {
   "cell_type": "code",
   "execution_count": 3278,
   "id": "a8b764c4",
   "metadata": {},
   "outputs": [
    {
     "data": {
      "text/html": [
       "<div>\n",
       "<style scoped>\n",
       "    .dataframe tbody tr th:only-of-type {\n",
       "        vertical-align: middle;\n",
       "    }\n",
       "\n",
       "    .dataframe tbody tr th {\n",
       "        vertical-align: top;\n",
       "    }\n",
       "\n",
       "    .dataframe thead tr th {\n",
       "        text-align: left;\n",
       "    }\n",
       "</style>\n",
       "<table border=\"1\" class=\"dataframe\">\n",
       "  <thead>\n",
       "    <tr>\n",
       "      <th></th>\n",
       "      <th>Vehicle</th>\n",
       "      <th>Date</th>\n",
       "      <th>Energy</th>\n",
       "      <th>Powertrain</th>\n",
       "      <th>dist</th>\n",
       "    </tr>\n",
       "    <tr>\n",
       "      <th></th>\n",
       "      <th></th>\n",
       "      <th></th>\n",
       "      <th>sum</th>\n",
       "      <th>max</th>\n",
       "      <th>sum</th>\n",
       "    </tr>\n",
       "  </thead>\n",
       "  <tbody>\n",
       "    <tr>\n",
       "      <th>0</th>\n",
       "      <td>1320</td>\n",
       "      <td>2022-04-29</td>\n",
       "      <td>52.554287</td>\n",
       "      <td>electric</td>\n",
       "      <td>38.462541</td>\n",
       "    </tr>\n",
       "    <tr>\n",
       "      <th>1</th>\n",
       "      <td>1321</td>\n",
       "      <td>2022-04-01</td>\n",
       "      <td>12.061448</td>\n",
       "      <td>electric</td>\n",
       "      <td>9.615819</td>\n",
       "    </tr>\n",
       "    <tr>\n",
       "      <th>2</th>\n",
       "      <td>1321</td>\n",
       "      <td>2022-04-04</td>\n",
       "      <td>21.375129</td>\n",
       "      <td>electric</td>\n",
       "      <td>11.612397</td>\n",
       "    </tr>\n",
       "    <tr>\n",
       "      <th>3</th>\n",
       "      <td>1321</td>\n",
       "      <td>2022-04-05</td>\n",
       "      <td>39.627568</td>\n",
       "      <td>electric</td>\n",
       "      <td>25.229515</td>\n",
       "    </tr>\n",
       "    <tr>\n",
       "      <th>4</th>\n",
       "      <td>1321</td>\n",
       "      <td>2022-04-06</td>\n",
       "      <td>1.428367</td>\n",
       "      <td>electric</td>\n",
       "      <td>7.551147</td>\n",
       "    </tr>\n",
       "    <tr>\n",
       "      <th>...</th>\n",
       "      <td>...</td>\n",
       "      <td>...</td>\n",
       "      <td>...</td>\n",
       "      <td>...</td>\n",
       "      <td>...</td>\n",
       "    </tr>\n",
       "    <tr>\n",
       "      <th>3005</th>\n",
       "      <td>7902</td>\n",
       "      <td>2022-04-26</td>\n",
       "      <td>12.061720</td>\n",
       "      <td>conventional</td>\n",
       "      <td>52.211481</td>\n",
       "    </tr>\n",
       "    <tr>\n",
       "      <th>3006</th>\n",
       "      <td>7902</td>\n",
       "      <td>2022-04-27</td>\n",
       "      <td>19.410773</td>\n",
       "      <td>conventional</td>\n",
       "      <td>86.274257</td>\n",
       "    </tr>\n",
       "    <tr>\n",
       "      <th>3007</th>\n",
       "      <td>7902</td>\n",
       "      <td>2022-04-28</td>\n",
       "      <td>42.760604</td>\n",
       "      <td>conventional</td>\n",
       "      <td>70.515202</td>\n",
       "    </tr>\n",
       "    <tr>\n",
       "      <th>3008</th>\n",
       "      <td>7902</td>\n",
       "      <td>2022-04-29</td>\n",
       "      <td>44.283616</td>\n",
       "      <td>conventional</td>\n",
       "      <td>87.448258</td>\n",
       "    </tr>\n",
       "    <tr>\n",
       "      <th>3009</th>\n",
       "      <td>7902</td>\n",
       "      <td>2022-04-30</td>\n",
       "      <td>48.094853</td>\n",
       "      <td>conventional</td>\n",
       "      <td>156.909658</td>\n",
       "    </tr>\n",
       "  </tbody>\n",
       "</table>\n",
       "<p>3010 rows × 5 columns</p>\n",
       "</div>"
      ],
      "text/plain": [
       "     Vehicle        Date     Energy    Powertrain        dist\n",
       "                                sum           max         sum\n",
       "0       1320  2022-04-29  52.554287      electric   38.462541\n",
       "1       1321  2022-04-01  12.061448      electric    9.615819\n",
       "2       1321  2022-04-04  21.375129      electric   11.612397\n",
       "3       1321  2022-04-05  39.627568      electric   25.229515\n",
       "4       1321  2022-04-06   1.428367      electric    7.551147\n",
       "...      ...         ...        ...           ...         ...\n",
       "3005    7902  2022-04-26  12.061720  conventional   52.211481\n",
       "3006    7902  2022-04-27  19.410773  conventional   86.274257\n",
       "3007    7902  2022-04-28  42.760604  conventional   70.515202\n",
       "3008    7902  2022-04-29  44.283616  conventional   87.448258\n",
       "3009    7902  2022-04-30  48.094853  conventional  156.909658\n",
       "\n",
       "[3010 rows x 5 columns]"
      ]
     },
     "execution_count": 3278,
     "metadata": {},
     "output_type": "execute_result"
    }
   ],
   "source": [
    "df_model_filtered"
   ]
  },
  {
   "cell_type": "code",
   "execution_count": 3279,
   "id": "912e0bd2",
   "metadata": {},
   "outputs": [
    {
     "data": {
      "text/html": [
       "<div>\n",
       "<style scoped>\n",
       "    .dataframe tbody tr th:only-of-type {\n",
       "        vertical-align: middle;\n",
       "    }\n",
       "\n",
       "    .dataframe tbody tr th {\n",
       "        vertical-align: top;\n",
       "    }\n",
       "\n",
       "    .dataframe thead th {\n",
       "        text-align: right;\n",
       "    }\n",
       "</style>\n",
       "<table border=\"1\" class=\"dataframe\">\n",
       "  <thead>\n",
       "    <tr style=\"text-align: right;\">\n",
       "      <th></th>\n",
       "      <th>sum</th>\n",
       "    </tr>\n",
       "  </thead>\n",
       "  <tbody>\n",
       "    <tr>\n",
       "      <th>0</th>\n",
       "      <td>52.554287</td>\n",
       "    </tr>\n",
       "    <tr>\n",
       "      <th>1</th>\n",
       "      <td>12.061448</td>\n",
       "    </tr>\n",
       "    <tr>\n",
       "      <th>2</th>\n",
       "      <td>21.375129</td>\n",
       "    </tr>\n",
       "    <tr>\n",
       "      <th>3</th>\n",
       "      <td>39.627568</td>\n",
       "    </tr>\n",
       "    <tr>\n",
       "      <th>4</th>\n",
       "      <td>1.428367</td>\n",
       "    </tr>\n",
       "    <tr>\n",
       "      <th>...</th>\n",
       "      <td>...</td>\n",
       "    </tr>\n",
       "    <tr>\n",
       "      <th>3005</th>\n",
       "      <td>12.061720</td>\n",
       "    </tr>\n",
       "    <tr>\n",
       "      <th>3006</th>\n",
       "      <td>19.410773</td>\n",
       "    </tr>\n",
       "    <tr>\n",
       "      <th>3007</th>\n",
       "      <td>42.760604</td>\n",
       "    </tr>\n",
       "    <tr>\n",
       "      <th>3008</th>\n",
       "      <td>44.283616</td>\n",
       "    </tr>\n",
       "    <tr>\n",
       "      <th>3009</th>\n",
       "      <td>48.094853</td>\n",
       "    </tr>\n",
       "  </tbody>\n",
       "</table>\n",
       "<p>3010 rows × 1 columns</p>\n",
       "</div>"
      ],
      "text/plain": [
       "            sum\n",
       "0     52.554287\n",
       "1     12.061448\n",
       "2     21.375129\n",
       "3     39.627568\n",
       "4      1.428367\n",
       "...         ...\n",
       "3005  12.061720\n",
       "3006  19.410773\n",
       "3007  42.760604\n",
       "3008  44.283616\n",
       "3009  48.094853\n",
       "\n",
       "[3010 rows x 1 columns]"
      ]
     },
     "execution_count": 3279,
     "metadata": {},
     "output_type": "execute_result"
    }
   ],
   "source": [
    "df_model_filtered['Energy']"
   ]
  },
  {
   "cell_type": "code",
   "execution_count": 3280,
   "id": "980ff1e4",
   "metadata": {},
   "outputs": [],
   "source": [
    "model_vehicles=df_model['Vehicle'].unique()"
   ]
  },
  {
   "cell_type": "code",
   "execution_count": 3281,
   "id": "cfd0ab1b",
   "metadata": {},
   "outputs": [],
   "source": [
    "df_validation_filtered=df_validation.loc[df_validation.equipment_id.isin(model_vehicles)]"
   ]
  },
  {
   "cell_type": "code",
   "execution_count": 3282,
   "id": "4beebdd8",
   "metadata": {},
   "outputs": [
    {
     "data": {
      "text/plain": [
       "171"
      ]
     },
     "execution_count": 3282,
     "metadata": {},
     "output_type": "execute_result"
    }
   ],
   "source": [
    "len(df_validation_filtered.equipment_id.unique())"
   ]
  },
  {
   "cell_type": "code",
   "execution_count": 3283,
   "id": "92309db8",
   "metadata": {},
   "outputs": [
    {
     "data": {
      "text/html": [
       "<div>\n",
       "<style scoped>\n",
       "    .dataframe tbody tr th:only-of-type {\n",
       "        vertical-align: middle;\n",
       "    }\n",
       "\n",
       "    .dataframe tbody tr th {\n",
       "        vertical-align: top;\n",
       "    }\n",
       "\n",
       "    .dataframe thead th {\n",
       "        text-align: right;\n",
       "    }\n",
       "</style>\n",
       "<table border=\"1\" class=\"dataframe\">\n",
       "  <thead>\n",
       "    <tr style=\"text-align: right;\">\n",
       "      <th></th>\n",
       "      <th>Unnamed: 0</th>\n",
       "      <th>timestamp</th>\n",
       "      <th>equipment_id</th>\n",
       "      <th>gallons</th>\n",
       "      <th>date</th>\n",
       "    </tr>\n",
       "  </thead>\n",
       "  <tbody>\n",
       "    <tr>\n",
       "      <th>0</th>\n",
       "      <td>58949</td>\n",
       "      <td>2022-04-01 18:59:00</td>\n",
       "      <td>3212</td>\n",
       "      <td>10.1</td>\n",
       "      <td>2022-04-01</td>\n",
       "    </tr>\n",
       "    <tr>\n",
       "      <th>1</th>\n",
       "      <td>59065</td>\n",
       "      <td>2022-04-07 01:01:00</td>\n",
       "      <td>3212</td>\n",
       "      <td>29.3</td>\n",
       "      <td>2022-04-07</td>\n",
       "    </tr>\n",
       "    <tr>\n",
       "      <th>2</th>\n",
       "      <td>59092</td>\n",
       "      <td>2022-04-08 05:33:00</td>\n",
       "      <td>3212</td>\n",
       "      <td>52.0</td>\n",
       "      <td>2022-04-08</td>\n",
       "    </tr>\n",
       "    <tr>\n",
       "      <th>3</th>\n",
       "      <td>59100</td>\n",
       "      <td>2022-04-08 23:20:00</td>\n",
       "      <td>3212</td>\n",
       "      <td>25.1</td>\n",
       "      <td>2022-04-08</td>\n",
       "    </tr>\n",
       "    <tr>\n",
       "      <th>4</th>\n",
       "      <td>59125</td>\n",
       "      <td>2022-04-10 05:38:00</td>\n",
       "      <td>3212</td>\n",
       "      <td>54.1</td>\n",
       "      <td>2022-04-10</td>\n",
       "    </tr>\n",
       "    <tr>\n",
       "      <th>...</th>\n",
       "      <td>...</td>\n",
       "      <td>...</td>\n",
       "      <td>...</td>\n",
       "      <td>...</td>\n",
       "      <td>...</td>\n",
       "    </tr>\n",
       "    <tr>\n",
       "      <th>2948</th>\n",
       "      <td>4682</td>\n",
       "      <td>2022-04-26 19:12:00</td>\n",
       "      <td>7816</td>\n",
       "      <td>51.6</td>\n",
       "      <td>2022-04-26</td>\n",
       "    </tr>\n",
       "    <tr>\n",
       "      <th>2949</th>\n",
       "      <td>4683</td>\n",
       "      <td>2022-04-27 20:39:00</td>\n",
       "      <td>7816</td>\n",
       "      <td>19.3</td>\n",
       "      <td>2022-04-27</td>\n",
       "    </tr>\n",
       "    <tr>\n",
       "      <th>2950</th>\n",
       "      <td>4684</td>\n",
       "      <td>2022-04-28 14:02:00</td>\n",
       "      <td>7816</td>\n",
       "      <td>14.0</td>\n",
       "      <td>2022-04-28</td>\n",
       "    </tr>\n",
       "    <tr>\n",
       "      <th>2951</th>\n",
       "      <td>4685</td>\n",
       "      <td>2022-04-29 19:10:00</td>\n",
       "      <td>7816</td>\n",
       "      <td>18.4</td>\n",
       "      <td>2022-04-29</td>\n",
       "    </tr>\n",
       "    <tr>\n",
       "      <th>2952</th>\n",
       "      <td>4686</td>\n",
       "      <td>2022-04-30 13:02:00</td>\n",
       "      <td>7816</td>\n",
       "      <td>19.9</td>\n",
       "      <td>2022-04-30</td>\n",
       "    </tr>\n",
       "  </tbody>\n",
       "</table>\n",
       "<p>2938 rows × 5 columns</p>\n",
       "</div>"
      ],
      "text/plain": [
       "      Unnamed: 0            timestamp  equipment_id  gallons        date\n",
       "0          58949  2022-04-01 18:59:00          3212     10.1  2022-04-01\n",
       "1          59065  2022-04-07 01:01:00          3212     29.3  2022-04-07\n",
       "2          59092  2022-04-08 05:33:00          3212     52.0  2022-04-08\n",
       "3          59100  2022-04-08 23:20:00          3212     25.1  2022-04-08\n",
       "4          59125  2022-04-10 05:38:00          3212     54.1  2022-04-10\n",
       "...          ...                  ...           ...      ...         ...\n",
       "2948        4682  2022-04-26 19:12:00          7816     51.6  2022-04-26\n",
       "2949        4683  2022-04-27 20:39:00          7816     19.3  2022-04-27\n",
       "2950        4684  2022-04-28 14:02:00          7816     14.0  2022-04-28\n",
       "2951        4685  2022-04-29 19:10:00          7816     18.4  2022-04-29\n",
       "2952        4686  2022-04-30 13:02:00          7816     19.9  2022-04-30\n",
       "\n",
       "[2938 rows x 5 columns]"
      ]
     },
     "execution_count": 3283,
     "metadata": {},
     "output_type": "execute_result"
    }
   ],
   "source": [
    "df_validation_filtered"
   ]
  },
  {
   "cell_type": "code",
   "execution_count": 3284,
   "id": "48c56785",
   "metadata": {},
   "outputs": [],
   "source": [
    "#df_validation_filtered=df_validation_filtered[df_validation_filtered['gallons']<70]"
   ]
  },
  {
   "cell_type": "code",
   "execution_count": 3285,
   "id": "72544a84",
   "metadata": {},
   "outputs": [
    {
     "data": {
      "text/plain": [
       "29.053083730428856"
      ]
     },
     "execution_count": 3285,
     "metadata": {},
     "output_type": "execute_result"
    }
   ],
   "source": [
    "df_validation_filtered['gallons'].mean()"
   ]
  },
  {
   "cell_type": "code",
   "execution_count": 3286,
   "id": "0d7e8731",
   "metadata": {},
   "outputs": [
    {
     "data": {
      "text/plain": [
       "30.0"
      ]
     },
     "execution_count": 3286,
     "metadata": {},
     "output_type": "execute_result"
    }
   ],
   "source": [
    "df_validation_filtered['gallons'].median()"
   ]
  },
  {
   "cell_type": "code",
   "execution_count": 3287,
   "id": "53571f15",
   "metadata": {},
   "outputs": [
    {
     "data": {
      "text/plain": [
       "84.79"
      ]
     },
     "execution_count": 3287,
     "metadata": {},
     "output_type": "execute_result"
    }
   ],
   "source": [
    "df_validation_filtered['gallons'].max()"
   ]
  },
  {
   "cell_type": "code",
   "execution_count": 3288,
   "id": "bf554670",
   "metadata": {},
   "outputs": [],
   "source": [
    "df_validation_filtered = df_validation_filtered.groupby(['equipment_id', 'date']).agg({'gallons': ['sum']}).reset_index()"
   ]
  },
  {
   "cell_type": "code",
   "execution_count": 3289,
   "id": "26ebae1f",
   "metadata": {},
   "outputs": [
    {
     "data": {
      "text/html": [
       "<div>\n",
       "<style scoped>\n",
       "    .dataframe tbody tr th:only-of-type {\n",
       "        vertical-align: middle;\n",
       "    }\n",
       "\n",
       "    .dataframe tbody tr th {\n",
       "        vertical-align: top;\n",
       "    }\n",
       "\n",
       "    .dataframe thead tr th {\n",
       "        text-align: left;\n",
       "    }\n",
       "</style>\n",
       "<table border=\"1\" class=\"dataframe\">\n",
       "  <thead>\n",
       "    <tr>\n",
       "      <th></th>\n",
       "      <th>equipment_id</th>\n",
       "      <th>date</th>\n",
       "      <th>gallons</th>\n",
       "    </tr>\n",
       "    <tr>\n",
       "      <th></th>\n",
       "      <th></th>\n",
       "      <th></th>\n",
       "      <th>sum</th>\n",
       "    </tr>\n",
       "  </thead>\n",
       "  <tbody>\n",
       "    <tr>\n",
       "      <th>0</th>\n",
       "      <td>1320</td>\n",
       "      <td>2022-04-27</td>\n",
       "      <td>0.68</td>\n",
       "    </tr>\n",
       "    <tr>\n",
       "      <th>1</th>\n",
       "      <td>1320</td>\n",
       "      <td>2022-04-29</td>\n",
       "      <td>0.69</td>\n",
       "    </tr>\n",
       "    <tr>\n",
       "      <th>2</th>\n",
       "      <td>1321</td>\n",
       "      <td>2022-04-18</td>\n",
       "      <td>1.83</td>\n",
       "    </tr>\n",
       "    <tr>\n",
       "      <th>3</th>\n",
       "      <td>1321</td>\n",
       "      <td>2022-04-19</td>\n",
       "      <td>0.58</td>\n",
       "    </tr>\n",
       "    <tr>\n",
       "      <th>4</th>\n",
       "      <td>1321</td>\n",
       "      <td>2022-04-29</td>\n",
       "      <td>0.66</td>\n",
       "    </tr>\n",
       "    <tr>\n",
       "      <th>...</th>\n",
       "      <td>...</td>\n",
       "      <td>...</td>\n",
       "      <td>...</td>\n",
       "    </tr>\n",
       "    <tr>\n",
       "      <th>2719</th>\n",
       "      <td>7902</td>\n",
       "      <td>2022-04-25</td>\n",
       "      <td>59.70</td>\n",
       "    </tr>\n",
       "    <tr>\n",
       "      <th>2720</th>\n",
       "      <td>7902</td>\n",
       "      <td>2022-04-26</td>\n",
       "      <td>12.20</td>\n",
       "    </tr>\n",
       "    <tr>\n",
       "      <th>2721</th>\n",
       "      <td>7902</td>\n",
       "      <td>2022-04-27</td>\n",
       "      <td>23.80</td>\n",
       "    </tr>\n",
       "    <tr>\n",
       "      <th>2722</th>\n",
       "      <td>7902</td>\n",
       "      <td>2022-04-29</td>\n",
       "      <td>19.00</td>\n",
       "    </tr>\n",
       "    <tr>\n",
       "      <th>2723</th>\n",
       "      <td>7902</td>\n",
       "      <td>2022-04-30</td>\n",
       "      <td>26.10</td>\n",
       "    </tr>\n",
       "  </tbody>\n",
       "</table>\n",
       "<p>2724 rows × 3 columns</p>\n",
       "</div>"
      ],
      "text/plain": [
       "     equipment_id        date gallons\n",
       "                                  sum\n",
       "0            1320  2022-04-27    0.68\n",
       "1            1320  2022-04-29    0.69\n",
       "2            1321  2022-04-18    1.83\n",
       "3            1321  2022-04-19    0.58\n",
       "4            1321  2022-04-29    0.66\n",
       "...           ...         ...     ...\n",
       "2719         7902  2022-04-25   59.70\n",
       "2720         7902  2022-04-26   12.20\n",
       "2721         7902  2022-04-27   23.80\n",
       "2722         7902  2022-04-29   19.00\n",
       "2723         7902  2022-04-30   26.10\n",
       "\n",
       "[2724 rows x 3 columns]"
      ]
     },
     "execution_count": 3289,
     "metadata": {},
     "output_type": "execute_result"
    }
   ],
   "source": [
    "df_validation_filtered"
   ]
  },
  {
   "cell_type": "code",
   "execution_count": 3290,
   "id": "ba6bbd17",
   "metadata": {},
   "outputs": [],
   "source": [
    "df_validation_filtered.rename(\n",
    "    columns={\"equipment_id\":\"Vehicle\",\n",
    "                \"date\":\"Date\",\n",
    "                \"gallons\":\"Real_Energy\"}\n",
    "          ,inplace=True)"
   ]
  },
  {
   "cell_type": "code",
   "execution_count": 3291,
   "id": "bb9503fc",
   "metadata": {},
   "outputs": [],
   "source": [
    "cols = ['Vehicle', 'Date']\n",
    "df_integrated=df_model_filtered.join(df_validation_filtered.set_index(cols), on=cols)"
   ]
  },
  {
   "cell_type": "code",
   "execution_count": 3292,
   "id": "effa1ad4",
   "metadata": {},
   "outputs": [
    {
     "data": {
      "text/html": [
       "<div>\n",
       "<style scoped>\n",
       "    .dataframe tbody tr th:only-of-type {\n",
       "        vertical-align: middle;\n",
       "    }\n",
       "\n",
       "    .dataframe tbody tr th {\n",
       "        vertical-align: top;\n",
       "    }\n",
       "\n",
       "    .dataframe thead tr th {\n",
       "        text-align: left;\n",
       "    }\n",
       "</style>\n",
       "<table border=\"1\" class=\"dataframe\">\n",
       "  <thead>\n",
       "    <tr>\n",
       "      <th></th>\n",
       "      <th>Vehicle</th>\n",
       "      <th>Date</th>\n",
       "      <th>Energy</th>\n",
       "      <th>Powertrain</th>\n",
       "      <th>dist</th>\n",
       "      <th>Real_Energy</th>\n",
       "    </tr>\n",
       "    <tr>\n",
       "      <th></th>\n",
       "      <th></th>\n",
       "      <th></th>\n",
       "      <th>sum</th>\n",
       "      <th>max</th>\n",
       "      <th>sum</th>\n",
       "      <th>sum</th>\n",
       "    </tr>\n",
       "  </thead>\n",
       "  <tbody>\n",
       "    <tr>\n",
       "      <th>0</th>\n",
       "      <td>1320</td>\n",
       "      <td>2022-04-29</td>\n",
       "      <td>52.554287</td>\n",
       "      <td>electric</td>\n",
       "      <td>38.462541</td>\n",
       "      <td>0.69</td>\n",
       "    </tr>\n",
       "    <tr>\n",
       "      <th>1</th>\n",
       "      <td>1321</td>\n",
       "      <td>2022-04-01</td>\n",
       "      <td>12.061448</td>\n",
       "      <td>electric</td>\n",
       "      <td>9.615819</td>\n",
       "      <td>NaN</td>\n",
       "    </tr>\n",
       "    <tr>\n",
       "      <th>2</th>\n",
       "      <td>1321</td>\n",
       "      <td>2022-04-04</td>\n",
       "      <td>21.375129</td>\n",
       "      <td>electric</td>\n",
       "      <td>11.612397</td>\n",
       "      <td>NaN</td>\n",
       "    </tr>\n",
       "    <tr>\n",
       "      <th>3</th>\n",
       "      <td>1321</td>\n",
       "      <td>2022-04-05</td>\n",
       "      <td>39.627568</td>\n",
       "      <td>electric</td>\n",
       "      <td>25.229515</td>\n",
       "      <td>NaN</td>\n",
       "    </tr>\n",
       "    <tr>\n",
       "      <th>4</th>\n",
       "      <td>1321</td>\n",
       "      <td>2022-04-06</td>\n",
       "      <td>1.428367</td>\n",
       "      <td>electric</td>\n",
       "      <td>7.551147</td>\n",
       "      <td>NaN</td>\n",
       "    </tr>\n",
       "    <tr>\n",
       "      <th>...</th>\n",
       "      <td>...</td>\n",
       "      <td>...</td>\n",
       "      <td>...</td>\n",
       "      <td>...</td>\n",
       "      <td>...</td>\n",
       "      <td>...</td>\n",
       "    </tr>\n",
       "    <tr>\n",
       "      <th>3005</th>\n",
       "      <td>7902</td>\n",
       "      <td>2022-04-26</td>\n",
       "      <td>12.061720</td>\n",
       "      <td>conventional</td>\n",
       "      <td>52.211481</td>\n",
       "      <td>12.20</td>\n",
       "    </tr>\n",
       "    <tr>\n",
       "      <th>3006</th>\n",
       "      <td>7902</td>\n",
       "      <td>2022-04-27</td>\n",
       "      <td>19.410773</td>\n",
       "      <td>conventional</td>\n",
       "      <td>86.274257</td>\n",
       "      <td>23.80</td>\n",
       "    </tr>\n",
       "    <tr>\n",
       "      <th>3007</th>\n",
       "      <td>7902</td>\n",
       "      <td>2022-04-28</td>\n",
       "      <td>42.760604</td>\n",
       "      <td>conventional</td>\n",
       "      <td>70.515202</td>\n",
       "      <td>NaN</td>\n",
       "    </tr>\n",
       "    <tr>\n",
       "      <th>3008</th>\n",
       "      <td>7902</td>\n",
       "      <td>2022-04-29</td>\n",
       "      <td>44.283616</td>\n",
       "      <td>conventional</td>\n",
       "      <td>87.448258</td>\n",
       "      <td>19.00</td>\n",
       "    </tr>\n",
       "    <tr>\n",
       "      <th>3009</th>\n",
       "      <td>7902</td>\n",
       "      <td>2022-04-30</td>\n",
       "      <td>48.094853</td>\n",
       "      <td>conventional</td>\n",
       "      <td>156.909658</td>\n",
       "      <td>26.10</td>\n",
       "    </tr>\n",
       "  </tbody>\n",
       "</table>\n",
       "<p>3010 rows × 6 columns</p>\n",
       "</div>"
      ],
      "text/plain": [
       "     Vehicle        Date     Energy    Powertrain        dist Real_Energy\n",
       "                                sum           max         sum         sum\n",
       "0       1320  2022-04-29  52.554287      electric   38.462541        0.69\n",
       "1       1321  2022-04-01  12.061448      electric    9.615819         NaN\n",
       "2       1321  2022-04-04  21.375129      electric   11.612397         NaN\n",
       "3       1321  2022-04-05  39.627568      electric   25.229515         NaN\n",
       "4       1321  2022-04-06   1.428367      electric    7.551147         NaN\n",
       "...      ...         ...        ...           ...         ...         ...\n",
       "3005    7902  2022-04-26  12.061720  conventional   52.211481       12.20\n",
       "3006    7902  2022-04-27  19.410773  conventional   86.274257       23.80\n",
       "3007    7902  2022-04-28  42.760604  conventional   70.515202         NaN\n",
       "3008    7902  2022-04-29  44.283616  conventional   87.448258       19.00\n",
       "3009    7902  2022-04-30  48.094853  conventional  156.909658       26.10\n",
       "\n",
       "[3010 rows x 6 columns]"
      ]
     },
     "execution_count": 3292,
     "metadata": {},
     "output_type": "execute_result"
    }
   ],
   "source": [
    "df_integrated"
   ]
  },
  {
   "cell_type": "code",
   "execution_count": 3297,
   "id": "32274e69",
   "metadata": {},
   "outputs": [
    {
     "data": {
      "text/plain": [
       "Index(['Vehicle', 'Date', 'Energy', 'Powertrain', 'Distance', 'Real_Energy'], dtype='object')"
      ]
     },
     "execution_count": 3297,
     "metadata": {},
     "output_type": "execute_result"
    }
   ],
   "source": [
    "df_integrated.columns"
   ]
  },
  {
   "cell_type": "code",
   "execution_count": 3294,
   "id": "d0314a75",
   "metadata": {},
   "outputs": [],
   "source": [
    "df_integrated.columns = df_integrated.columns.droplevel()"
   ]
  },
  {
   "cell_type": "code",
   "execution_count": 3295,
   "id": "b99e99ee",
   "metadata": {},
   "outputs": [],
   "source": [
    "df_integrated.columns =['Vehicle', 'Date', 'Energy', 'Powertrain', 'Distance', 'Real_Energy']"
   ]
  },
  {
   "cell_type": "code",
   "execution_count": 3296,
   "id": "60f7732b",
   "metadata": {},
   "outputs": [
    {
     "data": {
      "text/html": [
       "<div>\n",
       "<style scoped>\n",
       "    .dataframe tbody tr th:only-of-type {\n",
       "        vertical-align: middle;\n",
       "    }\n",
       "\n",
       "    .dataframe tbody tr th {\n",
       "        vertical-align: top;\n",
       "    }\n",
       "\n",
       "    .dataframe thead th {\n",
       "        text-align: right;\n",
       "    }\n",
       "</style>\n",
       "<table border=\"1\" class=\"dataframe\">\n",
       "  <thead>\n",
       "    <tr style=\"text-align: right;\">\n",
       "      <th></th>\n",
       "      <th>Vehicle</th>\n",
       "      <th>Date</th>\n",
       "      <th>Energy</th>\n",
       "      <th>Powertrain</th>\n",
       "      <th>Distance</th>\n",
       "      <th>Real_Energy</th>\n",
       "    </tr>\n",
       "  </thead>\n",
       "  <tbody>\n",
       "    <tr>\n",
       "      <th>0</th>\n",
       "      <td>1320</td>\n",
       "      <td>2022-04-29</td>\n",
       "      <td>52.554287</td>\n",
       "      <td>electric</td>\n",
       "      <td>38.462541</td>\n",
       "      <td>0.69</td>\n",
       "    </tr>\n",
       "    <tr>\n",
       "      <th>1</th>\n",
       "      <td>1321</td>\n",
       "      <td>2022-04-01</td>\n",
       "      <td>12.061448</td>\n",
       "      <td>electric</td>\n",
       "      <td>9.615819</td>\n",
       "      <td>NaN</td>\n",
       "    </tr>\n",
       "    <tr>\n",
       "      <th>2</th>\n",
       "      <td>1321</td>\n",
       "      <td>2022-04-04</td>\n",
       "      <td>21.375129</td>\n",
       "      <td>electric</td>\n",
       "      <td>11.612397</td>\n",
       "      <td>NaN</td>\n",
       "    </tr>\n",
       "    <tr>\n",
       "      <th>3</th>\n",
       "      <td>1321</td>\n",
       "      <td>2022-04-05</td>\n",
       "      <td>39.627568</td>\n",
       "      <td>electric</td>\n",
       "      <td>25.229515</td>\n",
       "      <td>NaN</td>\n",
       "    </tr>\n",
       "    <tr>\n",
       "      <th>4</th>\n",
       "      <td>1321</td>\n",
       "      <td>2022-04-06</td>\n",
       "      <td>1.428367</td>\n",
       "      <td>electric</td>\n",
       "      <td>7.551147</td>\n",
       "      <td>NaN</td>\n",
       "    </tr>\n",
       "    <tr>\n",
       "      <th>...</th>\n",
       "      <td>...</td>\n",
       "      <td>...</td>\n",
       "      <td>...</td>\n",
       "      <td>...</td>\n",
       "      <td>...</td>\n",
       "      <td>...</td>\n",
       "    </tr>\n",
       "    <tr>\n",
       "      <th>3005</th>\n",
       "      <td>7902</td>\n",
       "      <td>2022-04-26</td>\n",
       "      <td>12.061720</td>\n",
       "      <td>conventional</td>\n",
       "      <td>52.211481</td>\n",
       "      <td>12.20</td>\n",
       "    </tr>\n",
       "    <tr>\n",
       "      <th>3006</th>\n",
       "      <td>7902</td>\n",
       "      <td>2022-04-27</td>\n",
       "      <td>19.410773</td>\n",
       "      <td>conventional</td>\n",
       "      <td>86.274257</td>\n",
       "      <td>23.80</td>\n",
       "    </tr>\n",
       "    <tr>\n",
       "      <th>3007</th>\n",
       "      <td>7902</td>\n",
       "      <td>2022-04-28</td>\n",
       "      <td>42.760604</td>\n",
       "      <td>conventional</td>\n",
       "      <td>70.515202</td>\n",
       "      <td>NaN</td>\n",
       "    </tr>\n",
       "    <tr>\n",
       "      <th>3008</th>\n",
       "      <td>7902</td>\n",
       "      <td>2022-04-29</td>\n",
       "      <td>44.283616</td>\n",
       "      <td>conventional</td>\n",
       "      <td>87.448258</td>\n",
       "      <td>19.00</td>\n",
       "    </tr>\n",
       "    <tr>\n",
       "      <th>3009</th>\n",
       "      <td>7902</td>\n",
       "      <td>2022-04-30</td>\n",
       "      <td>48.094853</td>\n",
       "      <td>conventional</td>\n",
       "      <td>156.909658</td>\n",
       "      <td>26.10</td>\n",
       "    </tr>\n",
       "  </tbody>\n",
       "</table>\n",
       "<p>3010 rows × 6 columns</p>\n",
       "</div>"
      ],
      "text/plain": [
       "      Vehicle        Date     Energy    Powertrain    Distance  Real_Energy\n",
       "0        1320  2022-04-29  52.554287      electric   38.462541         0.69\n",
       "1        1321  2022-04-01  12.061448      electric    9.615819          NaN\n",
       "2        1321  2022-04-04  21.375129      electric   11.612397          NaN\n",
       "3        1321  2022-04-05  39.627568      electric   25.229515          NaN\n",
       "4        1321  2022-04-06   1.428367      electric    7.551147          NaN\n",
       "...       ...         ...        ...           ...         ...          ...\n",
       "3005     7902  2022-04-26  12.061720  conventional   52.211481        12.20\n",
       "3006     7902  2022-04-27  19.410773  conventional   86.274257        23.80\n",
       "3007     7902  2022-04-28  42.760604  conventional   70.515202          NaN\n",
       "3008     7902  2022-04-29  44.283616  conventional   87.448258        19.00\n",
       "3009     7902  2022-04-30  48.094853  conventional  156.909658        26.10\n",
       "\n",
       "[3010 rows x 6 columns]"
      ]
     },
     "execution_count": 3296,
     "metadata": {},
     "output_type": "execute_result"
    }
   ],
   "source": [
    "df_integrated"
   ]
  },
  {
   "cell_type": "code",
   "execution_count": 3298,
   "id": "2420376e",
   "metadata": {},
   "outputs": [
    {
     "data": {
      "text/plain": [
       "1"
      ]
     },
     "execution_count": 3298,
     "metadata": {},
     "output_type": "execute_result"
    }
   ],
   "source": [
    "df_integrated.columns.nlevels "
   ]
  },
  {
   "cell_type": "code",
   "execution_count": 3299,
   "id": "1657c687",
   "metadata": {},
   "outputs": [
    {
     "data": {
      "text/plain": [
       "482"
      ]
     },
     "execution_count": 3299,
     "metadata": {},
     "output_type": "execute_result"
    }
   ],
   "source": [
    "df_integrated['Real_Energy'].isna().sum()"
   ]
  },
  {
   "cell_type": "code",
   "execution_count": 3300,
   "id": "9ed22033",
   "metadata": {},
   "outputs": [],
   "source": [
    "df_integrated['Fuel/energy_economy']=df_integrated['Distance']/df_integrated['Energy']"
   ]
  },
  {
   "cell_type": "code",
   "execution_count": 3301,
   "id": "55c71b27",
   "metadata": {},
   "outputs": [],
   "source": [
    "df_integrated['Real_Fuel/energy_economy']=df_integrated['Distance']/df_integrated['Real_Energy']"
   ]
  },
  {
   "cell_type": "code",
   "execution_count": 3302,
   "id": "32b6e49c",
   "metadata": {},
   "outputs": [],
   "source": [
    "df_integrated=df_integrated.dropna()"
   ]
  },
  {
   "cell_type": "code",
   "execution_count": 3303,
   "id": "08ebcb5b",
   "metadata": {},
   "outputs": [
    {
     "data": {
      "text/html": [
       "<div>\n",
       "<style scoped>\n",
       "    .dataframe tbody tr th:only-of-type {\n",
       "        vertical-align: middle;\n",
       "    }\n",
       "\n",
       "    .dataframe tbody tr th {\n",
       "        vertical-align: top;\n",
       "    }\n",
       "\n",
       "    .dataframe thead th {\n",
       "        text-align: right;\n",
       "    }\n",
       "</style>\n",
       "<table border=\"1\" class=\"dataframe\">\n",
       "  <thead>\n",
       "    <tr style=\"text-align: right;\">\n",
       "      <th></th>\n",
       "      <th>Vehicle</th>\n",
       "      <th>Date</th>\n",
       "      <th>Energy</th>\n",
       "      <th>Powertrain</th>\n",
       "      <th>Distance</th>\n",
       "      <th>Real_Energy</th>\n",
       "      <th>Fuel/energy_economy</th>\n",
       "      <th>Real_Fuel/energy_economy</th>\n",
       "    </tr>\n",
       "  </thead>\n",
       "  <tbody>\n",
       "    <tr>\n",
       "      <th>0</th>\n",
       "      <td>1320</td>\n",
       "      <td>2022-04-29</td>\n",
       "      <td>52.554287</td>\n",
       "      <td>electric</td>\n",
       "      <td>38.462541</td>\n",
       "      <td>0.69</td>\n",
       "      <td>0.731863</td>\n",
       "      <td>55.742813</td>\n",
       "    </tr>\n",
       "    <tr>\n",
       "      <th>7</th>\n",
       "      <td>1321</td>\n",
       "      <td>2022-04-18</td>\n",
       "      <td>117.594541</td>\n",
       "      <td>electric</td>\n",
       "      <td>81.710409</td>\n",
       "      <td>1.83</td>\n",
       "      <td>0.694849</td>\n",
       "      <td>44.650497</td>\n",
       "    </tr>\n",
       "    <tr>\n",
       "      <th>8</th>\n",
       "      <td>1321</td>\n",
       "      <td>2022-04-19</td>\n",
       "      <td>134.813781</td>\n",
       "      <td>electric</td>\n",
       "      <td>79.449076</td>\n",
       "      <td>0.58</td>\n",
       "      <td>0.589325</td>\n",
       "      <td>136.981166</td>\n",
       "    </tr>\n",
       "    <tr>\n",
       "      <th>14</th>\n",
       "      <td>1321</td>\n",
       "      <td>2022-04-29</td>\n",
       "      <td>60.362156</td>\n",
       "      <td>electric</td>\n",
       "      <td>50.051221</td>\n",
       "      <td>0.66</td>\n",
       "      <td>0.829182</td>\n",
       "      <td>75.835183</td>\n",
       "    </tr>\n",
       "    <tr>\n",
       "      <th>20</th>\n",
       "      <td>1322</td>\n",
       "      <td>2022-04-18</td>\n",
       "      <td>23.791023</td>\n",
       "      <td>electric</td>\n",
       "      <td>12.497164</td>\n",
       "      <td>0.96</td>\n",
       "      <td>0.525289</td>\n",
       "      <td>13.017879</td>\n",
       "    </tr>\n",
       "    <tr>\n",
       "      <th>...</th>\n",
       "      <td>...</td>\n",
       "      <td>...</td>\n",
       "      <td>...</td>\n",
       "      <td>...</td>\n",
       "      <td>...</td>\n",
       "      <td>...</td>\n",
       "      <td>...</td>\n",
       "      <td>...</td>\n",
       "    </tr>\n",
       "    <tr>\n",
       "      <th>3004</th>\n",
       "      <td>7902</td>\n",
       "      <td>2022-04-25</td>\n",
       "      <td>16.465691</td>\n",
       "      <td>conventional</td>\n",
       "      <td>70.396083</td>\n",
       "      <td>59.70</td>\n",
       "      <td>4.275319</td>\n",
       "      <td>1.179164</td>\n",
       "    </tr>\n",
       "    <tr>\n",
       "      <th>3005</th>\n",
       "      <td>7902</td>\n",
       "      <td>2022-04-26</td>\n",
       "      <td>12.061720</td>\n",
       "      <td>conventional</td>\n",
       "      <td>52.211481</td>\n",
       "      <td>12.20</td>\n",
       "      <td>4.328693</td>\n",
       "      <td>4.279630</td>\n",
       "    </tr>\n",
       "    <tr>\n",
       "      <th>3006</th>\n",
       "      <td>7902</td>\n",
       "      <td>2022-04-27</td>\n",
       "      <td>19.410773</td>\n",
       "      <td>conventional</td>\n",
       "      <td>86.274257</td>\n",
       "      <td>23.80</td>\n",
       "      <td>4.444659</td>\n",
       "      <td>3.624969</td>\n",
       "    </tr>\n",
       "    <tr>\n",
       "      <th>3008</th>\n",
       "      <td>7902</td>\n",
       "      <td>2022-04-29</td>\n",
       "      <td>44.283616</td>\n",
       "      <td>conventional</td>\n",
       "      <td>87.448258</td>\n",
       "      <td>19.00</td>\n",
       "      <td>1.974732</td>\n",
       "      <td>4.602540</td>\n",
       "    </tr>\n",
       "    <tr>\n",
       "      <th>3009</th>\n",
       "      <td>7902</td>\n",
       "      <td>2022-04-30</td>\n",
       "      <td>48.094853</td>\n",
       "      <td>conventional</td>\n",
       "      <td>156.909658</td>\n",
       "      <td>26.10</td>\n",
       "      <td>3.262504</td>\n",
       "      <td>6.011864</td>\n",
       "    </tr>\n",
       "  </tbody>\n",
       "</table>\n",
       "<p>2524 rows × 8 columns</p>\n",
       "</div>"
      ],
      "text/plain": [
       "      Vehicle        Date      Energy    Powertrain    Distance  Real_Energy  \\\n",
       "0        1320  2022-04-29   52.554287      electric   38.462541         0.69   \n",
       "7        1321  2022-04-18  117.594541      electric   81.710409         1.83   \n",
       "8        1321  2022-04-19  134.813781      electric   79.449076         0.58   \n",
       "14       1321  2022-04-29   60.362156      electric   50.051221         0.66   \n",
       "20       1322  2022-04-18   23.791023      electric   12.497164         0.96   \n",
       "...       ...         ...         ...           ...         ...          ...   \n",
       "3004     7902  2022-04-25   16.465691  conventional   70.396083        59.70   \n",
       "3005     7902  2022-04-26   12.061720  conventional   52.211481        12.20   \n",
       "3006     7902  2022-04-27   19.410773  conventional   86.274257        23.80   \n",
       "3008     7902  2022-04-29   44.283616  conventional   87.448258        19.00   \n",
       "3009     7902  2022-04-30   48.094853  conventional  156.909658        26.10   \n",
       "\n",
       "      Fuel/energy_economy  Real_Fuel/energy_economy  \n",
       "0                0.731863                 55.742813  \n",
       "7                0.694849                 44.650497  \n",
       "8                0.589325                136.981166  \n",
       "14               0.829182                 75.835183  \n",
       "20               0.525289                 13.017879  \n",
       "...                   ...                       ...  \n",
       "3004             4.275319                  1.179164  \n",
       "3005             4.328693                  4.279630  \n",
       "3006             4.444659                  3.624969  \n",
       "3008             1.974732                  4.602540  \n",
       "3009             3.262504                  6.011864  \n",
       "\n",
       "[2524 rows x 8 columns]"
      ]
     },
     "execution_count": 3303,
     "metadata": {},
     "output_type": "execute_result"
    }
   ],
   "source": [
    "df_integrated"
   ]
  },
  {
   "cell_type": "code",
   "execution_count": 3211,
   "id": "b6eb01b3",
   "metadata": {},
   "outputs": [],
   "source": [
    "#df_integrated['Real_Fuel/energy_economy'][df_integrated['Real_Fuel/energy_economy'] > 20] = 20"
   ]
  },
  {
   "cell_type": "code",
   "execution_count": 3212,
   "id": "c49c4f1b",
   "metadata": {},
   "outputs": [],
   "source": [
    "#df_integrated['Real_Fuel/energy_economy'].hist()"
   ]
  },
  {
   "cell_type": "code",
   "execution_count": 3304,
   "id": "007c3351",
   "metadata": {},
   "outputs": [],
   "source": [
    "df_hybrid=df_integrated.loc[df_integrated['Powertrain'] == 'hybrid'].copy()\n",
    "df_conventional=df_integrated.loc[df_integrated['Powertrain'] == 'conventional'].copy()"
   ]
  },
  {
   "cell_type": "code",
   "execution_count": 3214,
   "id": "d5c8d165",
   "metadata": {},
   "outputs": [
    {
     "data": {
      "text/html": [
       "<div>\n",
       "<style scoped>\n",
       "    .dataframe tbody tr th:only-of-type {\n",
       "        vertical-align: middle;\n",
       "    }\n",
       "\n",
       "    .dataframe tbody tr th {\n",
       "        vertical-align: top;\n",
       "    }\n",
       "\n",
       "    .dataframe thead th {\n",
       "        text-align: right;\n",
       "    }\n",
       "</style>\n",
       "<table border=\"1\" class=\"dataframe\">\n",
       "  <thead>\n",
       "    <tr style=\"text-align: right;\">\n",
       "      <th></th>\n",
       "      <th>Vehicle</th>\n",
       "      <th>Date</th>\n",
       "      <th>Energy</th>\n",
       "      <th>Powertrain</th>\n",
       "      <th>Distance</th>\n",
       "      <th>Real_Energy</th>\n",
       "      <th>Fuel/energy_economy</th>\n",
       "      <th>Real_Fuel/energy_economy</th>\n",
       "    </tr>\n",
       "  </thead>\n",
       "  <tbody>\n",
       "    <tr>\n",
       "      <th>1197</th>\n",
       "      <td>1801</td>\n",
       "      <td>2022-04-01</td>\n",
       "      <td>16.774066</td>\n",
       "      <td>hybrid</td>\n",
       "      <td>152.778852</td>\n",
       "      <td>50.91</td>\n",
       "      <td>9.108039</td>\n",
       "      <td>3.000960</td>\n",
       "    </tr>\n",
       "    <tr>\n",
       "      <th>1198</th>\n",
       "      <td>1801</td>\n",
       "      <td>2022-04-02</td>\n",
       "      <td>19.135948</td>\n",
       "      <td>hybrid</td>\n",
       "      <td>168.948906</td>\n",
       "      <td>60.73</td>\n",
       "      <td>8.828875</td>\n",
       "      <td>2.781968</td>\n",
       "    </tr>\n",
       "    <tr>\n",
       "      <th>1200</th>\n",
       "      <td>1801</td>\n",
       "      <td>2022-04-07</td>\n",
       "      <td>1.252419</td>\n",
       "      <td>hybrid</td>\n",
       "      <td>10.000853</td>\n",
       "      <td>5.89</td>\n",
       "      <td>7.985228</td>\n",
       "      <td>1.697938</td>\n",
       "    </tr>\n",
       "    <tr>\n",
       "      <th>1201</th>\n",
       "      <td>1801</td>\n",
       "      <td>2022-04-08</td>\n",
       "      <td>28.536266</td>\n",
       "      <td>hybrid</td>\n",
       "      <td>156.441346</td>\n",
       "      <td>33.53</td>\n",
       "      <td>5.482194</td>\n",
       "      <td>4.665713</td>\n",
       "    </tr>\n",
       "    <tr>\n",
       "      <th>1202</th>\n",
       "      <td>1801</td>\n",
       "      <td>2022-04-09</td>\n",
       "      <td>19.130675</td>\n",
       "      <td>hybrid</td>\n",
       "      <td>138.727266</td>\n",
       "      <td>23.54</td>\n",
       "      <td>7.251562</td>\n",
       "      <td>5.893257</td>\n",
       "    </tr>\n",
       "    <tr>\n",
       "      <th>...</th>\n",
       "      <td>...</td>\n",
       "      <td>...</td>\n",
       "      <td>...</td>\n",
       "      <td>...</td>\n",
       "      <td>...</td>\n",
       "      <td>...</td>\n",
       "      <td>...</td>\n",
       "      <td>...</td>\n",
       "    </tr>\n",
       "    <tr>\n",
       "      <th>2985</th>\n",
       "      <td>7901</td>\n",
       "      <td>2022-04-26</td>\n",
       "      <td>24.805519</td>\n",
       "      <td>hybrid</td>\n",
       "      <td>141.151438</td>\n",
       "      <td>20.00</td>\n",
       "      <td>5.690324</td>\n",
       "      <td>7.057572</td>\n",
       "    </tr>\n",
       "    <tr>\n",
       "      <th>2986</th>\n",
       "      <td>7901</td>\n",
       "      <td>2022-04-27</td>\n",
       "      <td>11.756282</td>\n",
       "      <td>hybrid</td>\n",
       "      <td>70.485221</td>\n",
       "      <td>40.10</td>\n",
       "      <td>5.995537</td>\n",
       "      <td>1.757736</td>\n",
       "    </tr>\n",
       "    <tr>\n",
       "      <th>2987</th>\n",
       "      <td>7901</td>\n",
       "      <td>2022-04-28</td>\n",
       "      <td>29.110526</td>\n",
       "      <td>hybrid</td>\n",
       "      <td>70.956078</td>\n",
       "      <td>23.00</td>\n",
       "      <td>2.437472</td>\n",
       "      <td>3.085047</td>\n",
       "    </tr>\n",
       "    <tr>\n",
       "      <th>2988</th>\n",
       "      <td>7901</td>\n",
       "      <td>2022-04-29</td>\n",
       "      <td>29.917069</td>\n",
       "      <td>hybrid</td>\n",
       "      <td>88.344636</td>\n",
       "      <td>20.00</td>\n",
       "      <td>2.952984</td>\n",
       "      <td>4.417232</td>\n",
       "    </tr>\n",
       "    <tr>\n",
       "      <th>2989</th>\n",
       "      <td>7901</td>\n",
       "      <td>2022-04-30</td>\n",
       "      <td>29.634259</td>\n",
       "      <td>hybrid</td>\n",
       "      <td>87.867102</td>\n",
       "      <td>24.20</td>\n",
       "      <td>2.965051</td>\n",
       "      <td>3.630872</td>\n",
       "    </tr>\n",
       "  </tbody>\n",
       "</table>\n",
       "<p>111 rows × 8 columns</p>\n",
       "</div>"
      ],
      "text/plain": [
       "      Vehicle        Date     Energy Powertrain    Distance  Real_Energy  \\\n",
       "1197     1801  2022-04-01  16.774066     hybrid  152.778852        50.91   \n",
       "1198     1801  2022-04-02  19.135948     hybrid  168.948906        60.73   \n",
       "1200     1801  2022-04-07   1.252419     hybrid   10.000853         5.89   \n",
       "1201     1801  2022-04-08  28.536266     hybrid  156.441346        33.53   \n",
       "1202     1801  2022-04-09  19.130675     hybrid  138.727266        23.54   \n",
       "...       ...         ...        ...        ...         ...          ...   \n",
       "2985     7901  2022-04-26  24.805519     hybrid  141.151438        20.00   \n",
       "2986     7901  2022-04-27  11.756282     hybrid   70.485221        40.10   \n",
       "2987     7901  2022-04-28  29.110526     hybrid   70.956078        23.00   \n",
       "2988     7901  2022-04-29  29.917069     hybrid   88.344636        20.00   \n",
       "2989     7901  2022-04-30  29.634259     hybrid   87.867102        24.20   \n",
       "\n",
       "      Fuel/energy_economy  Real_Fuel/energy_economy  \n",
       "1197             9.108039                  3.000960  \n",
       "1198             8.828875                  2.781968  \n",
       "1200             7.985228                  1.697938  \n",
       "1201             5.482194                  4.665713  \n",
       "1202             7.251562                  5.893257  \n",
       "...                   ...                       ...  \n",
       "2985             5.690324                  7.057572  \n",
       "2986             5.995537                  1.757736  \n",
       "2987             2.437472                  3.085047  \n",
       "2988             2.952984                  4.417232  \n",
       "2989             2.965051                  3.630872  \n",
       "\n",
       "[111 rows x 8 columns]"
      ]
     },
     "execution_count": 3214,
     "metadata": {},
     "output_type": "execute_result"
    }
   ],
   "source": [
    "df_hybrid"
   ]
  },
  {
   "cell_type": "code",
   "execution_count": 3215,
   "id": "73520227",
   "metadata": {},
   "outputs": [
    {
     "data": {
      "text/html": [
       "<div>\n",
       "<style scoped>\n",
       "    .dataframe tbody tr th:only-of-type {\n",
       "        vertical-align: middle;\n",
       "    }\n",
       "\n",
       "    .dataframe tbody tr th {\n",
       "        vertical-align: top;\n",
       "    }\n",
       "\n",
       "    .dataframe thead th {\n",
       "        text-align: right;\n",
       "    }\n",
       "</style>\n",
       "<table border=\"1\" class=\"dataframe\">\n",
       "  <thead>\n",
       "    <tr style=\"text-align: right;\">\n",
       "      <th></th>\n",
       "      <th>Vehicle</th>\n",
       "      <th>Date</th>\n",
       "      <th>Energy</th>\n",
       "      <th>Powertrain</th>\n",
       "      <th>Distance</th>\n",
       "      <th>Real_Energy</th>\n",
       "      <th>Fuel/energy_economy</th>\n",
       "      <th>Real_Fuel/energy_economy</th>\n",
       "    </tr>\n",
       "  </thead>\n",
       "  <tbody>\n",
       "    <tr>\n",
       "      <th>2964</th>\n",
       "      <td>7901</td>\n",
       "      <td>2022-04-04</td>\n",
       "      <td>16.977862</td>\n",
       "      <td>hybrid</td>\n",
       "      <td>103.507893</td>\n",
       "      <td>97.6</td>\n",
       "      <td>6.096639</td>\n",
       "      <td>1.060532</td>\n",
       "    </tr>\n",
       "    <tr>\n",
       "      <th>2979</th>\n",
       "      <td>7901</td>\n",
       "      <td>2022-04-20</td>\n",
       "      <td>19.802063</td>\n",
       "      <td>hybrid</td>\n",
       "      <td>123.733275</td>\n",
       "      <td>79.4</td>\n",
       "      <td>6.248504</td>\n",
       "      <td>1.558354</td>\n",
       "    </tr>\n",
       "  </tbody>\n",
       "</table>\n",
       "</div>"
      ],
      "text/plain": [
       "      Vehicle        Date     Energy Powertrain    Distance  Real_Energy  \\\n",
       "2964     7901  2022-04-04  16.977862     hybrid  103.507893         97.6   \n",
       "2979     7901  2022-04-20  19.802063     hybrid  123.733275         79.4   \n",
       "\n",
       "      Fuel/energy_economy  Real_Fuel/energy_economy  \n",
       "2964             6.096639                  1.060532  \n",
       "2979             6.248504                  1.558354  "
      ]
     },
     "execution_count": 3215,
     "metadata": {},
     "output_type": "execute_result"
    }
   ],
   "source": [
    "#filterd_df_hybrid = df_hybrid[(df_hybrid['Real_Energy'] < 10) & (df_hybrid['Distance'] > 33) ]\n",
    "df_hybrid[(df_hybrid['Real_Energy'] > 70)]\n"
   ]
  },
  {
   "cell_type": "code",
   "execution_count": 3216,
   "id": "bed9f491",
   "metadata": {},
   "outputs": [
    {
     "data": {
      "text/html": [
       "<div>\n",
       "<style scoped>\n",
       "    .dataframe tbody tr th:only-of-type {\n",
       "        vertical-align: middle;\n",
       "    }\n",
       "\n",
       "    .dataframe tbody tr th {\n",
       "        vertical-align: top;\n",
       "    }\n",
       "\n",
       "    .dataframe thead th {\n",
       "        text-align: right;\n",
       "    }\n",
       "</style>\n",
       "<table border=\"1\" class=\"dataframe\">\n",
       "  <thead>\n",
       "    <tr style=\"text-align: right;\">\n",
       "      <th></th>\n",
       "      <th>Vehicle</th>\n",
       "      <th>Date</th>\n",
       "      <th>Energy</th>\n",
       "      <th>Powertrain</th>\n",
       "      <th>Distance</th>\n",
       "      <th>Real_Energy</th>\n",
       "      <th>Fuel/energy_economy</th>\n",
       "      <th>Real_Fuel/energy_economy</th>\n",
       "    </tr>\n",
       "  </thead>\n",
       "  <tbody>\n",
       "    <tr>\n",
       "      <th>109</th>\n",
       "      <td>1552</td>\n",
       "      <td>2022-04-01</td>\n",
       "      <td>17.441553</td>\n",
       "      <td>conventional</td>\n",
       "      <td>53.128981</td>\n",
       "      <td>27.43</td>\n",
       "      <td>3.046115</td>\n",
       "      <td>1.936893</td>\n",
       "    </tr>\n",
       "    <tr>\n",
       "      <th>110</th>\n",
       "      <td>1552</td>\n",
       "      <td>2022-04-02</td>\n",
       "      <td>15.785589</td>\n",
       "      <td>conventional</td>\n",
       "      <td>52.538729</td>\n",
       "      <td>33.15</td>\n",
       "      <td>3.328272</td>\n",
       "      <td>1.584879</td>\n",
       "    </tr>\n",
       "    <tr>\n",
       "      <th>112</th>\n",
       "      <td>1552</td>\n",
       "      <td>2022-04-05</td>\n",
       "      <td>32.900624</td>\n",
       "      <td>conventional</td>\n",
       "      <td>167.756318</td>\n",
       "      <td>52.29</td>\n",
       "      <td>5.098879</td>\n",
       "      <td>3.208191</td>\n",
       "    </tr>\n",
       "    <tr>\n",
       "      <th>113</th>\n",
       "      <td>1552</td>\n",
       "      <td>2022-04-06</td>\n",
       "      <td>23.746026</td>\n",
       "      <td>conventional</td>\n",
       "      <td>38.274092</td>\n",
       "      <td>36.69</td>\n",
       "      <td>1.611810</td>\n",
       "      <td>1.043175</td>\n",
       "    </tr>\n",
       "    <tr>\n",
       "      <th>114</th>\n",
       "      <td>1552</td>\n",
       "      <td>2022-04-07</td>\n",
       "      <td>32.358545</td>\n",
       "      <td>conventional</td>\n",
       "      <td>166.541198</td>\n",
       "      <td>45.61</td>\n",
       "      <td>5.146746</td>\n",
       "      <td>3.651419</td>\n",
       "    </tr>\n",
       "    <tr>\n",
       "      <th>...</th>\n",
       "      <td>...</td>\n",
       "      <td>...</td>\n",
       "      <td>...</td>\n",
       "      <td>...</td>\n",
       "      <td>...</td>\n",
       "      <td>...</td>\n",
       "      <td>...</td>\n",
       "      <td>...</td>\n",
       "    </tr>\n",
       "    <tr>\n",
       "      <th>3004</th>\n",
       "      <td>7902</td>\n",
       "      <td>2022-04-25</td>\n",
       "      <td>16.465691</td>\n",
       "      <td>conventional</td>\n",
       "      <td>70.396083</td>\n",
       "      <td>59.70</td>\n",
       "      <td>4.275319</td>\n",
       "      <td>1.179164</td>\n",
       "    </tr>\n",
       "    <tr>\n",
       "      <th>3005</th>\n",
       "      <td>7902</td>\n",
       "      <td>2022-04-26</td>\n",
       "      <td>12.061720</td>\n",
       "      <td>conventional</td>\n",
       "      <td>52.211481</td>\n",
       "      <td>12.20</td>\n",
       "      <td>4.328693</td>\n",
       "      <td>4.279630</td>\n",
       "    </tr>\n",
       "    <tr>\n",
       "      <th>3006</th>\n",
       "      <td>7902</td>\n",
       "      <td>2022-04-27</td>\n",
       "      <td>19.410773</td>\n",
       "      <td>conventional</td>\n",
       "      <td>86.274257</td>\n",
       "      <td>23.80</td>\n",
       "      <td>4.444659</td>\n",
       "      <td>3.624969</td>\n",
       "    </tr>\n",
       "    <tr>\n",
       "      <th>3008</th>\n",
       "      <td>7902</td>\n",
       "      <td>2022-04-29</td>\n",
       "      <td>44.283616</td>\n",
       "      <td>conventional</td>\n",
       "      <td>87.448258</td>\n",
       "      <td>19.00</td>\n",
       "      <td>1.974732</td>\n",
       "      <td>4.602540</td>\n",
       "    </tr>\n",
       "    <tr>\n",
       "      <th>3009</th>\n",
       "      <td>7902</td>\n",
       "      <td>2022-04-30</td>\n",
       "      <td>48.094853</td>\n",
       "      <td>conventional</td>\n",
       "      <td>156.909658</td>\n",
       "      <td>26.10</td>\n",
       "      <td>3.262504</td>\n",
       "      <td>6.011864</td>\n",
       "    </tr>\n",
       "  </tbody>\n",
       "</table>\n",
       "<p>2371 rows × 8 columns</p>\n",
       "</div>"
      ],
      "text/plain": [
       "      Vehicle        Date     Energy    Powertrain    Distance  Real_Energy  \\\n",
       "109      1552  2022-04-01  17.441553  conventional   53.128981        27.43   \n",
       "110      1552  2022-04-02  15.785589  conventional   52.538729        33.15   \n",
       "112      1552  2022-04-05  32.900624  conventional  167.756318        52.29   \n",
       "113      1552  2022-04-06  23.746026  conventional   38.274092        36.69   \n",
       "114      1552  2022-04-07  32.358545  conventional  166.541198        45.61   \n",
       "...       ...         ...        ...           ...         ...          ...   \n",
       "3004     7902  2022-04-25  16.465691  conventional   70.396083        59.70   \n",
       "3005     7902  2022-04-26  12.061720  conventional   52.211481        12.20   \n",
       "3006     7902  2022-04-27  19.410773  conventional   86.274257        23.80   \n",
       "3008     7902  2022-04-29  44.283616  conventional   87.448258        19.00   \n",
       "3009     7902  2022-04-30  48.094853  conventional  156.909658        26.10   \n",
       "\n",
       "      Fuel/energy_economy  Real_Fuel/energy_economy  \n",
       "109              3.046115                  1.936893  \n",
       "110              3.328272                  1.584879  \n",
       "112              5.098879                  3.208191  \n",
       "113              1.611810                  1.043175  \n",
       "114              5.146746                  3.651419  \n",
       "...                   ...                       ...  \n",
       "3004             4.275319                  1.179164  \n",
       "3005             4.328693                  4.279630  \n",
       "3006             4.444659                  3.624969  \n",
       "3008             1.974732                  4.602540  \n",
       "3009             3.262504                  6.011864  \n",
       "\n",
       "[2371 rows x 8 columns]"
      ]
     },
     "execution_count": 3216,
     "metadata": {},
     "output_type": "execute_result"
    }
   ],
   "source": [
    "df_conventional"
   ]
  },
  {
   "cell_type": "code",
   "execution_count": 3217,
   "id": "d59b5d5c",
   "metadata": {},
   "outputs": [
    {
     "data": {
      "text/html": [
       "<div>\n",
       "<style scoped>\n",
       "    .dataframe tbody tr th:only-of-type {\n",
       "        vertical-align: middle;\n",
       "    }\n",
       "\n",
       "    .dataframe tbody tr th {\n",
       "        vertical-align: top;\n",
       "    }\n",
       "\n",
       "    .dataframe thead th {\n",
       "        text-align: right;\n",
       "    }\n",
       "</style>\n",
       "<table border=\"1\" class=\"dataframe\">\n",
       "  <thead>\n",
       "    <tr style=\"text-align: right;\">\n",
       "      <th></th>\n",
       "      <th>Vehicle</th>\n",
       "      <th>Date</th>\n",
       "      <th>Energy</th>\n",
       "      <th>Powertrain</th>\n",
       "      <th>Distance</th>\n",
       "      <th>Real_Energy</th>\n",
       "      <th>Fuel/energy_economy</th>\n",
       "      <th>Real_Fuel/energy_economy</th>\n",
       "    </tr>\n",
       "  </thead>\n",
       "  <tbody>\n",
       "    <tr>\n",
       "      <th>126</th>\n",
       "      <td>1552</td>\n",
       "      <td>2022-04-27</td>\n",
       "      <td>1.932803</td>\n",
       "      <td>conventional</td>\n",
       "      <td>6.822449</td>\n",
       "      <td>3.52</td>\n",
       "      <td>3.529821</td>\n",
       "      <td>1.938196</td>\n",
       "    </tr>\n",
       "    <tr>\n",
       "      <th>140</th>\n",
       "      <td>1555</td>\n",
       "      <td>2022-04-11</td>\n",
       "      <td>0.235054</td>\n",
       "      <td>conventional</td>\n",
       "      <td>0.722538</td>\n",
       "      <td>3.62</td>\n",
       "      <td>3.073930</td>\n",
       "      <td>0.199596</td>\n",
       "    </tr>\n",
       "    <tr>\n",
       "      <th>244</th>\n",
       "      <td>1567</td>\n",
       "      <td>2022-04-11</td>\n",
       "      <td>16.664825</td>\n",
       "      <td>conventional</td>\n",
       "      <td>26.249680</td>\n",
       "      <td>8.39</td>\n",
       "      <td>1.575155</td>\n",
       "      <td>3.128687</td>\n",
       "    </tr>\n",
       "    <tr>\n",
       "      <th>246</th>\n",
       "      <td>1567</td>\n",
       "      <td>2022-04-13</td>\n",
       "      <td>2.390677</td>\n",
       "      <td>conventional</td>\n",
       "      <td>13.738686</td>\n",
       "      <td>9.09</td>\n",
       "      <td>5.746775</td>\n",
       "      <td>1.511407</td>\n",
       "    </tr>\n",
       "    <tr>\n",
       "      <th>249</th>\n",
       "      <td>1567</td>\n",
       "      <td>2022-04-18</td>\n",
       "      <td>1.260978</td>\n",
       "      <td>conventional</td>\n",
       "      <td>8.244962</td>\n",
       "      <td>8.72</td>\n",
       "      <td>6.538548</td>\n",
       "      <td>0.945523</td>\n",
       "    </tr>\n",
       "    <tr>\n",
       "      <th>...</th>\n",
       "      <td>...</td>\n",
       "      <td>...</td>\n",
       "      <td>...</td>\n",
       "      <td>...</td>\n",
       "      <td>...</td>\n",
       "      <td>...</td>\n",
       "      <td>...</td>\n",
       "      <td>...</td>\n",
       "    </tr>\n",
       "    <tr>\n",
       "      <th>2897</th>\n",
       "      <td>7814</td>\n",
       "      <td>2022-04-20</td>\n",
       "      <td>8.049605</td>\n",
       "      <td>conventional</td>\n",
       "      <td>35.726831</td>\n",
       "      <td>8.60</td>\n",
       "      <td>4.438333</td>\n",
       "      <td>4.154283</td>\n",
       "    </tr>\n",
       "    <tr>\n",
       "      <th>2906</th>\n",
       "      <td>7814</td>\n",
       "      <td>2022-04-30</td>\n",
       "      <td>2.126790</td>\n",
       "      <td>conventional</td>\n",
       "      <td>9.077846</td>\n",
       "      <td>3.60</td>\n",
       "      <td>4.268332</td>\n",
       "      <td>2.521624</td>\n",
       "    </tr>\n",
       "    <tr>\n",
       "      <th>2921</th>\n",
       "      <td>7815</td>\n",
       "      <td>2022-04-19</td>\n",
       "      <td>3.779721</td>\n",
       "      <td>conventional</td>\n",
       "      <td>17.039620</td>\n",
       "      <td>5.80</td>\n",
       "      <td>4.508169</td>\n",
       "      <td>2.937866</td>\n",
       "    </tr>\n",
       "    <tr>\n",
       "      <th>2923</th>\n",
       "      <td>7815</td>\n",
       "      <td>2022-04-21</td>\n",
       "      <td>11.436442</td>\n",
       "      <td>conventional</td>\n",
       "      <td>52.128318</td>\n",
       "      <td>9.60</td>\n",
       "      <td>4.558089</td>\n",
       "      <td>5.430033</td>\n",
       "    </tr>\n",
       "    <tr>\n",
       "      <th>2941</th>\n",
       "      <td>7816</td>\n",
       "      <td>2022-04-11</td>\n",
       "      <td>3.700585</td>\n",
       "      <td>conventional</td>\n",
       "      <td>16.535961</td>\n",
       "      <td>6.60</td>\n",
       "      <td>4.468472</td>\n",
       "      <td>2.505449</td>\n",
       "    </tr>\n",
       "  </tbody>\n",
       "</table>\n",
       "<p>142 rows × 8 columns</p>\n",
       "</div>"
      ],
      "text/plain": [
       "      Vehicle        Date     Energy    Powertrain   Distance  Real_Energy  \\\n",
       "126      1552  2022-04-27   1.932803  conventional   6.822449         3.52   \n",
       "140      1555  2022-04-11   0.235054  conventional   0.722538         3.62   \n",
       "244      1567  2022-04-11  16.664825  conventional  26.249680         8.39   \n",
       "246      1567  2022-04-13   2.390677  conventional  13.738686         9.09   \n",
       "249      1567  2022-04-18   1.260978  conventional   8.244962         8.72   \n",
       "...       ...         ...        ...           ...        ...          ...   \n",
       "2897     7814  2022-04-20   8.049605  conventional  35.726831         8.60   \n",
       "2906     7814  2022-04-30   2.126790  conventional   9.077846         3.60   \n",
       "2921     7815  2022-04-19   3.779721  conventional  17.039620         5.80   \n",
       "2923     7815  2022-04-21  11.436442  conventional  52.128318         9.60   \n",
       "2941     7816  2022-04-11   3.700585  conventional  16.535961         6.60   \n",
       "\n",
       "      Fuel/energy_economy  Real_Fuel/energy_economy  \n",
       "126              3.529821                  1.938196  \n",
       "140              3.073930                  0.199596  \n",
       "244              1.575155                  3.128687  \n",
       "246              5.746775                  1.511407  \n",
       "249              6.538548                  0.945523  \n",
       "...                   ...                       ...  \n",
       "2897             4.438333                  4.154283  \n",
       "2906             4.268332                  2.521624  \n",
       "2921             4.508169                  2.937866  \n",
       "2923             4.558089                  5.430033  \n",
       "2941             4.468472                  2.505449  \n",
       "\n",
       "[142 rows x 8 columns]"
      ]
     },
     "execution_count": 3217,
     "metadata": {},
     "output_type": "execute_result"
    }
   ],
   "source": [
    "df_conventional[(df_conventional['Real_Energy'] < 10)]\n"
   ]
  },
  {
   "cell_type": "code",
   "execution_count": 3218,
   "id": "f614a65a",
   "metadata": {},
   "outputs": [
    {
     "data": {
      "text/html": [
       "<div>\n",
       "<style scoped>\n",
       "    .dataframe tbody tr th:only-of-type {\n",
       "        vertical-align: middle;\n",
       "    }\n",
       "\n",
       "    .dataframe tbody tr th {\n",
       "        vertical-align: top;\n",
       "    }\n",
       "\n",
       "    .dataframe thead th {\n",
       "        text-align: right;\n",
       "    }\n",
       "</style>\n",
       "<table border=\"1\" class=\"dataframe\">\n",
       "  <thead>\n",
       "    <tr style=\"text-align: right;\">\n",
       "      <th></th>\n",
       "      <th>Vehicle</th>\n",
       "      <th>Date</th>\n",
       "      <th>Energy</th>\n",
       "      <th>Powertrain</th>\n",
       "      <th>Distance</th>\n",
       "      <th>Real_Energy</th>\n",
       "      <th>Fuel/energy_economy</th>\n",
       "      <th>Real_Fuel/energy_economy</th>\n",
       "    </tr>\n",
       "  </thead>\n",
       "  <tbody>\n",
       "    <tr>\n",
       "      <th>131</th>\n",
       "      <td>1553</td>\n",
       "      <td>2022-04-06</td>\n",
       "      <td>9.858657</td>\n",
       "      <td>conventional</td>\n",
       "      <td>18.127805</td>\n",
       "      <td>20.38</td>\n",
       "      <td>1.838770</td>\n",
       "      <td>0.889490</td>\n",
       "    </tr>\n",
       "    <tr>\n",
       "      <th>132</th>\n",
       "      <td>1555</td>\n",
       "      <td>2022-04-01</td>\n",
       "      <td>13.250079</td>\n",
       "      <td>conventional</td>\n",
       "      <td>11.866971</td>\n",
       "      <td>13.54</td>\n",
       "      <td>0.895615</td>\n",
       "      <td>0.876438</td>\n",
       "    </tr>\n",
       "    <tr>\n",
       "      <th>140</th>\n",
       "      <td>1555</td>\n",
       "      <td>2022-04-11</td>\n",
       "      <td>0.235054</td>\n",
       "      <td>conventional</td>\n",
       "      <td>0.722538</td>\n",
       "      <td>3.62</td>\n",
       "      <td>3.073930</td>\n",
       "      <td>0.199596</td>\n",
       "    </tr>\n",
       "    <tr>\n",
       "      <th>143</th>\n",
       "      <td>1555</td>\n",
       "      <td>2022-04-14</td>\n",
       "      <td>17.746467</td>\n",
       "      <td>conventional</td>\n",
       "      <td>21.549856</td>\n",
       "      <td>35.10</td>\n",
       "      <td>1.214318</td>\n",
       "      <td>0.613956</td>\n",
       "    </tr>\n",
       "    <tr>\n",
       "      <th>158</th>\n",
       "      <td>1557</td>\n",
       "      <td>2022-04-13</td>\n",
       "      <td>0.516803</td>\n",
       "      <td>conventional</td>\n",
       "      <td>2.619232</td>\n",
       "      <td>21.42</td>\n",
       "      <td>5.068149</td>\n",
       "      <td>0.122280</td>\n",
       "    </tr>\n",
       "    <tr>\n",
       "      <th>...</th>\n",
       "      <td>...</td>\n",
       "      <td>...</td>\n",
       "      <td>...</td>\n",
       "      <td>...</td>\n",
       "      <td>...</td>\n",
       "      <td>...</td>\n",
       "      <td>...</td>\n",
       "      <td>...</td>\n",
       "    </tr>\n",
       "    <tr>\n",
       "      <th>2572</th>\n",
       "      <td>3402</td>\n",
       "      <td>2022-04-02</td>\n",
       "      <td>2.821922</td>\n",
       "      <td>conventional</td>\n",
       "      <td>12.446591</td>\n",
       "      <td>69.00</td>\n",
       "      <td>4.410679</td>\n",
       "      <td>0.180385</td>\n",
       "    </tr>\n",
       "    <tr>\n",
       "      <th>2573</th>\n",
       "      <td>3402</td>\n",
       "      <td>2022-04-07</td>\n",
       "      <td>1.198222</td>\n",
       "      <td>conventional</td>\n",
       "      <td>4.910964</td>\n",
       "      <td>8.30</td>\n",
       "      <td>4.098541</td>\n",
       "      <td>0.591682</td>\n",
       "    </tr>\n",
       "    <tr>\n",
       "      <th>2766</th>\n",
       "      <td>7662</td>\n",
       "      <td>2022-04-18</td>\n",
       "      <td>11.924030</td>\n",
       "      <td>conventional</td>\n",
       "      <td>32.029210</td>\n",
       "      <td>58.20</td>\n",
       "      <td>2.686106</td>\n",
       "      <td>0.550330</td>\n",
       "    </tr>\n",
       "    <tr>\n",
       "      <th>2818</th>\n",
       "      <td>7811</td>\n",
       "      <td>2022-04-04</td>\n",
       "      <td>23.400581</td>\n",
       "      <td>conventional</td>\n",
       "      <td>86.993466</td>\n",
       "      <td>93.10</td>\n",
       "      <td>3.717577</td>\n",
       "      <td>0.934409</td>\n",
       "    </tr>\n",
       "    <tr>\n",
       "      <th>2993</th>\n",
       "      <td>7902</td>\n",
       "      <td>2022-04-11</td>\n",
       "      <td>16.751268</td>\n",
       "      <td>conventional</td>\n",
       "      <td>69.686936</td>\n",
       "      <td>92.50</td>\n",
       "      <td>4.160099</td>\n",
       "      <td>0.753372</td>\n",
       "    </tr>\n",
       "  </tbody>\n",
       "</table>\n",
       "<p>117 rows × 8 columns</p>\n",
       "</div>"
      ],
      "text/plain": [
       "      Vehicle        Date     Energy    Powertrain   Distance  Real_Energy  \\\n",
       "131      1553  2022-04-06   9.858657  conventional  18.127805        20.38   \n",
       "132      1555  2022-04-01  13.250079  conventional  11.866971        13.54   \n",
       "140      1555  2022-04-11   0.235054  conventional   0.722538         3.62   \n",
       "143      1555  2022-04-14  17.746467  conventional  21.549856        35.10   \n",
       "158      1557  2022-04-13   0.516803  conventional   2.619232        21.42   \n",
       "...       ...         ...        ...           ...        ...          ...   \n",
       "2572     3402  2022-04-02   2.821922  conventional  12.446591        69.00   \n",
       "2573     3402  2022-04-07   1.198222  conventional   4.910964         8.30   \n",
       "2766     7662  2022-04-18  11.924030  conventional  32.029210        58.20   \n",
       "2818     7811  2022-04-04  23.400581  conventional  86.993466        93.10   \n",
       "2993     7902  2022-04-11  16.751268  conventional  69.686936        92.50   \n",
       "\n",
       "      Fuel/energy_economy  Real_Fuel/energy_economy  \n",
       "131              1.838770                  0.889490  \n",
       "132              0.895615                  0.876438  \n",
       "140              3.073930                  0.199596  \n",
       "143              1.214318                  0.613956  \n",
       "158              5.068149                  0.122280  \n",
       "...                   ...                       ...  \n",
       "2572             4.410679                  0.180385  \n",
       "2573             4.098541                  0.591682  \n",
       "2766             2.686106                  0.550330  \n",
       "2818             3.717577                  0.934409  \n",
       "2993             4.160099                  0.753372  \n",
       "\n",
       "[117 rows x 8 columns]"
      ]
     },
     "execution_count": 3218,
     "metadata": {},
     "output_type": "execute_result"
    }
   ],
   "source": [
    "df_conventional[(df_conventional['Real_Fuel/energy_economy'] < 1)]"
   ]
  },
  {
   "cell_type": "code",
   "execution_count": 3258,
   "id": "b1b2d78d",
   "metadata": {},
   "outputs": [],
   "source": [
    "train_conventional, test_conventional = train_test_split(df_conventional, test_size=0.2, random_state=(42))    \n",
    "train_hybrid, test_hybrid = train_test_split(df_hybrid, test_size=0.2, random_state=(42))    "
   ]
  },
  {
   "cell_type": "code",
   "execution_count": 3250,
   "id": "c1ac1276",
   "metadata": {},
   "outputs": [
    {
     "data": {
      "image/png": "[encoded data removed]",
      "text/plain": [
       "<Figure size 720x864 with 1 Axes>"
      ]
     },
     "metadata": {
      "needs_background": "light"
     },
     "output_type": "display_data"
    }
   ],
   "source": [
    "fig, ax = plt.subplots()\n",
    "df_conventional['Real_Fuel/energy_economy'].hist(figsize = (10,12), zorder=3)\n",
    "plt.xlabel(\"Real fuel economy for CDBs (MPG)\", fontsize=18)\n",
    "plt.ylabel(\"Count\", fontsize=18)\n",
    "plt.xticks(fontsize=14)\n",
    "plt.yticks(fontsize=14)\n",
    "fig.savefig(r'../../figures/hist-economy-CDB.png', dpi=400, bbox_inches='tight')"
   ]
  },
  {
   "cell_type": "code",
   "execution_count": 3221,
   "id": "e43b1f43",
   "metadata": {},
   "outputs": [
    {
     "data": {
      "text/plain": [
       "<AxesSubplot:>"
      ]
     },
     "execution_count": 3221,
     "metadata": {},
     "output_type": "execute_result"
    },
    {
     "data": {
      "image/png": "[encoded data removed]",
      "text/plain": [
       "<Figure size 432x288 with 1 Axes>"
      ]
     },
     "metadata": {
      "needs_background": "light"
     },
     "output_type": "display_data"
    }
   ],
   "source": [
    "df_conventional['Fuel/energy_economy'].hist()"
   ]
  },
  {
   "cell_type": "code",
   "execution_count": 3249,
   "id": "a87c32a1",
   "metadata": {},
   "outputs": [
    {
     "data": {
      "image/png": "[encoded data removed]",
      "text/plain": [
       "<Figure size 720x864 with 1 Axes>"
      ]
     },
     "metadata": {
      "needs_background": "light"
     },
     "output_type": "display_data"
    }
   ],
   "source": [
    "fig, ax = plt.subplots()\n",
    "df_hybrid['Real_Fuel/energy_economy'].hist(figsize = (10,12), zorder=3)\n",
    "plt.xlabel(\"Real fuel economy for HEBs (MPG)\", fontsize=18)\n",
    "plt.ylabel(\"Count\", fontsize=18)\n",
    "plt.xticks(fontsize=14)\n",
    "plt.yticks(fontsize=14)\n",
    "fig.savefig(r'../../figures/hist-economy-HEB.png', dpi=400, bbox_inches='tight')"
   ]
  },
  {
   "cell_type": "code",
   "execution_count": 3223,
   "id": "ab194d0f",
   "metadata": {},
   "outputs": [
    {
     "data": {
      "text/plain": [
       "<AxesSubplot:>"
      ]
     },
     "execution_count": 3223,
     "metadata": {},
     "output_type": "execute_result"
    },
    {
     "data": {
      "image/png": "[encoded data removed]",
      "text/plain": [
       "<Figure size 432x288 with 1 Axes>"
      ]
     },
     "metadata": {
      "needs_background": "light"
     },
     "output_type": "display_data"
    }
   ],
   "source": [
    "df_hybrid['Fuel/energy_economy'].hist()"
   ]
  },
  {
   "cell_type": "code",
   "execution_count": 3224,
   "id": "ad08f96d",
   "metadata": {},
   "outputs": [
    {
     "data": {
      "text/plain": [
       "3.7480479278770256"
      ]
     },
     "execution_count": 3224,
     "metadata": {},
     "output_type": "execute_result"
    }
   ],
   "source": [
    "df_conventional['Fuel/energy_economy'].mean()"
   ]
  },
  {
   "cell_type": "code",
   "execution_count": 3225,
   "id": "deaa8364",
   "metadata": {},
   "outputs": [
    {
     "data": {
      "text/plain": [
       "3.253903059579212"
      ]
     },
     "execution_count": 3225,
     "metadata": {},
     "output_type": "execute_result"
    }
   ],
   "source": [
    "df_conventional['Real_Fuel/energy_economy'].mean()"
   ]
  },
  {
   "cell_type": "code",
   "execution_count": 3226,
   "id": "7101ca1a",
   "metadata": {},
   "outputs": [
    {
     "data": {
      "text/plain": [
       "5.735868300405763"
      ]
     },
     "execution_count": 3226,
     "metadata": {},
     "output_type": "execute_result"
    }
   ],
   "source": [
    "df_hybrid['Fuel/energy_economy'].mean()"
   ]
  },
  {
   "cell_type": "code",
   "execution_count": 3227,
   "id": "ea06bf7e",
   "metadata": {},
   "outputs": [
    {
     "data": {
      "text/plain": [
       "4.166555283149985"
      ]
     },
     "execution_count": 3227,
     "metadata": {},
     "output_type": "execute_result"
    }
   ],
   "source": [
    "df_hybrid['Real_Fuel/energy_economy'].mean()"
   ]
  },
  {
   "cell_type": "code",
   "execution_count": 3251,
   "id": "e4beaa90",
   "metadata": {},
   "outputs": [],
   "source": [
    "#df_conventional=df_conventional[(df_conventional['Real_Fuel/energy_economy'] < 20)]"
   ]
  },
  {
   "cell_type": "code",
   "execution_count": 3252,
   "id": "cb2b70f2",
   "metadata": {},
   "outputs": [
    {
     "data": {
      "text/plain": [
       "<AxesSubplot:>"
      ]
     },
     "execution_count": 3252,
     "metadata": {},
     "output_type": "execute_result"
    },
    {
     "data": {
      "image/png": "[encoded data removed]",
      "text/plain": [
       "<Figure size 432x288 with 1 Axes>"
      ]
     },
     "metadata": {
      "needs_background": "light"
     },
     "output_type": "display_data"
    }
   ],
   "source": [
    "#df_conventional['Real_Fuel/energy_economy'].hist()"
   ]
  },
  {
   "cell_type": "code",
   "execution_count": 3230,
   "id": "59fb83c6",
   "metadata": {},
   "outputs": [],
   "source": [
    "#df_integrated.to_csv(r'../../results/model_plus_validation_results.csv')"
   ]
  },
  {
   "cell_type": "code",
   "execution_count": 3259,
   "id": "a241d428",
   "metadata": {},
   "outputs": [],
   "source": [
    "from sklearn.metrics import mean_squared_error\n",
    "\n",
    "rmse_conventional = mean_squared_error(df_conventional['Real_Fuel/energy_economy'], df_conventional['Fuel/energy_economy'], squared=False)\n",
    "rmse_hybrid = mean_squared_error(df_hybrid['Real_Fuel/energy_economy'], df_hybrid['Fuel/energy_economy'], squared=False)\n",
    "rmse_conventional_test = mean_squared_error(test_conventional['Real_Fuel/energy_economy'], test_conventional['Fuel/energy_economy'], squared=False)\n",
    "rmse_hybrid_test = mean_squared_error(test_hybrid['Real_Fuel/energy_economy'], test_hybrid['Fuel/energy_economy'], squared=False)\n",
    "rmse_conventional_train = mean_squared_error(train_conventional['Real_Fuel/energy_economy'], train_conventional['Fuel/energy_economy'], squared=False)\n",
    "rmse_hybrid_train = mean_squared_error(train_hybrid['Real_Fuel/energy_economy'], train_hybrid['Fuel/energy_economy'], squared=False)"
   ]
  },
  {
   "cell_type": "code",
   "execution_count": 3260,
   "id": "a2d231b1",
   "metadata": {},
   "outputs": [],
   "source": [
    "#print(\"For conventional RMSE total:\", rmse_conventional, \"test:\", rmse_conventional_test, \"train\": rmse_conventional_train)"
   ]
  },
  {
   "cell_type": "code",
   "execution_count": 3261,
   "id": "ebe53d48",
   "metadata": {},
   "outputs": [
    {
     "data": {
      "text/plain": [
       "1.6463465929775436"
      ]
     },
     "execution_count": 3261,
     "metadata": {},
     "output_type": "execute_result"
    }
   ],
   "source": [
    "rmse_conventional"
   ]
  },
  {
   "cell_type": "code",
   "execution_count": 3262,
   "id": "6d807386",
   "metadata": {},
   "outputs": [
    {
     "data": {
      "text/plain": [
       "1.6412418090554437"
      ]
     },
     "execution_count": 3262,
     "metadata": {},
     "output_type": "execute_result"
    }
   ],
   "source": [
    "rmse_conventional_test"
   ]
  },
  {
   "cell_type": "code",
   "execution_count": 3263,
   "id": "32d3eb8e",
   "metadata": {},
   "outputs": [
    {
     "data": {
      "text/plain": [
       "1.6476230152286546"
      ]
     },
     "execution_count": 3263,
     "metadata": {},
     "output_type": "execute_result"
    }
   ],
   "source": [
    "rmse_conventional_train"
   ]
  },
  {
   "cell_type": "code",
   "execution_count": 3236,
   "id": "e0974de6",
   "metadata": {},
   "outputs": [
    {
     "data": {
      "text/plain": [
       "2.436271190806143"
      ]
     },
     "execution_count": 3236,
     "metadata": {},
     "output_type": "execute_result"
    }
   ],
   "source": [
    "rmse_hybrid"
   ]
  },
  {
   "cell_type": "code",
   "execution_count": 3237,
   "id": "609917ec",
   "metadata": {},
   "outputs": [
    {
     "data": {
      "text/plain": [
       "1.9110546647677615"
      ]
     },
     "execution_count": 3237,
     "metadata": {},
     "output_type": "execute_result"
    }
   ],
   "source": [
    "rmse_hybrid_test"
   ]
  },
  {
   "cell_type": "code",
   "execution_count": 3238,
   "id": "65d85cbb",
   "metadata": {},
   "outputs": [
    {
     "data": {
      "text/plain": [
       "2.555814079417007"
      ]
     },
     "execution_count": 3238,
     "metadata": {},
     "output_type": "execute_result"
    }
   ],
   "source": [
    "rmse_hybrid_train"
   ]
  },
  {
   "cell_type": "code",
   "execution_count": 3172,
   "id": "4f34b0a3",
   "metadata": {},
   "outputs": [],
   "source": [
    "#mse_hybrid = np.square(np.subtract(df_hybrid['Real_Fuel/energy_economy'],df_hybrid['Fuel/energy_economy'])).mean() \n",
    "#rmse_hybrid = math.sqrt(mse_hybrid)"
   ]
  },
  {
   "cell_type": "code",
   "execution_count": 3264,
   "id": "c0fb1eac",
   "metadata": {},
   "outputs": [
    {
     "data": {
      "image/png": "[encoded data removed]",
      "text/plain": [
       "<Figure size 720x720 with 1 Axes>"
      ]
     },
     "metadata": {
      "needs_background": "light"
     },
     "output_type": "display_data"
    }
   ],
   "source": [
    "fig, ax = plt.subplots(figsize=(10,10))\n",
    "plt.scatter(df_conventional['Real_Fuel/energy_economy'], df_conventional['Fuel/energy_economy'], c='crimson')\n",
    "\n",
    "p1 = max(max(df_conventional['Fuel/energy_economy']), max(df_conventional['Real_Fuel/energy_economy']))\n",
    "p2 = min(min(df_conventional['Fuel/energy_economy']), min(df_conventional['Real_Fuel/energy_economy']))\n",
    "plt.plot([p1, p2], [p1, p2], 'b-')\n",
    "plt.xlabel('True Values (mile/gallon)', fontsize=15)\n",
    "plt.ylabel('Predictions (mile/gallon)', fontsize=15)\n",
    "plt.axis('equal')\n",
    "fig.savefig(r'../../figures/actual-predicted-CDB.png', dpi=400, bbox_inches='tight')\n",
    "plt.show()"
   ]
  },
  {
   "cell_type": "code",
   "execution_count": 3248,
   "id": "168cf2da",
   "metadata": {},
   "outputs": [
    {
     "data": {
      "image/png": "[encoded data removed]",
      "text/plain": [
       "<Figure size 720x720 with 1 Axes>"
      ]
     },
     "metadata": {
      "needs_background": "light"
     },
     "output_type": "display_data"
    }
   ],
   "source": [
    "fig, ax = plt.subplots(figsize=(10,10))\n",
    "plt.scatter(df_hybrid['Real_Fuel/energy_economy'], df_hybrid['Fuel/energy_economy'], c='crimson')\n",
    "\n",
    "p1 = max(max(df_hybrid['Fuel/energy_economy']), max(df_hybrid['Real_Fuel/energy_economy']))\n",
    "p2 = min(min(df_hybrid['Fuel/energy_economy']), min(df_hybrid['Real_Fuel/energy_economy']))\n",
    "plt.plot([p1, p2], [p1, p2], 'b-')\n",
    "plt.xlabel('True Values (mile/gallon)', fontsize=15)\n",
    "plt.ylabel('Predictions (mile/gallon)', fontsize=15)\n",
    "plt.axis('equal')\n",
    "fig.savefig(r'../../figures/actual-predicted-HEB.png', dpi=400, bbox_inches='tight')\n",
    "plt.show()"
   ]
  },
  {
   "cell_type": "code",
   "execution_count": 546,
   "id": "9801fb35",
   "metadata": {},
   "outputs": [
    {
     "data": {
      "text/plain": [
       "3.260150537747788"
      ]
     },
     "execution_count": 546,
     "metadata": {},
     "output_type": "execute_result"
    }
   ],
   "source": [
    "df_conventional['Real_Fuel/energy_economy'].mean()"
   ]
  },
  {
   "cell_type": "code",
   "execution_count": 1443,
   "id": "03225d92",
   "metadata": {},
   "outputs": [
    {
     "data": {
      "text/plain": [
       "3.6893323393890034"
      ]
     },
     "execution_count": 1443,
     "metadata": {},
     "output_type": "execute_result"
    }
   ],
   "source": [
    "df_conventional['Fuel/energy_economy'].mean()"
   ]
  },
  {
   "cell_type": "code",
   "execution_count": 1447,
   "id": "461038c0",
   "metadata": {},
   "outputs": [],
   "source": [
    "df1_vehicles=[3212]"
   ]
  },
  {
   "cell_type": "code",
   "execution_count": 1449,
   "id": "11f0c8c3",
   "metadata": {},
   "outputs": [
    {
     "data": {
      "text/html": [
       "<div>\n",
       "<style scoped>\n",
       "    .dataframe tbody tr th:only-of-type {\n",
       "        vertical-align: middle;\n",
       "    }\n",
       "\n",
       "    .dataframe tbody tr th {\n",
       "        vertical-align: top;\n",
       "    }\n",
       "\n",
       "    .dataframe thead th {\n",
       "        text-align: right;\n",
       "    }\n",
       "</style>\n",
       "<table border=\"1\" class=\"dataframe\">\n",
       "  <thead>\n",
       "    <tr style=\"text-align: right;\">\n",
       "      <th></th>\n",
       "      <th>Vehicle</th>\n",
       "      <th>Date</th>\n",
       "      <th>Energy</th>\n",
       "      <th>Powertrain</th>\n",
       "      <th>Distance</th>\n",
       "      <th>Real_Energy</th>\n",
       "      <th>Fuel/energy_economy</th>\n",
       "      <th>Real_Fuel/energy_economy</th>\n",
       "    </tr>\n",
       "  </thead>\n",
       "  <tbody>\n",
       "    <tr>\n",
       "      <th>2083</th>\n",
       "      <td>3212</td>\n",
       "      <td>2022-04-07</td>\n",
       "      <td>48.619081</td>\n",
       "      <td>conventional</td>\n",
       "      <td>135.018871</td>\n",
       "      <td>29.3</td>\n",
       "      <td>2.777076</td>\n",
       "      <td>4.608153</td>\n",
       "    </tr>\n",
       "    <tr>\n",
       "      <th>2084</th>\n",
       "      <td>3212</td>\n",
       "      <td>2022-04-08</td>\n",
       "      <td>24.798524</td>\n",
       "      <td>conventional</td>\n",
       "      <td>76.937812</td>\n",
       "      <td>77.1</td>\n",
       "      <td>3.102516</td>\n",
       "      <td>0.997896</td>\n",
       "    </tr>\n",
       "    <tr>\n",
       "      <th>2086</th>\n",
       "      <td>3212</td>\n",
       "      <td>2022-04-11</td>\n",
       "      <td>26.278684</td>\n",
       "      <td>conventional</td>\n",
       "      <td>91.369757</td>\n",
       "      <td>29.5</td>\n",
       "      <td>3.476953</td>\n",
       "      <td>3.097280</td>\n",
       "    </tr>\n",
       "    <tr>\n",
       "      <th>2087</th>\n",
       "      <td>3212</td>\n",
       "      <td>2022-04-12</td>\n",
       "      <td>14.405865</td>\n",
       "      <td>conventional</td>\n",
       "      <td>16.616347</td>\n",
       "      <td>10.6</td>\n",
       "      <td>1.153443</td>\n",
       "      <td>1.567580</td>\n",
       "    </tr>\n",
       "    <tr>\n",
       "      <th>2089</th>\n",
       "      <td>3212</td>\n",
       "      <td>2022-04-14</td>\n",
       "      <td>35.539471</td>\n",
       "      <td>conventional</td>\n",
       "      <td>154.372203</td>\n",
       "      <td>42.6</td>\n",
       "      <td>4.343683</td>\n",
       "      <td>3.623761</td>\n",
       "    </tr>\n",
       "    <tr>\n",
       "      <th>2090</th>\n",
       "      <td>3212</td>\n",
       "      <td>2022-04-15</td>\n",
       "      <td>5.400433</td>\n",
       "      <td>conventional</td>\n",
       "      <td>17.189445</td>\n",
       "      <td>55.9</td>\n",
       "      <td>3.182975</td>\n",
       "      <td>0.307503</td>\n",
       "    </tr>\n",
       "    <tr>\n",
       "      <th>2091</th>\n",
       "      <td>3212</td>\n",
       "      <td>2022-04-23</td>\n",
       "      <td>19.701222</td>\n",
       "      <td>conventional</td>\n",
       "      <td>63.446732</td>\n",
       "      <td>33.1</td>\n",
       "      <td>3.220447</td>\n",
       "      <td>1.916820</td>\n",
       "    </tr>\n",
       "    <tr>\n",
       "      <th>2092</th>\n",
       "      <td>3212</td>\n",
       "      <td>2022-04-24</td>\n",
       "      <td>19.095716</td>\n",
       "      <td>conventional</td>\n",
       "      <td>63.427457</td>\n",
       "      <td>21.3</td>\n",
       "      <td>3.321554</td>\n",
       "      <td>2.977815</td>\n",
       "    </tr>\n",
       "    <tr>\n",
       "      <th>2094</th>\n",
       "      <td>3212</td>\n",
       "      <td>2022-04-26</td>\n",
       "      <td>18.537434</td>\n",
       "      <td>conventional</td>\n",
       "      <td>19.213700</td>\n",
       "      <td>46.2</td>\n",
       "      <td>1.036481</td>\n",
       "      <td>0.415881</td>\n",
       "    </tr>\n",
       "    <tr>\n",
       "      <th>2096</th>\n",
       "      <td>3212</td>\n",
       "      <td>2022-04-28</td>\n",
       "      <td>29.401205</td>\n",
       "      <td>conventional</td>\n",
       "      <td>100.280686</td>\n",
       "      <td>60.2</td>\n",
       "      <td>3.410768</td>\n",
       "      <td>1.665792</td>\n",
       "    </tr>\n",
       "    <tr>\n",
       "      <th>2097</th>\n",
       "      <td>3212</td>\n",
       "      <td>2022-04-29</td>\n",
       "      <td>49.616961</td>\n",
       "      <td>conventional</td>\n",
       "      <td>176.503042</td>\n",
       "      <td>31.7</td>\n",
       "      <td>3.557313</td>\n",
       "      <td>5.567919</td>\n",
       "    </tr>\n",
       "  </tbody>\n",
       "</table>\n",
       "</div>"
      ],
      "text/plain": [
       "      Vehicle        Date     Energy    Powertrain    Distance  Real_Energy  \\\n",
       "2083     3212  2022-04-07  48.619081  conventional  135.018871         29.3   \n",
       "2084     3212  2022-04-08  24.798524  conventional   76.937812         77.1   \n",
       "2086     3212  2022-04-11  26.278684  conventional   91.369757         29.5   \n",
       "2087     3212  2022-04-12  14.405865  conventional   16.616347         10.6   \n",
       "2089     3212  2022-04-14  35.539471  conventional  154.372203         42.6   \n",
       "2090     3212  2022-04-15   5.400433  conventional   17.189445         55.9   \n",
       "2091     3212  2022-04-23  19.701222  conventional   63.446732         33.1   \n",
       "2092     3212  2022-04-24  19.095716  conventional   63.427457         21.3   \n",
       "2094     3212  2022-04-26  18.537434  conventional   19.213700         46.2   \n",
       "2096     3212  2022-04-28  29.401205  conventional  100.280686         60.2   \n",
       "2097     3212  2022-04-29  49.616961  conventional  176.503042         31.7   \n",
       "\n",
       "      Fuel/energy_economy  Real_Fuel/energy_economy  \n",
       "2083             2.777076                  4.608153  \n",
       "2084             3.102516                  0.997896  \n",
       "2086             3.476953                  3.097280  \n",
       "2087             1.153443                  1.567580  \n",
       "2089             4.343683                  3.623761  \n",
       "2090             3.182975                  0.307503  \n",
       "2091             3.220447                  1.916820  \n",
       "2092             3.321554                  2.977815  \n",
       "2094             1.036481                  0.415881  \n",
       "2096             3.410768                  1.665792  \n",
       "2097             3.557313                  5.567919  "
      ]
     },
     "execution_count": 1449,
     "metadata": {},
     "output_type": "execute_result"
    }
   ],
   "source": [
    "df_integrated.loc[df_integrated['Vehicle'].isin(df1_vehicles)]"
   ]
  },
  {
   "cell_type": "code",
   "execution_count": 3308,
   "id": "fce509cd",
   "metadata": {},
   "outputs": [
    {
     "data": {
      "image/png": "[encoded data removed]",
      "text/plain": [
       "<Figure size 4800x3200 with 1 Axes>"
      ]
     },
     "metadata": {
      "needs_background": "light"
     },
     "output_type": "display_data"
    }
   ],
   "source": [
    "figure(figsize=(12, 8), dpi=400)\n",
    "plt.scatter(x=df_hybrid['Real_Energy'], y=df_hybrid['Energy'])\n",
    "plt.xlabel(\"Real energy\", fontsize=18)\n",
    "plt.ylabel(\"CDB model prediction of energy \", fontsize=18)\n",
    "plt.xticks(fontsize=14)\n",
    "plt.yticks(fontsize=14)\n",
    "plt.savefig(r'../../figures/beta-estimation.png', dpi=400, bbox_inches='tight')\n",
    "plt.show()"
   ]
  },
  {
   "cell_type": "code",
   "execution_count": 3313,
   "id": "5a105959",
   "metadata": {},
   "outputs": [
    {
     "name": "stdout",
     "output_type": "stream",
     "text": [
      "                                 OLS Regression Results                                \n",
      "=======================================================================================\n",
      "Dep. Variable:                 Energy   R-squared (uncentered):                   0.795\n",
      "Model:                            OLS   Adj. R-squared (uncentered):              0.793\n",
      "Method:                 Least Squares   F-statistic:                              425.5\n",
      "Date:                Wed, 27 Jul 2022   Prob (F-statistic):                    1.33e-39\n",
      "Time:                        13:15:01   Log-Likelihood:                         -434.81\n",
      "No. Observations:                 111   AIC:                                      871.6\n",
      "Df Residuals:                     110   BIC:                                      874.3\n",
      "Df Model:                           1                                                  \n",
      "Covariance Type:            nonrobust                                                  \n",
      "===============================================================================\n",
      "                  coef    std err          t      P>|t|      [0.025      0.975]\n",
      "-------------------------------------------------------------------------------\n",
      "Real_Energy     0.7561      0.037     20.627      0.000       0.683       0.829\n",
      "==============================================================================\n",
      "Omnibus:                       53.546   Durbin-Watson:                   2.003\n",
      "Prob(Omnibus):                  0.000   Jarque-Bera (JB):              187.792\n",
      "Skew:                          -1.692   Prob(JB):                     1.67e-41\n",
      "Kurtosis:                       8.399   Cond. No.                         1.00\n",
      "==============================================================================\n",
      "\n",
      "Notes:\n",
      "[1] R² is computed without centering (uncentered) since the model does not contain a constant.\n",
      "[2] Standard Errors assume that the covariance matrix of the errors is correctly specified.\n"
     ]
    }
   ],
   "source": [
    "X= df_hybrid['Real_Energy']\n",
    "y= df_hybrid['Energy']\n",
    "#X = sm.add_constant(X)\n",
    "est = sm.OLS(y, X).fit()\n",
    "print(est.summary())"
   ]
  },
  {
   "cell_type": "code",
   "execution_count": null,
   "id": "0d1735db",
   "metadata": {},
   "outputs": [],
   "source": []
  }
 ],
 "metadata": {
  "kernelspec": {
   "display_name": "Python 3 (ipykernel)",
   "language": "python",
   "name": "python3"
  },
  "language_info": {
   "codemirror_mode": {
    "name": "ipython",
    "version": 3
   },
   "file_extension": ".py",
   "mimetype": "text/x-python",
   "name": "python",
   "nbconvert_exporter": "python",
   "pygments_lexer": "ipython3",
   "version": "3.9.12"
  }
 },
 "nbformat": 4,
 "nbformat_minor": 5
}
