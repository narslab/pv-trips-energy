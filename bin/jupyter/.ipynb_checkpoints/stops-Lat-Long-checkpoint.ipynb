{
 "cells": [
  {
   "cell_type": "code",
   "execution_count": 1,
   "id": "2618e5ec",
   "metadata": {},
   "outputs": [],
   "source": [
    "import pandas as pd"
   ]
  },
  {
   "cell_type": "code",
   "execution_count": 4,
   "id": "bd59ee43-af5f-423c-a293-6b7a13033af6",
   "metadata": {},
   "outputs": [],
   "source": [
    "df = pd.read_csv(r'../../data/raw/Apr2022LatLon.csv', delimiter=',', skiprows=0, low_memory=False)"
   ]
  },
  {
   "cell_type": "code",
   "execution_count": null,
   "id": "876cb1ee",
   "metadata": {},
   "outputs": [],
   "source": [
    "df_stops=df"
   ]
  },
  {
   "cell_type": "code",
   "execution_count": null,
   "id": "a33719a2",
   "metadata": {},
   "outputs": [],
   "source": []
  }
 ],
 "metadata": {
  "kernelspec": {
   "display_name": "Python 3 (ipykernel)",
   "language": "python",
   "name": "python3"
  },
  "language_info": {
   "codemirror_mode": {
    "name": "ipython",
    "version": 3
   },
   "file_extension": ".py",
   "mimetype": "text/x-python",
   "name": "python",
   "nbconvert_exporter": "python",
   "pygments_lexer": "ipython3",
   "version": "3.9.12"
  }
 },
 "nbformat": 4,
 "nbformat_minor": 5
}
