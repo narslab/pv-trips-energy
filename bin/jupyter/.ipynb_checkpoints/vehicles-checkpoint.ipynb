{
 "cells": [
  {
   "cell_type": "code",
   "execution_count": 1,
   "id": "119e630a-bee6-4e6c-8493-ce1866a3381f",
   "metadata": {},
   "outputs": [],
   "source": [
    "import pandas as pd\n",
    "import matplotlib.pyplot as plt"
   ]
  },
  {
   "cell_type": "code",
   "execution_count": null,
   "id": "86684f50",
   "metadata": {},
   "outputs": [],
   "source": [
    "with open(r'../../data/raw/PVTA Vehicles.csv') as S1_cost:\n",
    "    df_S1_cost=pd.read_csv(S1_cost)\n",
    "df_S1_cost=df_S1_cost.groupby(['year'])['capex_electric','opex_electric','environmental_restoration_electric','non_fatal_electric','fatal_electric','capex_broadband','opex_broadband'].sum()\n",
    "df_S1_cost"
   ]
  },
  {
   "cell_type": "code",
   "execution_count": 2,
   "id": "6ee9600c-9653-46e1-9bcb-db569ca17156",
   "metadata": {},
   "outputs": [
    {
     "ename": "FileNotFoundError",
     "evalue": "[Errno 2] No such file or directory: '../../data/raw/PVTA Vehicles.csv'",
     "output_type": "error",
     "traceback": [
      "\u001b[1;31m---------------------------------------------------------------------------\u001b[0m",
      "\u001b[1;31mFileNotFoundError\u001b[0m                         Traceback (most recent call last)",
      "\u001b[1;32m~\\AppData\\Local\\Temp/ipykernel_13300/1504491983.py\u001b[0m in \u001b[0;36m<module>\u001b[1;34m\u001b[0m\n\u001b[1;32m----> 1\u001b[1;33m \u001b[0mxls\u001b[0m \u001b[1;33m=\u001b[0m \u001b[0mpd\u001b[0m\u001b[1;33m.\u001b[0m\u001b[0mExcelFile\u001b[0m\u001b[1;33m(\u001b[0m\u001b[1;34mr'../../data/raw/PVTA Vehicles.csv'\u001b[0m\u001b[1;33m)\u001b[0m\u001b[1;33m\u001b[0m\u001b[1;33m\u001b[0m\u001b[0m\n\u001b[0m",
      "\u001b[1;32m~\\Anaconda3\\lib\\site-packages\\pandas\\io\\excel\\_base.py\u001b[0m in \u001b[0;36m__init__\u001b[1;34m(self, path_or_buffer, engine, storage_options)\u001b[0m\n\u001b[0;32m   1189\u001b[0m                 \u001b[0mext\u001b[0m \u001b[1;33m=\u001b[0m \u001b[1;34m\"xls\"\u001b[0m\u001b[1;33m\u001b[0m\u001b[1;33m\u001b[0m\u001b[0m\n\u001b[0;32m   1190\u001b[0m             \u001b[1;32melse\u001b[0m\u001b[1;33m:\u001b[0m\u001b[1;33m\u001b[0m\u001b[1;33m\u001b[0m\u001b[0m\n\u001b[1;32m-> 1191\u001b[1;33m                 ext = inspect_excel_format(\n\u001b[0m\u001b[0;32m   1192\u001b[0m                     \u001b[0mcontent_or_path\u001b[0m\u001b[1;33m=\u001b[0m\u001b[0mpath_or_buffer\u001b[0m\u001b[1;33m,\u001b[0m \u001b[0mstorage_options\u001b[0m\u001b[1;33m=\u001b[0m\u001b[0mstorage_options\u001b[0m\u001b[1;33m\u001b[0m\u001b[1;33m\u001b[0m\u001b[0m\n\u001b[0;32m   1193\u001b[0m                 )\n",
      "\u001b[1;32m~\\Anaconda3\\lib\\site-packages\\pandas\\io\\excel\\_base.py\u001b[0m in \u001b[0;36minspect_excel_format\u001b[1;34m(content_or_path, storage_options)\u001b[0m\n\u001b[0;32m   1068\u001b[0m         \u001b[0mcontent_or_path\u001b[0m \u001b[1;33m=\u001b[0m \u001b[0mBytesIO\u001b[0m\u001b[1;33m(\u001b[0m\u001b[0mcontent_or_path\u001b[0m\u001b[1;33m)\u001b[0m\u001b[1;33m\u001b[0m\u001b[1;33m\u001b[0m\u001b[0m\n\u001b[0;32m   1069\u001b[0m \u001b[1;33m\u001b[0m\u001b[0m\n\u001b[1;32m-> 1070\u001b[1;33m     with get_handle(\n\u001b[0m\u001b[0;32m   1071\u001b[0m         \u001b[0mcontent_or_path\u001b[0m\u001b[1;33m,\u001b[0m \u001b[1;34m\"rb\"\u001b[0m\u001b[1;33m,\u001b[0m \u001b[0mstorage_options\u001b[0m\u001b[1;33m=\u001b[0m\u001b[0mstorage_options\u001b[0m\u001b[1;33m,\u001b[0m \u001b[0mis_text\u001b[0m\u001b[1;33m=\u001b[0m\u001b[1;32mFalse\u001b[0m\u001b[1;33m\u001b[0m\u001b[1;33m\u001b[0m\u001b[0m\n\u001b[0;32m   1072\u001b[0m     ) as handle:\n",
      "\u001b[1;32m~\\Anaconda3\\lib\\site-packages\\pandas\\io\\common.py\u001b[0m in \u001b[0;36mget_handle\u001b[1;34m(path_or_buf, mode, encoding, compression, memory_map, is_text, errors, storage_options)\u001b[0m\n\u001b[0;32m    709\u001b[0m         \u001b[1;32melse\u001b[0m\u001b[1;33m:\u001b[0m\u001b[1;33m\u001b[0m\u001b[1;33m\u001b[0m\u001b[0m\n\u001b[0;32m    710\u001b[0m             \u001b[1;31m# Binary mode\u001b[0m\u001b[1;33m\u001b[0m\u001b[1;33m\u001b[0m\u001b[1;33m\u001b[0m\u001b[0m\n\u001b[1;32m--> 711\u001b[1;33m             \u001b[0mhandle\u001b[0m \u001b[1;33m=\u001b[0m \u001b[0mopen\u001b[0m\u001b[1;33m(\u001b[0m\u001b[0mhandle\u001b[0m\u001b[1;33m,\u001b[0m \u001b[0mioargs\u001b[0m\u001b[1;33m.\u001b[0m\u001b[0mmode\u001b[0m\u001b[1;33m)\u001b[0m\u001b[1;33m\u001b[0m\u001b[1;33m\u001b[0m\u001b[0m\n\u001b[0m\u001b[0;32m    712\u001b[0m         \u001b[0mhandles\u001b[0m\u001b[1;33m.\u001b[0m\u001b[0mappend\u001b[0m\u001b[1;33m(\u001b[0m\u001b[0mhandle\u001b[0m\u001b[1;33m)\u001b[0m\u001b[1;33m\u001b[0m\u001b[1;33m\u001b[0m\u001b[0m\n\u001b[0;32m    713\u001b[0m \u001b[1;33m\u001b[0m\u001b[0m\n",
      "\u001b[1;31mFileNotFoundError\u001b[0m: [Errno 2] No such file or directory: '../../data/raw/PVTA Vehicles.csv'"
     ]
    }
   ],
   "source": [
    "xls = pd.ExcelFile(r'../../data/raw/PVTA Vehicles.csv')"
   ]
  },
  {
   "cell_type": "code",
   "execution_count": 5,
   "id": "1421f6c9-c7d5-4509-acca-36342e38dcfc",
   "metadata": {},
   "outputs": [],
   "source": [
    "df1 = pd.read_excel(xls, 'DimVehicle')\n",
    "df2 = pd.read_excel(xls, 'Active Vehicles')\n",
    "df3 = pd.read_excel(xls, 'Active Vehicle Summary')\n",
    "df4 = pd.read_excel(xls, 'Vehicle Summary from Fall 2021 ')"
   ]
  },
  {
   "cell_type": "code",
   "execution_count": 6,
   "id": "bf727f2a",
   "metadata": {},
   "outputs": [
    {
     "data": {
      "text/html": [
       "<div>\n",
       "<style scoped>\n",
       "    .dataframe tbody tr th:only-of-type {\n",
       "        vertical-align: middle;\n",
       "    }\n",
       "\n",
       "    .dataframe tbody tr th {\n",
       "        vertical-align: top;\n",
       "    }\n",
       "\n",
       "    .dataframe thead th {\n",
       "        text-align: right;\n",
       "    }\n",
       "</style>\n",
       "<table border=\"1\" class=\"dataframe\">\n",
       "  <thead>\n",
       "    <tr style=\"text-align: right;\">\n",
       "      <th></th>\n",
       "      <th>VehicleKey</th>\n",
       "      <th>VehicleRecordID</th>\n",
       "      <th>TransitAuthorityKey</th>\n",
       "      <th>ActiveDate</th>\n",
       "      <th>DeleteDate</th>\n",
       "      <th>VehicleActive</th>\n",
       "      <th>VehicleActiveDesc</th>\n",
       "      <th>VehicleFareboxID</th>\n",
       "      <th>VehicleReportLabel</th>\n",
       "      <th>VehicleDesc</th>\n",
       "      <th>...</th>\n",
       "      <th>HasMDC</th>\n",
       "      <th>HasAPC</th>\n",
       "      <th>HasAnnunciator</th>\n",
       "      <th>HasVoice</th>\n",
       "      <th>HasData</th>\n",
       "      <th>HasJ1939</th>\n",
       "      <th>HasVoip</th>\n",
       "      <th>HasVideoTagging</th>\n",
       "      <th>UniqueVehicleInternalId</th>\n",
       "      <th>ExcludeInd</th>\n",
       "    </tr>\n",
       "  </thead>\n",
       "  <tbody>\n",
       "    <tr>\n",
       "      <th>0</th>\n",
       "      <td>-1</td>\n",
       "      <td>-1</td>\n",
       "      <td>-1</td>\n",
       "      <td>NaN</td>\n",
       "      <td>NaN</td>\n",
       "      <td>NaN</td>\n",
       "      <td>NaN</td>\n",
       "      <td>NaN</td>\n",
       "      <td>Unknown</td>\n",
       "      <td>Unknown</td>\n",
       "      <td>...</td>\n",
       "      <td>0</td>\n",
       "      <td>0</td>\n",
       "      <td>0</td>\n",
       "      <td>0</td>\n",
       "      <td>0</td>\n",
       "      <td>0</td>\n",
       "      <td>0</td>\n",
       "      <td>0</td>\n",
       "      <td>-1</td>\n",
       "      <td>0</td>\n",
       "    </tr>\n",
       "    <tr>\n",
       "      <th>1</th>\n",
       "      <td>1000</td>\n",
       "      <td>0</td>\n",
       "      <td>1</td>\n",
       "      <td>2010-03-25 15:37:39.200</td>\n",
       "      <td>NaN</td>\n",
       "      <td>0.0</td>\n",
       "      <td>Not Active</td>\n",
       "      <td>0.0</td>\n",
       "      <td>(X) Undefined</td>\n",
       "      <td>NaN</td>\n",
       "      <td>...</td>\n",
       "      <td>0</td>\n",
       "      <td>0</td>\n",
       "      <td>0</td>\n",
       "      <td>0</td>\n",
       "      <td>0</td>\n",
       "      <td>0</td>\n",
       "      <td>0</td>\n",
       "      <td>0</td>\n",
       "      <td>1000</td>\n",
       "      <td>0</td>\n",
       "    </tr>\n",
       "    <tr>\n",
       "      <th>2</th>\n",
       "      <td>1001</td>\n",
       "      <td>1</td>\n",
       "      <td>1</td>\n",
       "      <td>2010-03-26 11:20:55.847</td>\n",
       "      <td>2010-09-01 17:44:30.010</td>\n",
       "      <td>0.0</td>\n",
       "      <td>Not Active</td>\n",
       "      <td>7121.0</td>\n",
       "      <td>(X) 7121</td>\n",
       "      <td>7121</td>\n",
       "      <td>...</td>\n",
       "      <td>0</td>\n",
       "      <td>0</td>\n",
       "      <td>0</td>\n",
       "      <td>0</td>\n",
       "      <td>0</td>\n",
       "      <td>0</td>\n",
       "      <td>0</td>\n",
       "      <td>0</td>\n",
       "      <td>0</td>\n",
       "      <td>0</td>\n",
       "    </tr>\n",
       "    <tr>\n",
       "      <th>3</th>\n",
       "      <td>1002</td>\n",
       "      <td>2</td>\n",
       "      <td>1</td>\n",
       "      <td>2010-03-26 11:21:05.313</td>\n",
       "      <td>2012-10-04 11:50:06.160</td>\n",
       "      <td>0.0</td>\n",
       "      <td>Not Active</td>\n",
       "      <td>7123.0</td>\n",
       "      <td>(X) 7123</td>\n",
       "      <td>7123</td>\n",
       "      <td>...</td>\n",
       "      <td>0</td>\n",
       "      <td>0</td>\n",
       "      <td>0</td>\n",
       "      <td>1</td>\n",
       "      <td>1</td>\n",
       "      <td>0</td>\n",
       "      <td>0</td>\n",
       "      <td>0</td>\n",
       "      <td>0</td>\n",
       "      <td>0</td>\n",
       "    </tr>\n",
       "    <tr>\n",
       "      <th>4</th>\n",
       "      <td>1003</td>\n",
       "      <td>3</td>\n",
       "      <td>1</td>\n",
       "      <td>2010-03-26 11:21:13.547</td>\n",
       "      <td>2012-05-15 15:21:56.197</td>\n",
       "      <td>0.0</td>\n",
       "      <td>Not Active</td>\n",
       "      <td>7126.0</td>\n",
       "      <td>(X) 7126</td>\n",
       "      <td>7126</td>\n",
       "      <td>...</td>\n",
       "      <td>0</td>\n",
       "      <td>0</td>\n",
       "      <td>0</td>\n",
       "      <td>0</td>\n",
       "      <td>0</td>\n",
       "      <td>0</td>\n",
       "      <td>0</td>\n",
       "      <td>0</td>\n",
       "      <td>0</td>\n",
       "      <td>0</td>\n",
       "    </tr>\n",
       "  </tbody>\n",
       "</table>\n",
       "<p>5 rows × 38 columns</p>\n",
       "</div>"
      ],
      "text/plain": [
       "   VehicleKey  VehicleRecordID  TransitAuthorityKey               ActiveDate  \\\n",
       "0          -1               -1                   -1                      NaN   \n",
       "1        1000                0                    1  2010-03-25 15:37:39.200   \n",
       "2        1001                1                    1  2010-03-26 11:20:55.847   \n",
       "3        1002                2                    1  2010-03-26 11:21:05.313   \n",
       "4        1003                3                    1  2010-03-26 11:21:13.547   \n",
       "\n",
       "                DeleteDate  VehicleActive VehicleActiveDesc  VehicleFareboxID  \\\n",
       "0                      NaN            NaN               NaN               NaN   \n",
       "1                      NaN            0.0        Not Active               0.0   \n",
       "2  2010-09-01 17:44:30.010            0.0        Not Active            7121.0   \n",
       "3  2012-10-04 11:50:06.160            0.0        Not Active            7123.0   \n",
       "4  2012-05-15 15:21:56.197            0.0        Not Active            7126.0   \n",
       "\n",
       "  VehicleReportLabel VehicleDesc  ...  HasMDC HasAPC HasAnnunciator  HasVoice  \\\n",
       "0            Unknown     Unknown  ...       0      0              0         0   \n",
       "1      (X) Undefined         NaN  ...       0      0              0         0   \n",
       "2           (X) 7121        7121  ...       0      0              0         0   \n",
       "3           (X) 7123        7123  ...       0      0              0         1   \n",
       "4           (X) 7126        7126  ...       0      0              0         0   \n",
       "\n",
       "   HasData  HasJ1939  HasVoip  HasVideoTagging  UniqueVehicleInternalId  \\\n",
       "0        0         0        0                0                       -1   \n",
       "1        0         0        0                0                     1000   \n",
       "2        0         0        0                0                        0   \n",
       "3        1         0        0                0                        0   \n",
       "4        0         0        0                0                        0   \n",
       "\n",
       "   ExcludeInd  \n",
       "0           0  \n",
       "1           0  \n",
       "2           0  \n",
       "3           0  \n",
       "4           0  \n",
       "\n",
       "[5 rows x 38 columns]"
      ]
     },
     "execution_count": 6,
     "metadata": {},
     "output_type": "execute_result"
    }
   ],
   "source": [
    "df1.head()"
   ]
  },
  {
   "cell_type": "code",
   "execution_count": 7,
   "id": "3ef6943b",
   "metadata": {},
   "outputs": [
    {
     "data": {
      "text/html": [
       "<div>\n",
       "<style scoped>\n",
       "    .dataframe tbody tr th:only-of-type {\n",
       "        vertical-align: middle;\n",
       "    }\n",
       "\n",
       "    .dataframe tbody tr th {\n",
       "        vertical-align: top;\n",
       "    }\n",
       "\n",
       "    .dataframe thead th {\n",
       "        text-align: right;\n",
       "    }\n",
       "</style>\n",
       "<table border=\"1\" class=\"dataframe\">\n",
       "  <thead>\n",
       "    <tr style=\"text-align: right;\">\n",
       "      <th></th>\n",
       "      <th>VehicleKey</th>\n",
       "      <th>VehicleRecordID</th>\n",
       "      <th>TransitAuthorityKey</th>\n",
       "      <th>ActiveDate</th>\n",
       "      <th>DeleteDate</th>\n",
       "      <th>VehicleActive</th>\n",
       "      <th>VehicleActiveDesc</th>\n",
       "      <th>VehicleFareboxID</th>\n",
       "      <th>VehicleReportLabel</th>\n",
       "      <th>VehicleDesc</th>\n",
       "      <th>...</th>\n",
       "      <th>HasMDC</th>\n",
       "      <th>HasAPC</th>\n",
       "      <th>HasAnnunciator</th>\n",
       "      <th>HasVoice</th>\n",
       "      <th>HasData</th>\n",
       "      <th>HasJ1939</th>\n",
       "      <th>HasVoip</th>\n",
       "      <th>HasVideoTagging</th>\n",
       "      <th>UniqueVehicleInternalId</th>\n",
       "      <th>ExcludeInd</th>\n",
       "    </tr>\n",
       "  </thead>\n",
       "  <tbody>\n",
       "    <tr>\n",
       "      <th>0</th>\n",
       "      <td>1808</td>\n",
       "      <td>57</td>\n",
       "      <td>1</td>\n",
       "      <td>2018-08-01 08:45:39.657</td>\n",
       "      <td>NaN</td>\n",
       "      <td>1</td>\n",
       "      <td>Active</td>\n",
       "      <td>1407</td>\n",
       "      <td>1407</td>\n",
       "      <td>NaN</td>\n",
       "      <td>...</td>\n",
       "      <td>0</td>\n",
       "      <td>0</td>\n",
       "      <td>0</td>\n",
       "      <td>1</td>\n",
       "      <td>1</td>\n",
       "      <td>0</td>\n",
       "      <td>0</td>\n",
       "      <td>0</td>\n",
       "      <td>0</td>\n",
       "      <td>0</td>\n",
       "    </tr>\n",
       "    <tr>\n",
       "      <th>1</th>\n",
       "      <td>3103</td>\n",
       "      <td>282</td>\n",
       "      <td>2</td>\n",
       "      <td>2021-06-14 13:18:37.577</td>\n",
       "      <td>NaN</td>\n",
       "      <td>1</td>\n",
       "      <td>Active</td>\n",
       "      <td>1860</td>\n",
       "      <td>1860</td>\n",
       "      <td>2021 New Flyer</td>\n",
       "      <td>...</td>\n",
       "      <td>0</td>\n",
       "      <td>1</td>\n",
       "      <td>1</td>\n",
       "      <td>1</td>\n",
       "      <td>1</td>\n",
       "      <td>0</td>\n",
       "      <td>0</td>\n",
       "      <td>0</td>\n",
       "      <td>3103</td>\n",
       "      <td>0</td>\n",
       "    </tr>\n",
       "    <tr>\n",
       "      <th>2</th>\n",
       "      <td>3104</td>\n",
       "      <td>283</td>\n",
       "      <td>2</td>\n",
       "      <td>2021-06-14 13:18:59.120</td>\n",
       "      <td>NaN</td>\n",
       "      <td>1</td>\n",
       "      <td>Active</td>\n",
       "      <td>1861</td>\n",
       "      <td>1861</td>\n",
       "      <td>2021 New Flyer</td>\n",
       "      <td>...</td>\n",
       "      <td>0</td>\n",
       "      <td>1</td>\n",
       "      <td>1</td>\n",
       "      <td>1</td>\n",
       "      <td>1</td>\n",
       "      <td>0</td>\n",
       "      <td>0</td>\n",
       "      <td>0</td>\n",
       "      <td>3104</td>\n",
       "      <td>0</td>\n",
       "    </tr>\n",
       "    <tr>\n",
       "      <th>3</th>\n",
       "      <td>3116</td>\n",
       "      <td>286</td>\n",
       "      <td>2</td>\n",
       "      <td>2021-06-22 09:40:00.130</td>\n",
       "      <td>NaN</td>\n",
       "      <td>1</td>\n",
       "      <td>Active</td>\n",
       "      <td>1722</td>\n",
       "      <td>1722</td>\n",
       "      <td>2021 bus</td>\n",
       "      <td>...</td>\n",
       "      <td>0</td>\n",
       "      <td>1</td>\n",
       "      <td>1</td>\n",
       "      <td>1</td>\n",
       "      <td>1</td>\n",
       "      <td>0</td>\n",
       "      <td>0</td>\n",
       "      <td>0</td>\n",
       "      <td>3116</td>\n",
       "      <td>0</td>\n",
       "    </tr>\n",
       "    <tr>\n",
       "      <th>4</th>\n",
       "      <td>3117</td>\n",
       "      <td>287</td>\n",
       "      <td>2</td>\n",
       "      <td>2021-06-22 09:40:24.203</td>\n",
       "      <td>NaN</td>\n",
       "      <td>1</td>\n",
       "      <td>Active</td>\n",
       "      <td>1723</td>\n",
       "      <td>1723</td>\n",
       "      <td>2021 bus</td>\n",
       "      <td>...</td>\n",
       "      <td>0</td>\n",
       "      <td>1</td>\n",
       "      <td>1</td>\n",
       "      <td>1</td>\n",
       "      <td>1</td>\n",
       "      <td>0</td>\n",
       "      <td>0</td>\n",
       "      <td>0</td>\n",
       "      <td>3117</td>\n",
       "      <td>0</td>\n",
       "    </tr>\n",
       "  </tbody>\n",
       "</table>\n",
       "<p>5 rows × 38 columns</p>\n",
       "</div>"
      ],
      "text/plain": [
       "   VehicleKey  VehicleRecordID  TransitAuthorityKey               ActiveDate  \\\n",
       "0        1808               57                    1  2018-08-01 08:45:39.657   \n",
       "1        3103              282                    2  2021-06-14 13:18:37.577   \n",
       "2        3104              283                    2  2021-06-14 13:18:59.120   \n",
       "3        3116              286                    2  2021-06-22 09:40:00.130   \n",
       "4        3117              287                    2  2021-06-22 09:40:24.203   \n",
       "\n",
       "   DeleteDate  VehicleActive VehicleActiveDesc  VehicleFareboxID  \\\n",
       "0         NaN              1            Active              1407   \n",
       "1         NaN              1            Active              1860   \n",
       "2         NaN              1            Active              1861   \n",
       "3         NaN              1            Active              1722   \n",
       "4         NaN              1            Active              1723   \n",
       "\n",
       "  VehicleReportLabel     VehicleDesc  ...  HasMDC HasAPC HasAnnunciator  \\\n",
       "0               1407             NaN  ...       0      0              0   \n",
       "1               1860  2021 New Flyer  ...       0      1              1   \n",
       "2               1861  2021 New Flyer  ...       0      1              1   \n",
       "3               1722        2021 bus  ...       0      1              1   \n",
       "4               1723        2021 bus  ...       0      1              1   \n",
       "\n",
       "   HasVoice  HasData  HasJ1939  HasVoip  HasVideoTagging  \\\n",
       "0         1        1         0        0                0   \n",
       "1         1        1         0        0                0   \n",
       "2         1        1         0        0                0   \n",
       "3         1        1         0        0                0   \n",
       "4         1        1         0        0                0   \n",
       "\n",
       "   UniqueVehicleInternalId  ExcludeInd  \n",
       "0                        0           0  \n",
       "1                     3103           0  \n",
       "2                     3104           0  \n",
       "3                     3116           0  \n",
       "4                     3117           0  \n",
       "\n",
       "[5 rows x 38 columns]"
      ]
     },
     "execution_count": 7,
     "metadata": {},
     "output_type": "execute_result"
    }
   ],
   "source": [
    "df2.head()"
   ]
  },
  {
   "cell_type": "code",
   "execution_count": 8,
   "id": "93164101",
   "metadata": {},
   "outputs": [
    {
     "data": {
      "text/html": [
       "<div>\n",
       "<style scoped>\n",
       "    .dataframe tbody tr th:only-of-type {\n",
       "        vertical-align: middle;\n",
       "    }\n",
       "\n",
       "    .dataframe tbody tr th {\n",
       "        vertical-align: top;\n",
       "    }\n",
       "\n",
       "    .dataframe thead th {\n",
       "        text-align: right;\n",
       "    }\n",
       "</style>\n",
       "<table border=\"1\" class=\"dataframe\">\n",
       "  <thead>\n",
       "    <tr style=\"text-align: right;\">\n",
       "      <th></th>\n",
       "      <th>VehicleDesc</th>\n",
       "      <th>FleetGroupDesc</th>\n",
       "      <th>VehicleFareboxID</th>\n",
       "      <th>SeatingCapacity</th>\n",
       "      <th>TotalCapacity</th>\n",
       "      <th>LastOdometer (5/10/22, before 9:00AM)</th>\n",
       "    </tr>\n",
       "  </thead>\n",
       "  <tbody>\n",
       "    <tr>\n",
       "      <th>0</th>\n",
       "      <td>N - D4 - 11 Ford E350 - Cam-SD</td>\n",
       "      <td>Paratransit</td>\n",
       "      <td>5583</td>\n",
       "      <td>NaN</td>\n",
       "      <td>NaN</td>\n",
       "      <td>143748581</td>\n",
       "    </tr>\n",
       "    <tr>\n",
       "      <th>1</th>\n",
       "      <td>2006 GILLIG LowFloor</td>\n",
       "      <td>Fixed Route</td>\n",
       "      <td>1515</td>\n",
       "      <td>32.0</td>\n",
       "      <td>40.0</td>\n",
       "      <td>999999</td>\n",
       "    </tr>\n",
       "    <tr>\n",
       "      <th>2</th>\n",
       "      <td>2016 Van</td>\n",
       "      <td>Paratransit</td>\n",
       "      <td>5692</td>\n",
       "      <td>NaN</td>\n",
       "      <td>NaN</td>\n",
       "      <td>973862</td>\n",
       "    </tr>\n",
       "    <tr>\n",
       "      <th>3</th>\n",
       "      <td>2014 Ford Van</td>\n",
       "      <td>Paratransit</td>\n",
       "      <td>5647</td>\n",
       "      <td>NaN</td>\n",
       "      <td>NaN</td>\n",
       "      <td>654774</td>\n",
       "    </tr>\n",
       "    <tr>\n",
       "      <th>4</th>\n",
       "      <td>Maint test bench</td>\n",
       "      <td>Fixed Route</td>\n",
       "      <td>1508</td>\n",
       "      <td>32.0</td>\n",
       "      <td>40.0</td>\n",
       "      <td>484222</td>\n",
       "    </tr>\n",
       "  </tbody>\n",
       "</table>\n",
       "</div>"
      ],
      "text/plain": [
       "                      VehicleDesc FleetGroupDesc  VehicleFareboxID  \\\n",
       "0  N - D4 - 11 Ford E350 - Cam-SD    Paratransit              5583   \n",
       "1            2006 GILLIG LowFloor    Fixed Route              1515   \n",
       "2                        2016 Van    Paratransit              5692   \n",
       "3                   2014 Ford Van    Paratransit              5647   \n",
       "4                Maint test bench    Fixed Route              1508   \n",
       "\n",
       "   SeatingCapacity  TotalCapacity  LastOdometer (5/10/22, before 9:00AM)  \n",
       "0              NaN            NaN                              143748581  \n",
       "1             32.0           40.0                                 999999  \n",
       "2              NaN            NaN                                 973862  \n",
       "3              NaN            NaN                                 654774  \n",
       "4             32.0           40.0                                 484222  "
      ]
     },
     "execution_count": 8,
     "metadata": {},
     "output_type": "execute_result"
    }
   ],
   "source": [
    "df3.head()"
   ]
  },
  {
   "cell_type": "code",
   "execution_count": 9,
   "id": "1b713257",
   "metadata": {},
   "outputs": [
    {
     "data": {
      "text/html": [
       "<div>\n",
       "<style scoped>\n",
       "    .dataframe tbody tr th:only-of-type {\n",
       "        vertical-align: middle;\n",
       "    }\n",
       "\n",
       "    .dataframe tbody tr th {\n",
       "        vertical-align: top;\n",
       "    }\n",
       "\n",
       "    .dataframe thead th {\n",
       "        text-align: right;\n",
       "    }\n",
       "</style>\n",
       "<table border=\"1\" class=\"dataframe\">\n",
       "  <thead>\n",
       "    <tr style=\"text-align: right;\">\n",
       "      <th></th>\n",
       "      <th>Asset Class</th>\n",
       "      <th>Major Category</th>\n",
       "      <th>Asset Name</th>\n",
       "      <th>Year</th>\n",
       "      <th>Length</th>\n",
       "      <th>ID/Serial Number</th>\n",
       "      <th>Age</th>\n",
       "      <th>Vehicle Mileage</th>\n",
       "      <th>Replacement Cost/Value</th>\n",
       "      <th>Useful Life Benchmark</th>\n",
       "      <th>At or Past ULB</th>\n",
       "      <th>At or Past ULB.1</th>\n",
       "      <th>TERM Rating (Age Based Only)</th>\n",
       "      <th>Notes</th>\n",
       "      <th>Most Recent Odometer (5/10/22)</th>\n",
       "      <th>Difference (Extra Mileage)</th>\n",
       "    </tr>\n",
       "  </thead>\n",
       "  <tbody>\n",
       "    <tr>\n",
       "      <th>0</th>\n",
       "      <td>Minibus (MB)</td>\n",
       "      <td>Heavy</td>\n",
       "      <td>1193</td>\n",
       "      <td>2001</td>\n",
       "      <td>30</td>\n",
       "      <td>1C9S2HFS31W535214</td>\n",
       "      <td>20</td>\n",
       "      <td>48837</td>\n",
       "      <td>364805</td>\n",
       "      <td>13</td>\n",
       "      <td>Yes</td>\n",
       "      <td>-0.538462</td>\n",
       "      <td>1</td>\n",
       "      <td>NaN</td>\n",
       "      <td>NaN</td>\n",
       "      <td>NaN</td>\n",
       "    </tr>\n",
       "    <tr>\n",
       "      <th>1</th>\n",
       "      <td>Minibus (MB)</td>\n",
       "      <td>Heavy</td>\n",
       "      <td>1192</td>\n",
       "      <td>2001</td>\n",
       "      <td>30</td>\n",
       "      <td>1C9S2HFS11W535213</td>\n",
       "      <td>20</td>\n",
       "      <td>46244</td>\n",
       "      <td>364805</td>\n",
       "      <td>13</td>\n",
       "      <td>Yes</td>\n",
       "      <td>-0.538462</td>\n",
       "      <td>1</td>\n",
       "      <td>NaN</td>\n",
       "      <td>NaN</td>\n",
       "      <td>NaN</td>\n",
       "    </tr>\n",
       "    <tr>\n",
       "      <th>2</th>\n",
       "      <td>Vans (VN)</td>\n",
       "      <td>Light</td>\n",
       "      <td>5692</td>\n",
       "      <td>2016</td>\n",
       "      <td>Van</td>\n",
       "      <td>1FDEE3FS6GDC54974</td>\n",
       "      <td>5</td>\n",
       "      <td>124374</td>\n",
       "      <td>61547</td>\n",
       "      <td>4</td>\n",
       "      <td>Yes</td>\n",
       "      <td>-0.250000</td>\n",
       "      <td>2</td>\n",
       "      <td>NaN</td>\n",
       "      <td>973862.0</td>\n",
       "      <td>849488.0</td>\n",
       "    </tr>\n",
       "    <tr>\n",
       "      <th>3</th>\n",
       "      <td>Bus (BU)</td>\n",
       "      <td>Heavy</td>\n",
       "      <td>1515</td>\n",
       "      <td>2006</td>\n",
       "      <td>35</td>\n",
       "      <td>15GGB291161076810</td>\n",
       "      <td>15</td>\n",
       "      <td>499849</td>\n",
       "      <td>349657</td>\n",
       "      <td>12</td>\n",
       "      <td>Yes</td>\n",
       "      <td>-0.250000</td>\n",
       "      <td>2</td>\n",
       "      <td>NaN</td>\n",
       "      <td>999999.0</td>\n",
       "      <td>500150.0</td>\n",
       "    </tr>\n",
       "    <tr>\n",
       "      <th>4</th>\n",
       "      <td>Bus (BU)</td>\n",
       "      <td>Heavy</td>\n",
       "      <td>1510</td>\n",
       "      <td>2006</td>\n",
       "      <td>35</td>\n",
       "      <td>15GGB291861076805</td>\n",
       "      <td>15</td>\n",
       "      <td>348201</td>\n",
       "      <td>349657</td>\n",
       "      <td>12</td>\n",
       "      <td>Yes</td>\n",
       "      <td>-0.250000</td>\n",
       "      <td>2</td>\n",
       "      <td>NaN</td>\n",
       "      <td>484222.0</td>\n",
       "      <td>136021.0</td>\n",
       "    </tr>\n",
       "  </tbody>\n",
       "</table>\n",
       "</div>"
      ],
      "text/plain": [
       "    Asset Class Major Category  Asset Name  Year Length   ID/Serial Number  \\\n",
       "0  Minibus (MB)          Heavy        1193  2001     30  1C9S2HFS31W535214   \n",
       "1  Minibus (MB)          Heavy        1192  2001     30  1C9S2HFS11W535213   \n",
       "2     Vans (VN)          Light        5692  2016    Van  1FDEE3FS6GDC54974   \n",
       "3      Bus (BU)          Heavy        1515  2006     35  15GGB291161076810   \n",
       "4      Bus (BU)          Heavy        1510  2006     35  15GGB291861076805   \n",
       "\n",
       "   Age  Vehicle Mileage  Replacement Cost/Value  Useful Life Benchmark  \\\n",
       "0   20            48837                  364805                     13   \n",
       "1   20            46244                  364805                     13   \n",
       "2    5           124374                   61547                      4   \n",
       "3   15           499849                  349657                     12   \n",
       "4   15           348201                  349657                     12   \n",
       "\n",
       "  At or Past ULB  At or Past ULB.1  TERM Rating (Age Based Only) Notes  \\\n",
       "0            Yes         -0.538462                             1   NaN   \n",
       "1            Yes         -0.538462                             1   NaN   \n",
       "2            Yes         -0.250000                             2   NaN   \n",
       "3            Yes         -0.250000                             2   NaN   \n",
       "4            Yes         -0.250000                             2   NaN   \n",
       "\n",
       "   Most Recent Odometer (5/10/22)  Difference (Extra Mileage)  \n",
       "0                             NaN                         NaN  \n",
       "1                             NaN                         NaN  \n",
       "2                        973862.0                    849488.0  \n",
       "3                        999999.0                    500150.0  \n",
       "4                        484222.0                    136021.0  "
      ]
     },
     "execution_count": 9,
     "metadata": {},
     "output_type": "execute_result"
    }
   ],
   "source": [
    "df4.head()"
   ]
  },
  {
   "cell_type": "code",
   "execution_count": 20,
   "id": "5a7a2a42",
   "metadata": {},
   "outputs": [
    {
     "data": {
      "text/plain": [
       "<AxesSubplot:>"
      ]
     },
     "execution_count": 20,
     "metadata": {},
     "output_type": "execute_result"
    },
    {
     "data": {
      "image/png": "[encoded data removed]",
      "text/plain": [
       "<Figure size 720x864 with 1 Axes>"
      ]
     },
     "metadata": {
      "needs_background": "light"
     },
     "output_type": "display_data"
    }
   ],
   "source": [
    "df4['Asset Class'].hist(figsize = (10,12))"
   ]
  },
  {
   "cell_type": "code",
   "execution_count": 21,
   "id": "8f9c47b2",
   "metadata": {},
   "outputs": [
    {
     "data": {
      "text/plain": [
       "<AxesSubplot:>"
      ]
     },
     "execution_count": 21,
     "metadata": {},
     "output_type": "execute_result"
    },
    {
     "data": {
      "image/png": "[encoded data removed]",
      "text/plain": [
       "<Figure size 720x864 with 1 Axes>"
      ]
     },
     "metadata": {
      "needs_background": "light"
     },
     "output_type": "display_data"
    }
   ],
   "source": [
    "df4['Major Category'].hist(figsize = (10,12))"
   ]
  },
  {
   "cell_type": "code",
   "execution_count": 27,
   "id": "b9f2c343",
   "metadata": {},
   "outputs": [
    {
     "data": {
      "image/png": "[encoded data removed]",
      "text/plain": [
       "<Figure size 720x864 with 1 Axes>"
      ]
     },
     "metadata": {
      "needs_background": "light"
     },
     "output_type": "display_data"
    }
   ],
   "source": [
    "df4.plot(kind='scatter',x='Asset Class',y='Useful Life Benchmark',color='red', figsize = (10,12))\n",
    "plt.show()"
   ]
  },
  {
   "cell_type": "code",
   "execution_count": 28,
   "id": "7506a2d7",
   "metadata": {},
   "outputs": [
    {
     "data": {
      "image/png": "[encoded data removed]",
      "text/plain": [
       "<Figure size 720x864 with 1 Axes>"
      ]
     },
     "metadata": {
      "needs_background": "light"
     },
     "output_type": "display_data"
    }
   ],
   "source": [
    "df4.plot(kind='scatter',x='Asset Class',y='Age',color='red', figsize = (10,12))\n",
    "plt.show()"
   ]
  },
  {
   "cell_type": "code",
   "execution_count": 26,
   "id": "076c91ac",
   "metadata": {},
   "outputs": [
    {
     "data": {
      "text/plain": [
       "<AxesSubplot:>"
      ]
     },
     "execution_count": 26,
     "metadata": {},
     "output_type": "execute_result"
    },
    {
     "data": {
      "image/png": "[encoded data removed]",
      "text/plain": [
       "<Figure size 720x864 with 1 Axes>"
      ]
     },
     "metadata": {
      "needs_background": "light"
     },
     "output_type": "display_data"
    }
   ],
   "source": [
    "df4['At or Past ULB'].hist(figsize = (10,12))"
   ]
  },
  {
   "cell_type": "code",
   "execution_count": 29,
   "id": "a7716218",
   "metadata": {},
   "outputs": [
    {
     "data": {
      "text/plain": [
       "<AxesSubplot:>"
      ]
     },
     "execution_count": 29,
     "metadata": {},
     "output_type": "execute_result"
    },
    {
     "data": {
      "image/png": "[encoded data removed]",
      "text/plain": [
       "<Figure size 720x864 with 1 Axes>"
      ]
     },
     "metadata": {
      "needs_background": "light"
     },
     "output_type": "display_data"
    }
   ],
   "source": [
    "df4['Most Recent Odometer (5/10/22)'].hist(figsize = (10,12))\n"
   ]
  },
  {
   "cell_type": "code",
   "execution_count": 36,
   "id": "f1d5f064",
   "metadata": {},
   "outputs": [
    {
     "data": {
      "text/plain": [
       "<AxesSubplot:>"
      ]
     },
     "execution_count": 36,
     "metadata": {},
     "output_type": "execute_result"
    },
    {
     "data": {
      "image/png": "[encoded data removed]",
      "text/plain": [
       "<Figure size 720x864 with 1 Axes>"
      ]
     },
     "metadata": {
      "needs_background": "light"
     },
     "output_type": "display_data"
    }
   ],
   "source": [
    "df4['Vehicle Mileage'].hist(figsize = (10,12))"
   ]
  },
  {
   "cell_type": "code",
   "execution_count": 37,
   "id": "7ab8d031",
   "metadata": {},
   "outputs": [
    {
     "data": {
      "text/plain": [
       "<AxesSubplot:>"
      ]
     },
     "execution_count": 37,
     "metadata": {},
     "output_type": "execute_result"
    },
    {
     "data": {
      "image/png": "[encoded data removed]",
      "text/plain": [
       "<Figure size 720x864 with 1 Axes>"
      ]
     },
     "metadata": {
      "needs_background": "light"
     },
     "output_type": "display_data"
    }
   ],
   "source": [
    "df4['Replacement Cost/Value'].hist(figsize = (10,12))"
   ]
  },
  {
   "cell_type": "code",
   "execution_count": 35,
   "id": "a7314800",
   "metadata": {},
   "outputs": [],
   "source": [
    "#The odometer is used to measure the distance traveled while mileage, is the fuel consumption per kilometer. "
   ]
  },
  {
   "cell_type": "code",
   "execution_count": 31,
   "id": "3714f0be",
   "metadata": {},
   "outputs": [
    {
     "data": {
      "text/plain": [
       "340"
      ]
     },
     "execution_count": 31,
     "metadata": {},
     "output_type": "execute_result"
    }
   ],
   "source": [
    "len(df4['Asset Name'].unique())\n"
   ]
  },
  {
   "cell_type": "code",
   "execution_count": 32,
   "id": "b2c98a87",
   "metadata": {},
   "outputs": [
    {
     "data": {
      "text/plain": [
       "340"
      ]
     },
     "execution_count": 32,
     "metadata": {},
     "output_type": "execute_result"
    }
   ],
   "source": [
    "len(df4['ID/Serial Number'].unique())"
   ]
  },
  {
   "cell_type": "code",
   "execution_count": null,
   "id": "3f473eca",
   "metadata": {},
   "outputs": [],
   "source": []
  }
 ],
 "metadata": {
  "kernelspec": {
   "display_name": "Python 3 (ipykernel)",
   "language": "python",
   "name": "python3"
  },
  "language_info": {
   "codemirror_mode": {
    "name": "ipython",
    "version": 3
   },
   "file_extension": ".py",
   "mimetype": "text/x-python",
   "name": "python",
   "nbconvert_exporter": "python",
   "pygments_lexer": "ipython3",
   "version": "3.8.8"
  }
 },
 "nbformat": 4,
 "nbformat_minor": 5
}
