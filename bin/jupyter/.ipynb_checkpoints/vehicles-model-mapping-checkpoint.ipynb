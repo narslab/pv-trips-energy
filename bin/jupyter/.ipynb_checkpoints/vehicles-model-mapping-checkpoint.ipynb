{
 "cells": [
  {
   "cell_type": "code",
   "execution_count": 1,
   "id": "119e630a-bee6-4e6c-8493-ce1866a3381f",
   "metadata": {},
   "outputs": [],
   "source": [
    "import pandas as pd\n",
    "import matplotlib.pyplot as plt"
   ]
  },
  {
   "cell_type": "code",
   "execution_count": null,
   "id": "bba360bd",
   "metadata": {},
   "outputs": [],
   "source": [
    "df = pd.read_csv(r'../../results/computed-trajectories-v02.csv', delimiter=',', skiprows=0, low_memory=False)\n",
    "df2 = pd.read_csv(r'../../data/tidy/computed-trajectories-v02.csv', delimiter=',', skiprows=0, low_memory=False)"
   ]
  }
 ],
 "metadata": {
  "kernelspec": {
   "display_name": "Python 3 (ipykernel)",
   "language": "python",
   "name": "python3"
  },
  "language_info": {
   "codemirror_mode": {
    "name": "ipython",
    "version": 3
   },
   "file_extension": ".py",
   "mimetype": "text/x-python",
   "name": "python",
   "nbconvert_exporter": "python",
   "pygments_lexer": "ipython3",
   "version": "3.8.8"
  }
 },
 "nbformat": 4,
 "nbformat_minor": 5
}
