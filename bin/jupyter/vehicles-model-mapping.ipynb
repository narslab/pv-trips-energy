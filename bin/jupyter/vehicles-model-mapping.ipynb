{
 "cells": [
  {
   "cell_type": "code",
   "execution_count": 1,
   "id": "119e630a-bee6-4e6c-8493-ce1866a3381f",
   "metadata": {},
   "outputs": [],
   "source": [
    "import pandas as pd\n",
    "import matplotlib.pyplot as plt"
   ]
  },
  {
   "cell_type": "code",
   "execution_count": 41,
   "id": "102f5e1b",
   "metadata": {},
   "outputs": [],
   "source": [
    "### Map powertrain"
   ]
  },
  {
   "cell_type": "code",
   "execution_count": 42,
   "id": "de8f85c3",
   "metadata": {},
   "outputs": [],
   "source": [
    "df = pd.read_csv(r'../../results/computed-trajectories-v02.csv', delimiter=',', skiprows=0, low_memory=False)\n",
    "df2 = pd.read_csv(r'../../data/tidy/vehicles summary.csv', delimiter=',', skiprows=0, low_memory=False)"
   ]
  },
  {
   "cell_type": "code",
   "execution_count": 43,
   "id": "91a61d36",
   "metadata": {},
   "outputs": [
    {
     "data": {
      "text/plain": [
       "Index(['Operator', 'Model', 'Type', 'Year', 'Equipment ID',\n",
       "       'Fuel Orfluid Type'],\n",
       "      dtype='object')"
      ]
     },
     "execution_count": 43,
     "metadata": {},
     "output_type": "execute_result"
    }
   ],
   "source": [
    "df2.columns"
   ]
  },
  {
   "cell_type": "code",
   "execution_count": 44,
   "id": "42f9d804",
   "metadata": {},
   "outputs": [
    {
     "data": {
      "text/plain": [
       "Index(['Unnamed: 0', 'ServiceDateTime', 'Unnamed: 0.1', 'Unnamed: 0.1.1',\n",
       "       'DateKey', 'CalendarDate', 'Year', 'Month', 'OpKey', 'Operator',\n",
       "       'RtKey', 'RtKey2', 'Route', 'RouteName', 'TripKey', 'Trip', 'StopKey',\n",
       "       'Stop', 'StopName', 'Lat', 'Lon', 'Vehicle', 'VehicleType', 'SeatedCap',\n",
       "       'TotalCap', 'Boards', 'Alights', 'Onboard', 'Bike', 'Wheelchair',\n",
       "       'Weekday', 'Hour', 'Minute', 'Second', 'Date', 'Daytype', 'time',\n",
       "       'geometry', 'dist', 'speed', 'acc', 'time_delta',\n",
       "       'time_delta_in_seconds'],\n",
       "      dtype='object')"
      ]
     },
     "execution_count": 44,
     "metadata": {},
     "output_type": "execute_result"
    }
   ],
   "source": [
    "df.columns"
   ]
  },
  {
   "cell_type": "code",
   "execution_count": 45,
   "id": "36fd3855",
   "metadata": {},
   "outputs": [
    {
     "data": {
      "text/plain": [
       "array(['2011 New Flyer 40ft', 'Articulated Buses - V9000',\n",
       "       '2020 New Flyer', '2021 New Flyer', '2011 New Flyer - 7815',\n",
       "       'Articulated Bus V9000', '2014 New Flyer', '2010 Gillig LowFloor',\n",
       "       '2012 New Flyer', '2015 New Flyer', '2018 Gillig Low Floor',\n",
       "       'New Flyer 2020', '2008 GILLIG LowFloor', '2008 GIllig LowFloor',\n",
       "       '2006 GILLIG LowFloor', '2015 New Flyer 35ft', '2021 bus', '7551',\n",
       "       '2011 NewFlyer', '2018 Gillig lowfloor', '2016 Proterra',\n",
       "       '2011 New Flyer - 7811', '2020 Proterra', '7660',\n",
       "       '2018 Gillig Lowfloor', 'D4 RADIO   5574', '2008 Gillig LF',\n",
       "       '2021', '7661', '2011 New Flyer - 7813', '2011 New Flyer - 7814',\n",
       "       '2011 New Flyer 35ft', '2008 Gillig LowFloor', '2022 New Flyer',\n",
       "       '2011 New Flyer - 7802', '2010 GILLIG LowFloor',\n",
       "       'Electric New Flyer', '2009 Gillig LowFloor',\n",
       "       '2011 New Flyer - 7801', '7552', '7662', '2011 New Flyer - 7812',\n",
       "       nan, '7610', '7550', '2011 New Flyer', '2007 Gillig LowFloor'],\n",
       "      dtype=object)"
      ]
     },
     "execution_count": 45,
     "metadata": {},
     "output_type": "execute_result"
    }
   ],
   "source": [
    "df['VehicleType'].unique()"
   ]
  },
  {
   "cell_type": "code",
   "execution_count": 46,
   "id": "c70d0bbe",
   "metadata": {},
   "outputs": [
    {
     "name": "stdout",
     "output_type": "stream",
     "text": [
      "{'conventional': [1406, 1510, 1513, 1515, 1618, 1619, 1621, 1630, 1632, 1552, 1553, 1554, 1555, 1556, 1557, 1558, 1559, 1561, 1562, 1640, 1641, 1642, 1643, 1644, 1645, 1646, 1647, 1648, 1649, 1563, 1564, 1565, 1566, 1567, 1568, 1569, 1571, 1572, 1573, 1574, 1575, 1576, 1577, 1578, 1650, 1651, 1652, 1653, 1654, 1655, 1656, 1657, 1658, 1659, 1660, 1661, 1662, 1663, 1664, 1701, 1810, 1811, 1812, 1813, 1814, 1815, 1816, 1817, 1818, 1819, 1821, 1822, 1823, 1824, 1825, 1826, 1830, 1831, 1832, 1833, 1834, 1835, 1836, 1837, 1710, 1711, 1712, 1713, 1714, 1840, 1841, 1842, 1843, 1844, 1845, 1846, 1847, 1848, 1849, 1670, 1671, 1672, 1673, 1715, 1716, 1717, 1718, 1719, 1720, 1850, 1851, 1852, 1853, 1854, 1855, 1856, 1721, 1722, 1723, 1857, 1858, 1859, 1860, 1861, 1724, 1725, 1726, 1727, 1728, 1729, 1862, 1863, 1864, 3211, 3307, 3308, 7610, 7550, 7551, 7660, 7661, 7662, 7552, 7801, 7802, 7811, 7812, 7813, 7814, 7815, 7902, 7553, 7554, 7816, 7817], 'electric': [1413, 1414, 1415, 1416, 1320, 1321, 1322, 1323, 1420, 1421, 7700], 'hybrid': [1801, 1802, 1803, 1804, 1805, 7901]}\n"
     ]
    }
   ],
   "source": [
    "mydict = df2.groupby('Type')['Equipment ID'].agg(list).to_dict()\n",
    "print (mydict)"
   ]
  },
  {
   "cell_type": "code",
   "execution_count": 47,
   "id": "30409c4c",
   "metadata": {},
   "outputs": [],
   "source": [
    "d = {val:key for key, lst in mydict.items() for val in lst}\n",
    "df['Powertrain'] = df['Vehicle'].map(d)"
   ]
  },
  {
   "cell_type": "code",
   "execution_count": 48,
   "id": "8bc08787",
   "metadata": {},
   "outputs": [
    {
     "data": {
      "text/plain": [
       "array([nan, 'hybrid', 'conventional', 'electric'], dtype=object)"
      ]
     },
     "execution_count": 48,
     "metadata": {},
     "output_type": "execute_result"
    }
   ],
   "source": [
    "df['Powertrain'].unique()"
   ]
  },
  {
   "cell_type": "code",
   "execution_count": 49,
   "id": "a8de189d",
   "metadata": {},
   "outputs": [
    {
     "data": {
      "text/plain": [
       "0                   NaN\n",
       "1                hybrid\n",
       "2                   NaN\n",
       "3                   NaN\n",
       "4                   NaN\n",
       "               ...     \n",
       "1361544             NaN\n",
       "1361545             NaN\n",
       "1361546    conventional\n",
       "1361547             NaN\n",
       "1361548             NaN\n",
       "Name: Powertrain, Length: 1361549, dtype: object"
      ]
     },
     "execution_count": 49,
     "metadata": {},
     "output_type": "execute_result"
    }
   ],
   "source": [
    "df['Powertrain']"
   ]
  },
  {
   "cell_type": "code",
   "execution_count": 28,
   "id": "6df3385b",
   "metadata": {},
   "outputs": [],
   "source": [
    "df.to_csv(r'../../results/trajectories-mapped-powertrain.csv')"
   ]
  },
  {
   "cell_type": "code",
   "execution_count": 30,
   "id": "b115840d",
   "metadata": {},
   "outputs": [],
   "source": [
    "### Map models"
   ]
  },
  {
   "cell_type": "code",
   "execution_count": 52,
   "id": "d18a0ac0",
   "metadata": {},
   "outputs": [
    {
     "data": {
      "text/html": [
       "<div>\n",
       "<style scoped>\n",
       "    .dataframe tbody tr th:only-of-type {\n",
       "        vertical-align: middle;\n",
       "    }\n",
       "\n",
       "    .dataframe tbody tr th {\n",
       "        vertical-align: top;\n",
       "    }\n",
       "\n",
       "    .dataframe thead th {\n",
       "        text-align: right;\n",
       "    }\n",
       "</style>\n",
       "<table border=\"1\" class=\"dataframe\">\n",
       "  <thead>\n",
       "    <tr style=\"text-align: right;\">\n",
       "      <th></th>\n",
       "      <th>Operator</th>\n",
       "      <th>Model</th>\n",
       "      <th>Type</th>\n",
       "      <th>Year</th>\n",
       "      <th>Equipment ID</th>\n",
       "      <th>Fuel Orfluid Type</th>\n",
       "    </tr>\n",
       "  </thead>\n",
       "  <tbody>\n",
       "    <tr>\n",
       "      <th>0</th>\n",
       "      <td>CTF (Cottage Street)</td>\n",
       "      <td>2006 GILLIG 30`</td>\n",
       "      <td>conventional</td>\n",
       "      <td>2006.0</td>\n",
       "      <td>1406</td>\n",
       "      <td>DIE</td>\n",
       "    </tr>\n",
       "    <tr>\n",
       "      <th>1</th>\n",
       "      <td>CTF (Cottage Street)</td>\n",
       "      <td>2006 GILLIG 35`</td>\n",
       "      <td>conventional</td>\n",
       "      <td>2006.0</td>\n",
       "      <td>1510</td>\n",
       "      <td>DIE</td>\n",
       "    </tr>\n",
       "    <tr>\n",
       "      <th>2</th>\n",
       "      <td>CTF (Cottage Street)</td>\n",
       "      <td>2006 GILLIG 35`</td>\n",
       "      <td>conventional</td>\n",
       "      <td>2006.0</td>\n",
       "      <td>1513</td>\n",
       "      <td>DIE</td>\n",
       "    </tr>\n",
       "    <tr>\n",
       "      <th>3</th>\n",
       "      <td>CTF (Cottage Street)</td>\n",
       "      <td>2006 GILLIG 35`</td>\n",
       "      <td>conventional</td>\n",
       "      <td>2006.0</td>\n",
       "      <td>1515</td>\n",
       "      <td>DIE</td>\n",
       "    </tr>\n",
       "    <tr>\n",
       "      <th>4</th>\n",
       "      <td>CTF (Cottage Street)</td>\n",
       "      <td>2006 GILLIG 40`</td>\n",
       "      <td>conventional</td>\n",
       "      <td>2006.0</td>\n",
       "      <td>1618</td>\n",
       "      <td>DIE</td>\n",
       "    </tr>\n",
       "    <tr>\n",
       "      <th>...</th>\n",
       "      <td>...</td>\n",
       "      <td>...</td>\n",
       "      <td>...</td>\n",
       "      <td>...</td>\n",
       "      <td>...</td>\n",
       "      <td>...</td>\n",
       "    </tr>\n",
       "    <tr>\n",
       "      <th>167</th>\n",
       "      <td>NTF (VATCo)</td>\n",
       "      <td>2020 NEW FLYER XD35</td>\n",
       "      <td>conventional</td>\n",
       "      <td>2020.0</td>\n",
       "      <td>7553</td>\n",
       "      <td>NaN</td>\n",
       "    </tr>\n",
       "    <tr>\n",
       "      <th>168</th>\n",
       "      <td>NTF (VATCo)</td>\n",
       "      <td>NaN</td>\n",
       "      <td>conventional</td>\n",
       "      <td>NaN</td>\n",
       "      <td>7554</td>\n",
       "      <td>NaN</td>\n",
       "    </tr>\n",
       "    <tr>\n",
       "      <th>169</th>\n",
       "      <td>NTF (VATCo)</td>\n",
       "      <td>2021 NEW FLYER XD40</td>\n",
       "      <td>conventional</td>\n",
       "      <td>2021.0</td>\n",
       "      <td>7816</td>\n",
       "      <td>NaN</td>\n",
       "    </tr>\n",
       "    <tr>\n",
       "      <th>170</th>\n",
       "      <td>NTF (VATCo)</td>\n",
       "      <td>2021 NEW FLYER XE40 (ELECTRIC)</td>\n",
       "      <td>electric</td>\n",
       "      <td>2021.0</td>\n",
       "      <td>7700</td>\n",
       "      <td>NaN</td>\n",
       "    </tr>\n",
       "    <tr>\n",
       "      <th>171</th>\n",
       "      <td>NTF (VATCo)</td>\n",
       "      <td>2022 NEW FLYER XD40</td>\n",
       "      <td>conventional</td>\n",
       "      <td>2022.0</td>\n",
       "      <td>7817</td>\n",
       "      <td>NaN</td>\n",
       "    </tr>\n",
       "  </tbody>\n",
       "</table>\n",
       "<p>172 rows × 6 columns</p>\n",
       "</div>"
      ],
      "text/plain": [
       "                 Operator                           Model          Type  \\\n",
       "0    CTF (Cottage Street)                 2006 GILLIG 30`  conventional   \n",
       "1    CTF (Cottage Street)                 2006 GILLIG 35`  conventional   \n",
       "2    CTF (Cottage Street)                 2006 GILLIG 35`  conventional   \n",
       "3    CTF (Cottage Street)                 2006 GILLIG 35`  conventional   \n",
       "4    CTF (Cottage Street)                 2006 GILLIG 40`  conventional   \n",
       "..                    ...                             ...           ...   \n",
       "167           NTF (VATCo)             2020 NEW FLYER XD35  conventional   \n",
       "168           NTF (VATCo)                             NaN  conventional   \n",
       "169           NTF (VATCo)             2021 NEW FLYER XD40  conventional   \n",
       "170           NTF (VATCo)  2021 NEW FLYER XE40 (ELECTRIC)      electric   \n",
       "171           NTF (VATCo)             2022 NEW FLYER XD40  conventional   \n",
       "\n",
       "       Year  Equipment ID Fuel Orfluid Type  \n",
       "0    2006.0          1406               DIE  \n",
       "1    2006.0          1510               DIE  \n",
       "2    2006.0          1513               DIE  \n",
       "3    2006.0          1515               DIE  \n",
       "4    2006.0          1618               DIE  \n",
       "..      ...           ...               ...  \n",
       "167  2020.0          7553               NaN  \n",
       "168     NaN          7554               NaN  \n",
       "169  2021.0          7816               NaN  \n",
       "170  2021.0          7700               NaN  \n",
       "171  2022.0          7817               NaN  \n",
       "\n",
       "[172 rows x 6 columns]"
      ]
     },
     "execution_count": 52,
     "metadata": {},
     "output_type": "execute_result"
    }
   ],
   "source": [
    "df2"
   ]
  },
  {
   "cell_type": "code",
   "execution_count": 54,
   "id": "24790d5c",
   "metadata": {},
   "outputs": [
    {
     "data": {
      "text/plain": [
       "array(['2006 GILLIG 30`', '2006 GILLIG 35`', '2006 GILLIG 40`',\n",
       "       '2007 GILLIG 40`', '2008 GILLIG 35`', '2008 GILLIG 40`',\n",
       "       '2010 GILLIG 35`', '2010 GILLIG 40`', '2011 NEW FLYER XD35',\n",
       "       '2011 NEW FLYER XD40', '2011 NEW FLYER XD40 (HYBRID)',\n",
       "       '2012 NEW FLYER XD40', '2014 NEW FLYER XD40',\n",
       "       '2015 NEW FLYER XD35', '2015 NEW FLYER XD40', '2018 GILLIG 40`',\n",
       "       '2020 NEW FLYER XD35', '2020 NEW FLYER XD40',\n",
       "       '2020 PROTERRA CATALYST BE-40 (ELECTRIC)', '2021 NEW FLYER XD35',\n",
       "       '2021 NEW FLYER XD40', '2021 NEW FLYER XE35 (ELECTRIC)',\n",
       "       '2021 NEW FLYER XE40 (ELECTRIC)', '2022 NEW FLYER XD35',\n",
       "       '2022 NEW FLYER XD40', 'UMTS GILLIG', 'UMTS NEW FLYER',\n",
       "       '2009 GILLIG 40`', nan, '2013 NEW FLYER XDE60 (ARTIC) (HYBRID)'],\n",
       "      dtype=object)"
      ]
     },
     "execution_count": 54,
     "metadata": {},
     "output_type": "execute_result"
    }
   ],
   "source": [
    "df2['Model'].unique()"
   ]
  },
  {
   "cell_type": "code",
   "execution_count": 85,
   "id": "9f6b669e",
   "metadata": {},
   "outputs": [
    {
     "name": "stderr",
     "output_type": "stream",
     "text": [
      "C:\\Users\\Mahsa\\AppData\\Local\\Temp/ipykernel_13316/291724791.py:11: FutureWarning: The default value of regex will change from True to False in a future version.\n",
      "  df2.Model=df2.Model.astype(str).str.replace('2011 NEW FLYER XD40 (HYBRID)', 'New Flyer 40 hybrid')\n",
      "C:\\Users\\Mahsa\\AppData\\Local\\Temp/ipykernel_13316/291724791.py:19: FutureWarning: The default value of regex will change from True to False in a future version.\n",
      "  df2.Model=df2.Model.astype(str).str.replace('2020 PROTERRA CATALYST BE-40 (ELECTRIC)', 'Proterra 40 electric')\n",
      "C:\\Users\\Mahsa\\AppData\\Local\\Temp/ipykernel_13316/291724791.py:22: FutureWarning: The default value of regex will change from True to False in a future version.\n",
      "  df2.Model=df2.Model.astype(str).str.replace('2021 NEW FLYER XE35 (ELECTRIC)', 'New Flyer 35 electric')\n",
      "C:\\Users\\Mahsa\\AppData\\Local\\Temp/ipykernel_13316/291724791.py:23: FutureWarning: The default value of regex will change from True to False in a future version.\n",
      "  df2.Model=df2.Model.astype(str).str.replace('2021 NEW FLYER XE40 (ELECTRIC)', 'New Flyer 40 electric')\n",
      "C:\\Users\\Mahsa\\AppData\\Local\\Temp/ipykernel_13316/291724791.py:29: FutureWarning: The default value of regex will change from True to False in a future version.\n",
      "  df2.Model=df2.Model.astype(str).str.replace('2021 NEW FLYER XE35 (ELECTRIC)', 'New Flyer 35 electric')\n",
      "C:\\Users\\Mahsa\\AppData\\Local\\Temp/ipykernel_13316/291724791.py:30: FutureWarning: The default value of regex will change from True to False in a future version.\n",
      "  df2.Model=df2.Model.astype(str).str.replace('2013 NEW FLYER XDE60 (ARTIC) (HYBRID)', 'New Flyer 60 hybrid')\n"
     ]
    }
   ],
   "source": [
    "df2.Model=df2.Model.astype(str).str.replace('2006 GILLIG 30`', 'Gillig 30 conventional')\n",
    "df2.Model=df2.Model.astype(str).str.replace('2006 GILLIG 35`', 'Gillig 35 conventional')\n",
    "df2.Model=df2.Model.astype(str).str.replace('2006 GILLIG 40`', 'Gillig 40 conventional')\n",
    "df2.Model=df2.Model.astype(str).str.replace('2007 GILLIG 40`', 'Gillig 40 conventional')\n",
    "df2.Model=df2.Model.astype(str).str.replace('2008 GILLIG 35`', 'Gillig 35 conventional')\n",
    "df2.Model=df2.Model.astype(str).str.replace('2008 GILLIG 40`', 'Gillig 40 conventional')\n",
    "df2.Model=df2.Model.astype(str).str.replace('2010 GILLIG 35`', 'Gillig 35 conventional')\n",
    "df2.Model=df2.Model.astype(str).str.replace('2010 GILLIG 40`', 'Gillig 40 conventional')\n",
    "df2.Model=df2.Model.astype(str).str.replace('2011 NEW FLYER XD35', 'New Flyer 35 conventional')\n",
    "df2.Model=df2.Model.astype(str).str.replace('2011 NEW FLYER XD40', 'New Flyer 40 conventional')\n",
    "df2.Model=df2.Model.astype(str).str.replace('2011 NEW FLYER XD40 (HYBRID)', 'New Flyer 40 hybrid')\n",
    "df2.Model=df2.Model.astype(str).str.replace('2012 NEW FLYER XD40', 'New Flyer 40 conventional')\n",
    "df2.Model=df2.Model.astype(str).str.replace('2014 NEW FLYER XD40', 'New Flyer 40 conventional')\n",
    "df2.Model=df2.Model.astype(str).str.replace('2015 NEW FLYER XD35', 'New Flyer 35 conventional')\n",
    "df2.Model=df2.Model.astype(str).str.replace('2015 NEW FLYER XD40', 'New Flyer 40 conventional')\n",
    "df2.Model=df2.Model.astype(str).str.replace('2018 GILLIG 40`', 'Gillig 40 conventional')\n",
    "df2.Model=df2.Model.astype(str).str.replace('2020 NEW FLYER XD35', 'New Flyer 35 conventional')\n",
    "df2.Model=df2.Model.astype(str).str.replace('2020 NEW FLYER XD40', 'New Flyer 40 conventional')\n",
    "df2.Model=df2.Model.astype(str).str.replace('2020 PROTERRA CATALYST BE-40 (ELECTRIC)', 'Proterra 40 electric')\n",
    "df2.Model=df2.Model.astype(str).str.replace('2021 NEW FLYER XD35', 'New Flyer 35 conventional')\n",
    "df2.Model=df2.Model.astype(str).str.replace('2021 NEW FLYER XD40', 'New Flyer 40 conventional')\n",
    "df2.Model=df2.Model.astype(str).str.replace('2021 NEW FLYER XE35 (ELECTRIC)', 'New Flyer 35 electric')\n",
    "df2.Model=df2.Model.astype(str).str.replace('2021 NEW FLYER XE40 (ELECTRIC)', 'New Flyer 40 electric')\n",
    "df2.Model=df2.Model.astype(str).str.replace('2022 NEW FLYER XD35', 'New Flyer 35 conventional')\n",
    "df2.Model=df2.Model.astype(str).str.replace('2022 NEW FLYER XD40', 'New Flyer 40 conventional')\n",
    "df2.Model=df2.Model.astype(str).str.replace('UMTS GILLIG', 'Gillig 35 conventional')\n",
    "df2.Model=df2.Model.astype(str).str.replace('UMTS NEW FLYER', 'New Flyer 35 conventional')\n",
    "df2.Model=df2.Model.astype(str).str.replace('2009 GILLIG 40`', 'Gillig 40 conventional')\n",
    "df2.Model=df2.Model.astype(str).str.replace('2021 NEW FLYER XE35 (ELECTRIC)', 'New Flyer 35 electric')\n",
    "df2.Model=df2.Model.astype(str).str.replace('2013 NEW FLYER XDE60 (ARTIC) (HYBRID)', 'New Flyer 60 hybrid')\n",
    "#df2.Model=df2.Model.astype(str).str.replace('2020 PROTERRA CATALYST BE-40 (ELECTRIC)', 'Proterra 40 electric')\n",
    "#df2.Model=df2.Model.astype(str).str.replace('2021 NEW FLYER XE35 (ELECTRIC)', 'New Flyer 35 electric')\n",
    "#df2.Model=df2.Model.astype(str).str.replace('2021 NEW FLYER XE35 (ELECTRIC)', 'New Flyer 35 electric')\n",
    "#df2.Model=df2.Model.astype(str).str.replace('2021 NEW FLYER XE40 (ELECTRIC)', 'New Flyer 40 electric')"
   ]
  },
  {
   "cell_type": "code",
   "execution_count": 88,
   "id": "89c22f2f",
   "metadata": {},
   "outputs": [
    {
     "data": {
      "text/plain": [
       "array(['Gillig conventional', 'Gillig 40 conventional',\n",
       "       'New Flyer conventional', 'New Flyer conventional (HYBRID)',\n",
       "       'New Flyer 40 conventional', 'New Flyer 35 conventional',\n",
       "       '2020 PROTERRA CATALYST BE-40 (ELECTRIC)',\n",
       "       '2021 NEW FLYER XE35 (ELECTRIC)', '2021 NEW FLYER XE40 (ELECTRIC)',\n",
       "       'nan', '2013 NEW FLYER XDE60 (ARTIC) (HYBRID)'], dtype=object)"
      ]
     },
     "execution_count": 88,
     "metadata": {},
     "output_type": "execute_result"
    }
   ],
   "source": [
    "df2.Model.unique()"
   ]
  },
  {
   "cell_type": "code",
   "execution_count": 108,
   "id": "8a8dfaf4",
   "metadata": {},
   "outputs": [
    {
     "name": "stdout",
     "output_type": "stream",
     "text": [
      "{'2013 NEW FLYER XDE60 (ARTIC) (HYBRID)': [7901], '2020 PROTERRA CATALYST BE-40 (ELECTRIC)': [1413, 1414, 1415, 1416], '2021 NEW FLYER XE35 (ELECTRIC)': [1320, 1321, 1322, 1323], '2021 NEW FLYER XE40 (ELECTRIC)': [1420, 1421, 7700], 'Gillig 40 conventional': [1640, 1641, 1642, 1643, 1644, 1645, 1646, 1647, 1648, 1649, 1670, 1671, 1672, 1673], 'Gillig conventional': [1406, 1510, 1513, 1515, 1618, 1619, 1621, 1630, 1632, 1552, 1553, 1554, 1555, 1556, 1557, 1558, 1559, 1561, 1562, 1563, 1564, 1565, 1566, 1567, 1568, 1569, 1571, 1572, 1573, 1574, 1575, 1576, 1577, 1578, 1650, 1651, 1652, 1653, 1654, 1655, 1656, 1657, 1658, 1659, 1660, 1661, 1662, 1663, 1664, 3211, 7610, 7550, 7551, 7660, 7552], 'New Flyer 35 conventional': [1710, 1711, 1712, 1713, 1714, 1715, 1716, 1717, 1718, 1719, 1720, 1721, 1722, 1723, 1724, 1725, 1726, 1727, 1728, 1729, 7553], 'New Flyer 40 conventional': [1830, 1831, 1832, 1833, 1834, 1835, 1836, 1837, 1840, 1841, 1842, 1843, 1844, 1845, 1846, 1847, 1848, 1849, 1850, 1851, 1852, 1853, 1854, 1855, 1856, 1857, 1858, 1859, 1860, 1861, 1862, 1863, 1864, 7816, 7817], 'New Flyer conventional': [1701, 1810, 1811, 1812, 1813, 1814, 1815, 1816, 1817, 1818, 1819, 1821, 1822, 1823, 1824, 1825, 1826, 3307, 3308, 7801, 7811], 'New Flyer conventional (HYBRID)': [1801, 1802, 1803, 1804, 1805], 'nan': [7661, 7662, 7802, 7812, 7813, 7814, 7815, 7902, 7554]}\n"
     ]
    }
   ],
   "source": [
    "mydict = df2.groupby('Model')['Equipment ID'].agg(list).to_dict()\n",
    "print (mydict)"
   ]
  },
  {
   "cell_type": "code",
   "execution_count": 109,
   "id": "33914381",
   "metadata": {},
   "outputs": [],
   "source": [
    "d = {val:key for key, lst in mydict.items() for val in lst}\n",
    "df['VehicleModel'] = df['Vehicle'].map(d)"
   ]
  },
  {
   "cell_type": "code",
   "execution_count": 110,
   "id": "8ef9bc23",
   "metadata": {},
   "outputs": [
    {
     "data": {
      "text/plain": [
       "array([nan, '2013 NEW FLYER XDE60 (ARTIC) (HYBRID)', 'nan',\n",
       "       'Gillig conventional', 'New Flyer conventional',\n",
       "       'New Flyer 40 conventional', 'Gillig 40 conventional',\n",
       "       'New Flyer 35 conventional',\n",
       "       '2020 PROTERRA CATALYST BE-40 (ELECTRIC)',\n",
       "       'New Flyer conventional (HYBRID)',\n",
       "       '2021 NEW FLYER XE40 (ELECTRIC)', '2021 NEW FLYER XE35 (ELECTRIC)'],\n",
       "      dtype=object)"
      ]
     },
     "execution_count": 110,
     "metadata": {},
     "output_type": "execute_result"
    }
   ],
   "source": [
    "df['VehicleModel'].unique()"
   ]
  },
  {
   "cell_type": "code",
   "execution_count": 111,
   "id": "3339c9df",
   "metadata": {},
   "outputs": [],
   "source": [
    "df.VehicleModel=df.VehicleModel.replace('2013 NEW FLYER XDE60 (ARTIC) (HYBRID)', 'New Flyer 60 hybrid')\n",
    "df.VehicleModel=df.VehicleModel.replace('2021 NEW FLYER XE40 (ELECTRIC)', 'New Flyer 40 electric')\n",
    "df.VehicleModel=df.VehicleModel.replace('2021 NEW FLYER XE35 (ELECTRIC)', 'New Flyer 35 electric')\n",
    "df.VehicleModel=df.VehicleModel.replace('2020 PROTERRA CATALYST BE-40 (ELECTRIC)', 'Proterra 40 electric')\n",
    "df.VehicleModel=df.VehicleModel.replace('New Flyer conventional (HYBRID)', 'New Flyer 60 hybrid')"
   ]
  },
  {
   "cell_type": "code",
   "execution_count": 112,
   "id": "a3aebd00",
   "metadata": {},
   "outputs": [
    {
     "data": {
      "text/plain": [
       "array([nan, 'New Flyer 60 hybrid', 'nan', 'Gillig conventional',\n",
       "       'New Flyer conventional', 'New Flyer 40 conventional',\n",
       "       'Gillig 40 conventional', 'New Flyer 35 conventional',\n",
       "       'Proterra 40 electric', 'New Flyer 40 electric',\n",
       "       'New Flyer 35 electric'], dtype=object)"
      ]
     },
     "execution_count": 112,
     "metadata": {},
     "output_type": "execute_result"
    }
   ],
   "source": [
    "df['VehicleModel'].unique()"
   ]
  },
  {
   "cell_type": "code",
   "execution_count": 131,
   "id": "1144ad32",
   "metadata": {},
   "outputs": [],
   "source": [
    "# weughts for different models\n",
    "thisdict = {\n",
    "  42250: [\"New Flyer 60 hybrid\"],\n",
    "  26440: [\"Gillig conventional\"],\n",
    "  27180: [\"New Flyer conventional\"],\n",
    "  26000: [\"New Flyer 40 conventional\"],\n",
    "  27180: [\"Gillig 40 conventional\"],\n",
    "  26900: [\"New Flyer 35 conventional\"],\n",
    "  27370: [\"Proterra 40 electric\"],\n",
    "  32770: [\"New Flyer 40 electric\"],\n",
    "  26900: [\"New Flyer 35 electric\"],\n",
    "}"
   ]
  },
  {
   "cell_type": "code",
   "execution_count": 120,
   "id": "912b5abc",
   "metadata": {},
   "outputs": [],
   "source": [
    "# weughts for different models\n",
    "thisdict = {\n",
    "  \"New Flyer 60 hybrid\":42250,\n",
    "  \"Gillig conventional\": 26440,\n",
    "  \"New Flyer conventional\": 27180 ,\n",
    "  \"New Flyer 40 conventional\": 26000 ,\n",
    "  \"Gillig 40 conventional\": 27180 ,\n",
    "  \"New Flyer 35 conventional\": 26900 ,\n",
    "  \"Proterra 40 electric\": 27370 ,\n",
    "  \"New Flyer 40 electric\": 32770 ,\n",
    "  \"New Flyer 35 electric\": 26900 ,\n",
    "}"
   ]
  },
  {
   "cell_type": "code",
   "execution_count": 132,
   "id": "4bdf1236",
   "metadata": {},
   "outputs": [],
   "source": [
    "d = {val:key for key, lst in thisdict.items() for val in lst}\n",
    "df['VehiclWeight(lb)'] = df['VehicleModel'].map(d)"
   ]
  },
  {
   "cell_type": "code",
   "execution_count": 133,
   "id": "64f81e77",
   "metadata": {},
   "outputs": [
    {
     "data": {
      "text/plain": [
       "array([   nan, 42250., 26440., 26000., 27180., 27370., 32770., 26900.])"
      ]
     },
     "execution_count": 133,
     "metadata": {},
     "output_type": "execute_result"
    }
   ],
   "source": [
    "df['VehiclWeight(lb)'].unique()"
   ]
  },
  {
   "cell_type": "code",
   "execution_count": 134,
   "id": "de78fa16",
   "metadata": {},
   "outputs": [],
   "source": [
    "df.to_csv(r'../../results/trajectories-mapped-powertrain-weight.csv')"
   ]
  },
  {
   "cell_type": "code",
   "execution_count": 136,
   "id": "6386491f",
   "metadata": {},
   "outputs": [],
   "source": [
    "df = pd.read_csv(r'../../results/trajectories-mapped-powertrain-weight.csv', delimiter=',', skiprows=0, low_memory=False)"
   ]
  },
  {
   "cell_type": "code",
   "execution_count": 137,
   "id": "7a55335e",
   "metadata": {},
   "outputs": [
    {
     "data": {
      "text/html": [
       "<div>\n",
       "<style scoped>\n",
       "    .dataframe tbody tr th:only-of-type {\n",
       "        vertical-align: middle;\n",
       "    }\n",
       "\n",
       "    .dataframe tbody tr th {\n",
       "        vertical-align: top;\n",
       "    }\n",
       "\n",
       "    .dataframe thead th {\n",
       "        text-align: right;\n",
       "    }\n",
       "</style>\n",
       "<table border=\"1\" class=\"dataframe\">\n",
       "  <thead>\n",
       "    <tr style=\"text-align: right;\">\n",
       "      <th></th>\n",
       "      <th>Unnamed: 0</th>\n",
       "      <th>Unnamed: 0.1</th>\n",
       "      <th>ServiceDateTime</th>\n",
       "      <th>Unnamed: 0.1.1</th>\n",
       "      <th>Unnamed: 0.1.1.1</th>\n",
       "      <th>DateKey</th>\n",
       "      <th>CalendarDate</th>\n",
       "      <th>Year</th>\n",
       "      <th>Month</th>\n",
       "      <th>OpKey</th>\n",
       "      <th>...</th>\n",
       "      <th>time</th>\n",
       "      <th>geometry</th>\n",
       "      <th>dist</th>\n",
       "      <th>speed</th>\n",
       "      <th>acc</th>\n",
       "      <th>time_delta</th>\n",
       "      <th>time_delta_in_seconds</th>\n",
       "      <th>Powertrain</th>\n",
       "      <th>VehicleModel</th>\n",
       "      <th>VehiclWeight(lb)</th>\n",
       "    </tr>\n",
       "  </thead>\n",
       "  <tbody>\n",
       "    <tr>\n",
       "      <th>0</th>\n",
       "      <td>0</td>\n",
       "      <td>1062086</td>\n",
       "      <td>2022-04-01 00:00:00</td>\n",
       "      <td>1062086</td>\n",
       "      <td>46929</td>\n",
       "      <td>8760</td>\n",
       "      <td>2022-04-01 00:00:00.000</td>\n",
       "      <td>2022</td>\n",
       "      <td>4</td>\n",
       "      <td>3</td>\n",
       "      <td>...</td>\n",
       "      <td>00:00:00</td>\n",
       "      <td>POINT (-72.52066 42.35495)</td>\n",
       "      <td>0.0</td>\n",
       "      <td>0.0</td>\n",
       "      <td>0.0</td>\n",
       "      <td>NaN</td>\n",
       "      <td>NaN</td>\n",
       "      <td>NaN</td>\n",
       "      <td>NaN</td>\n",
       "      <td>NaN</td>\n",
       "    </tr>\n",
       "    <tr>\n",
       "      <th>1</th>\n",
       "      <td>1</td>\n",
       "      <td>1346943</td>\n",
       "      <td>2022-04-01 00:00:08</td>\n",
       "      <td>1346943</td>\n",
       "      <td>2437</td>\n",
       "      <td>8760</td>\n",
       "      <td>2022-04-01 00:00:00.000</td>\n",
       "      <td>2022</td>\n",
       "      <td>4</td>\n",
       "      <td>1</td>\n",
       "      <td>...</td>\n",
       "      <td>00:00:08</td>\n",
       "      <td>POINT (-72.596076 42.342024)</td>\n",
       "      <td>0.0</td>\n",
       "      <td>0.0</td>\n",
       "      <td>0.0</td>\n",
       "      <td>NaN</td>\n",
       "      <td>NaN</td>\n",
       "      <td>hybrid</td>\n",
       "      <td>New Flyer 60 hybrid</td>\n",
       "      <td>42250.0</td>\n",
       "    </tr>\n",
       "    <tr>\n",
       "      <th>2</th>\n",
       "      <td>2</td>\n",
       "      <td>1174966</td>\n",
       "      <td>2022-04-01 00:00:12</td>\n",
       "      <td>1174966</td>\n",
       "      <td>46955</td>\n",
       "      <td>8760</td>\n",
       "      <td>2022-04-01 00:00:00.000</td>\n",
       "      <td>2022</td>\n",
       "      <td>4</td>\n",
       "      <td>3</td>\n",
       "      <td>...</td>\n",
       "      <td>00:00:12</td>\n",
       "      <td>POINT (-72.53207 42.32619)</td>\n",
       "      <td>0.0</td>\n",
       "      <td>0.0</td>\n",
       "      <td>0.0</td>\n",
       "      <td>NaN</td>\n",
       "      <td>NaN</td>\n",
       "      <td>NaN</td>\n",
       "      <td>NaN</td>\n",
       "      <td>NaN</td>\n",
       "    </tr>\n",
       "    <tr>\n",
       "      <th>3</th>\n",
       "      <td>3</td>\n",
       "      <td>1213526</td>\n",
       "      <td>2022-04-01 00:00:18</td>\n",
       "      <td>1213526</td>\n",
       "      <td>48367</td>\n",
       "      <td>8760</td>\n",
       "      <td>2022-04-01 00:00:00.000</td>\n",
       "      <td>2022</td>\n",
       "      <td>4</td>\n",
       "      <td>3</td>\n",
       "      <td>...</td>\n",
       "      <td>00:00:18</td>\n",
       "      <td>POINT (-72.4762 42.35348)</td>\n",
       "      <td>0.0</td>\n",
       "      <td>0.0</td>\n",
       "      <td>0.0</td>\n",
       "      <td>NaN</td>\n",
       "      <td>NaN</td>\n",
       "      <td>NaN</td>\n",
       "      <td>NaN</td>\n",
       "      <td>NaN</td>\n",
       "    </tr>\n",
       "    <tr>\n",
       "      <th>4</th>\n",
       "      <td>4</td>\n",
       "      <td>1213527</td>\n",
       "      <td>2022-04-01 00:00:18</td>\n",
       "      <td>1213527</td>\n",
       "      <td>50425</td>\n",
       "      <td>8760</td>\n",
       "      <td>2022-04-01 00:00:00.000</td>\n",
       "      <td>2022</td>\n",
       "      <td>4</td>\n",
       "      <td>3</td>\n",
       "      <td>...</td>\n",
       "      <td>00:00:18</td>\n",
       "      <td>POINT (-72.4762 42.35348)</td>\n",
       "      <td>0.0</td>\n",
       "      <td>0.0</td>\n",
       "      <td>0.0</td>\n",
       "      <td>0 days 00:00:00</td>\n",
       "      <td>0.0</td>\n",
       "      <td>NaN</td>\n",
       "      <td>NaN</td>\n",
       "      <td>NaN</td>\n",
       "    </tr>\n",
       "  </tbody>\n",
       "</table>\n",
       "<p>5 rows × 47 columns</p>\n",
       "</div>"
      ],
      "text/plain": [
       "   Unnamed: 0  Unnamed: 0.1      ServiceDateTime  Unnamed: 0.1.1  \\\n",
       "0           0       1062086  2022-04-01 00:00:00         1062086   \n",
       "1           1       1346943  2022-04-01 00:00:08         1346943   \n",
       "2           2       1174966  2022-04-01 00:00:12         1174966   \n",
       "3           3       1213526  2022-04-01 00:00:18         1213526   \n",
       "4           4       1213527  2022-04-01 00:00:18         1213527   \n",
       "\n",
       "   Unnamed: 0.1.1.1  DateKey             CalendarDate  Year  Month  OpKey  \\\n",
       "0             46929     8760  2022-04-01 00:00:00.000  2022      4      3   \n",
       "1              2437     8760  2022-04-01 00:00:00.000  2022      4      1   \n",
       "2             46955     8760  2022-04-01 00:00:00.000  2022      4      3   \n",
       "3             48367     8760  2022-04-01 00:00:00.000  2022      4      3   \n",
       "4             50425     8760  2022-04-01 00:00:00.000  2022      4      3   \n",
       "\n",
       "   ...      time                      geometry  dist speed  acc  \\\n",
       "0  ...  00:00:00    POINT (-72.52066 42.35495)   0.0   0.0  0.0   \n",
       "1  ...  00:00:08  POINT (-72.596076 42.342024)   0.0   0.0  0.0   \n",
       "2  ...  00:00:12    POINT (-72.53207 42.32619)   0.0   0.0  0.0   \n",
       "3  ...  00:00:18     POINT (-72.4762 42.35348)   0.0   0.0  0.0   \n",
       "4  ...  00:00:18     POINT (-72.4762 42.35348)   0.0   0.0  0.0   \n",
       "\n",
       "        time_delta time_delta_in_seconds  Powertrain         VehicleModel  \\\n",
       "0              NaN                   NaN         NaN                  NaN   \n",
       "1              NaN                   NaN      hybrid  New Flyer 60 hybrid   \n",
       "2              NaN                   NaN         NaN                  NaN   \n",
       "3              NaN                   NaN         NaN                  NaN   \n",
       "4  0 days 00:00:00                   0.0         NaN                  NaN   \n",
       "\n",
       "  VehiclWeight(lb)  \n",
       "0              NaN  \n",
       "1          42250.0  \n",
       "2              NaN  \n",
       "3              NaN  \n",
       "4              NaN  \n",
       "\n",
       "[5 rows x 47 columns]"
      ]
     },
     "execution_count": 137,
     "metadata": {},
     "output_type": "execute_result"
    }
   ],
   "source": [
    "df.head()"
   ]
  },
  {
   "cell_type": "code",
   "execution_count": 140,
   "id": "7a26b4d9",
   "metadata": {},
   "outputs": [
    {
     "data": {
      "text/plain": [
       "Unnamed: 0               1361549\n",
       "Unnamed: 0.1             1361549\n",
       "ServiceDateTime          1361549\n",
       "Unnamed: 0.1.1           1361549\n",
       "Unnamed: 0.1.1.1         1361549\n",
       "DateKey                  1361549\n",
       "CalendarDate             1361549\n",
       "Year                     1361549\n",
       "Month                    1361549\n",
       "OpKey                    1361549\n",
       "Operator                 1361549\n",
       "RtKey                    1361549\n",
       "RtKey2                   1361549\n",
       "Route                    1361549\n",
       "RouteName                1352172\n",
       "TripKey                  1361549\n",
       "Trip                     1361549\n",
       "StopKey                  1361549\n",
       "Stop                     1361549\n",
       "StopName                 1361549\n",
       "Lat                      1357366\n",
       "Lon                      1357366\n",
       "Vehicle                  1361549\n",
       "VehicleType              1334766\n",
       "SeatedCap                1348537\n",
       "TotalCap                 1348537\n",
       "Boards                   1361549\n",
       "Alights                  1361549\n",
       "Onboard                  1361549\n",
       "Bike                     1361549\n",
       "Wheelchair               1361549\n",
       "Weekday                  1361549\n",
       "Hour                     1361549\n",
       "Minute                   1361549\n",
       "Second                   1361549\n",
       "Date                     1361549\n",
       "Daytype                  1361549\n",
       "time                     1361549\n",
       "geometry                 1361549\n",
       "dist                     1353490\n",
       "speed                    1353493\n",
       "acc                      1350302\n",
       "time_delta               1358460\n",
       "time_delta_in_seconds    1358460\n",
       "Powertrain               1127248\n",
       "VehicleModel             1080201\n",
       "VehiclWeight(lb)          718367\n",
       "dtype: int64"
      ]
     },
     "execution_count": 140,
     "metadata": {},
     "output_type": "execute_result"
    }
   ],
   "source": [
    "df.count()"
   ]
  },
  {
   "cell_type": "code",
   "execution_count": null,
   "id": "669ea840",
   "metadata": {},
   "outputs": [],
   "source": []
  }
 ],
 "metadata": {
  "kernelspec": {
   "display_name": "Python 3 (ipykernel)",
   "language": "python",
   "name": "python3"
  },
  "language_info": {
   "codemirror_mode": {
    "name": "ipython",
    "version": 3
   },
   "file_extension": ".py",
   "mimetype": "text/x-python",
   "name": "python",
   "nbconvert_exporter": "python",
   "pygments_lexer": "ipython3",
   "version": "3.9.13"
  }
 },
 "nbformat": 4,
 "nbformat_minor": 5
}
